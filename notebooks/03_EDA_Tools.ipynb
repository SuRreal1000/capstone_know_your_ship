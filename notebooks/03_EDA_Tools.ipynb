{
 "cells": [
  {
   "cell_type": "markdown",
   "metadata": {},
   "source": [
    "# EDA Tools\n"
   ]
  },
  {
   "cell_type": "markdown",
   "metadata": {},
   "source": [
    "Due to the NDA fro the stakeholder, the EDA can not be shown here.  \n",
    "However we will show standard plots used in the EDA."
   ]
  },
  {
   "cell_type": "markdown",
   "metadata": {},
   "source": [
    "---"
   ]
  },
  {
   "cell_type": "markdown",
   "metadata": {},
   "source": [
    "\n",
    "### Import libraries"
   ]
  },
  {
   "cell_type": "code",
   "execution_count": null,
   "metadata": {},
   "outputs": [],
   "source": [
    "import pandas as pd\n",
    "import matplotlib.pyplot as plt\n",
    "import seaborn as sns\n",
    "import plotly.express as px\n",
    "import plotly.graph_objects as go"
   ]
  },
  {
   "cell_type": "markdown",
   "metadata": {},
   "source": [
    "---"
   ]
  },
  {
   "cell_type": "markdown",
   "metadata": {},
   "source": [
    "### Read data file \"Featureengineering\""
   ]
  },
  {
   "cell_type": "markdown",
   "metadata": {},
   "source": [
    "For the EDA, the data composed within the feature engineering notebook is used. This data set consists of the high frequency data with reduced features, the daily noon report data, and the predictions from the engine model.\n"
   ]
  },
  {
   "cell_type": "code",
   "execution_count": null,
   "metadata": {},
   "outputs": [],
   "source": [
    "# read data from .csv file\n",
    "df = pd.read_csv('../data/Featureselection03.csv')"
   ]
  },
  {
   "cell_type": "code",
   "execution_count": null,
   "metadata": {},
   "outputs": [],
   "source": [
    "# convert date to datetime\n",
    "df['EntryDate'] = pd.to_datetime(df['EntryDate'])"
   ]
  },
  {
   "cell_type": "markdown",
   "metadata": {},
   "source": [
    "### Read file \"Feature importance list\""
   ]
  },
  {
   "cell_type": "code",
   "execution_count": null,
   "metadata": {},
   "outputs": [],
   "source": [
    "# read list with feature importance\n",
    "data_log = pd.read_csv('../data/Capstone_features_Features.csv')"
   ]
  },
  {
   "cell_type": "code",
   "execution_count": null,
   "metadata": {},
   "outputs": [],
   "source": [
    "# create list of important features (feature importance < 3)\n",
    "list_imp_feat = list(data_log[data_log['ModelImportance'] < 3]['VarName'])\n",
    "len(list_imp_feat)\n",
    "\n",
    "# create dataframe containing only important features\n",
    "df_model = df[list_imp_feat].copy()"
   ]
  },
  {
   "cell_type": "markdown",
   "metadata": {},
   "source": [
    "---"
   ]
  },
  {
   "cell_type": "markdown",
   "metadata": {},
   "source": [
    "### Correlation matrix"
   ]
  },
  {
   "cell_type": "markdown",
   "metadata": {},
   "source": [
    "To check if there are features that are related to each other and thus have no added value, a correlation matrix is evaluated. For this matrix only important features (compare notebook Featureengineering) are used."
   ]
  },
  {
   "cell_type": "code",
   "execution_count": null,
   "metadata": {},
   "outputs": [],
   "source": [
    "# plot heatmap of correlations\n",
    "plt.figure(figsize = (40,38))\n",
    "sns.heatmap(df_model.corr(), annot = True, cmap = 'RdYlGn');"
   ]
  },
  {
   "cell_type": "markdown",
   "metadata": {},
   "source": [
    "---"
   ]
  },
  {
   "cell_type": "markdown",
   "metadata": {},
   "source": [
    "### Histogram"
   ]
  },
  {
   "cell_type": "markdown",
   "metadata": {},
   "source": [
    "Histograms give us a first overview of the distribution of target and features. By using different colors, influencing factors like passage type can be investigated."
   ]
  },
  {
   "cell_type": "code",
   "execution_count": null,
   "metadata": {},
   "outputs": [],
   "source": [
    "px.histogram(df, x='ME.FMS.act.tPh',\n",
    "        color='passage_type', \n",
    "        barmode='overlay',\n",
    "        histnorm='percent')"
   ]
  },
  {
   "cell_type": "markdown",
   "metadata": {},
   "source": [
    "---"
   ]
  },
  {
   "cell_type": "markdown",
   "metadata": {},
   "source": [
    "### Scatter plot"
   ]
  },
  {
   "cell_type": "markdown",
   "metadata": {},
   "source": [
    "Interactions between the target and a feature but also between two features can be visualised with scatter plots."
   ]
  },
  {
   "cell_type": "code",
   "execution_count": null,
   "metadata": {},
   "outputs": [],
   "source": [
    "px.scatter(df,x='V.SOG.act.kn',\n",
    "            y='ME.FMS.act.tPh',\n",
    "            color='passage_type')"
   ]
  },
  {
   "cell_type": "markdown",
   "metadata": {},
   "source": [
    "---"
   ]
  },
  {
   "cell_type": "markdown",
   "metadata": {},
   "source": [
    "### Timeseries"
   ]
  },
  {
   "cell_type": "markdown",
   "metadata": {},
   "source": [
    "Not only point observations are intersting, but also the developement of the target over time. It is also useful to compare timeseries of features to this in order to identify similar pattern and/or influencing factors."
   ]
  },
  {
   "cell_type": "code",
   "execution_count": null,
   "metadata": {},
   "outputs": [],
   "source": [
    "fig = go.Figure()\n",
    "fig.add_trace(go.Scatter(\n",
    "    x=df[(df['EntryDate'] > '2021-08-12 16:30:00') & (df['EntryDate'] <= '2021-08-22 20:45:00')]['EntryDate'], \n",
    "    y=df[(df['EntryDate'] > '2021-08-12 16:30:00') & (df['EntryDate'] <= '2021-08-22 20:45:00')]['ME.FMS.act.tPh'],\n",
    "    mode='markers', marker=dict(color='#ff6600',size=5)))\n",
    "fig.show()"
   ]
  },
  {
   "cell_type": "markdown",
   "metadata": {},
   "source": [
    "---"
   ]
  },
  {
   "cell_type": "markdown",
   "metadata": {},
   "source": [
    "### Map"
   ]
  },
  {
   "cell_type": "markdown",
   "metadata": {},
   "source": [
    "We would like to visualise the route the ship was taking during the investigated time period. Beside the date, we could use other features for coloring to highlight spatial pattern."
   ]
  },
  {
   "cell_type": "code",
   "execution_count": null,
   "metadata": {},
   "outputs": [],
   "source": [
    "fig = px.scatter_mapbox(lat=df['V.GPSLAT.act.deg'],\n",
    "                        lon=df['V.GPSLON.act.deg'],\n",
    "                        color=df['EntryDate'].dt.month,\n",
    "                        width=600, height=700,\n",
    "                        title='Route during investigated time period', \n",
    "                        labels={'lat':'Latitude','lon':'Longitude','color':'Month'},\n",
    "                        color_continuous_scale=px.colors.sequential.Oranges,\n",
    "                        zoom=1.5)\n",
    "fig.update_layout(mapbox_style=\"carto-positron\",\n",
    "                  title_font_family=\"Arial\",\n",
    "                  title_font_color=\"grey\",\n",
    "                  title_font_size=24,\n",
    "                  title_x=0.5,\n",
    "                  coloraxis_showscale=False\n",
    ")\n",
    "fig.show()"
   ]
  },
  {
   "cell_type": "markdown",
   "metadata": {},
   "source": [
    "---"
   ]
  },
  {
   "cell_type": "markdown",
   "metadata": {},
   "source": [
    "### Wind rose"
   ]
  },
  {
   "cell_type": "markdown",
   "metadata": {},
   "source": [
    "In order to show frequencies of wind speed and direction, a wind rose is usedful. This plot combines the two wind features in one polar coordinate system. Following steps are needed for this plot:\n",
    "1. Create a dataframe for the wind rose.\n",
    "2. Transform wind speed from m/s to beaufort and create bins.\n",
    "3. Create 16 bins for wind directions. Make sure that the bin for 'North' includes 348.75° to 360° __and__ 0° to 11.25°. The other bins cover 22.5° each.\n",
    "4. Group and count wind speed and direction.\n",
    "5. Give the right names to wind directions.\n",
    "6. Make a bar polar plot."
   ]
  },
  {
   "cell_type": "code",
   "execution_count": null,
   "metadata": {},
   "outputs": [],
   "source": [
    "# 1. dataframe for wind rose\n",
    "wind_rose_df = df[['WEA.WDT.act.deg','WEA.WST.act.mPs']]\n",
    "\n",
    "# 2. wind speed bins\n",
    "wind_rose_df['wind_speed_bf'] = pd.cut(wind_rose_df['WEA.WST.act.mPs'],\n",
    "        bins=[0, 0.3, 1.5, 3.3, 5.4, 7.9, 10.7, 13.8, 17.1, 20.7, 24.4, 28.4, 32.6, 100000],\n",
    "        labels=['0 bf', '1 bf', '2 bf', '3 bf', '4 bf', '5 bf', '6 bf', '7 bf', '8 bf', '9 bf', '10 bf', '11 bf', '12 bf'])\n",
    "\n",
    "# 3. wind direction bins\n",
    "wind_rose_df['wind_dir'] = pd.cut(wind_rose_df['WEA.WDT.act.deg'],\n",
    "        bins=[0, 11.25, 33.75, 56.25, 78.75, 101.25, 123.75, 146.25, 168.75, 191.25, 213.75, 236.25, 258.75, 281.25, 303.75, 326.25, 348.75, 360.00],\n",
    "        labels=[1, 2, 3, 4, 5, 6, 7, 8, 9, 10, 11, 12, 13, 14, 15, 16, 1],\n",
    "        # we use numbers as labels to keep them in the right order during the next step\n",
    "        # otherwise an alphabetical sorting ocures\n",
    "        ordered=False)\n",
    "\n",
    "# 4. group and count\n",
    "wind_rose_df = wind_rose_df.groupby(['wind_dir','wind_speed_bf']).size().reset_index(name='frequency')\n",
    "\n",
    "# 5. Convert wind directions\n",
    "wind_rose_df['wind_dir'].replace({1:'N',2:'NNE',3:'NE',4:'ENE',5:'E',6:'ESE',7:'SE',8:'SSE',9:'S',10:'SSW',11:'SW',12:'WSW',13:'W',14:'WNW',15:'NW',16:'NNW'}, inplace=True)\n",
    "\n",
    "# 6. bar polar plot\n",
    "fig = px.bar_polar(wind_rose_df,theta='wind_dir',r='frequency',\n",
    "                   color='wind_speed_bf',\n",
    "                   color_discrete_sequence=px.colors.sequential.Oranges,\n",
    "                   labels={'wind_speed_bf':'Wind Speed'})\n",
    "fig.show()"
   ]
  }
 ],
 "metadata": {
  "interpreter": {
   "hash": "ad8f7a3d93ea9b275449e95c0ce6ee25301282232d0b608b79db5bcbac100c75"
  },
  "kernelspec": {
   "display_name": "Python 3.9.4 64-bit ('.venv': venv)",
   "name": "python3"
  },
  "language_info": {
   "codemirror_mode": {
    "name": "ipython",
    "version": 3
   },
   "file_extension": ".py",
   "mimetype": "text/x-python",
   "name": "python",
   "nbconvert_exporter": "python",
   "pygments_lexer": "ipython3",
   "version": "3.9.4"
  },
  "orig_nbformat": 4
 },
 "nbformat": 4,
 "nbformat_minor": 2
}
