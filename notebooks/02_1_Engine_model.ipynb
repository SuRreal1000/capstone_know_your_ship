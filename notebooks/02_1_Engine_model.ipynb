{
 "cells": [
  {
   "cell_type": "markdown",
   "metadata": {},
   "source": [
    "# 02_1 Engine Model\n",
    "Due to NDA agreements no data can be displayed.\n",
    "\n",
    "In this notebook a power prediction model is shown. It is based on the CFD calculations for a certain hull shape with varying draft, trim and speed.  \n",
    "The data is given and prepared as .csv file to be read.  \n",
    "\n",
    "Even the model is more predicting the theoretical power demand by the vessel, the model is called \"Engine Model\"."
   ]
  },
  {
   "cell_type": "markdown",
   "metadata": {},
   "source": [
    "### Imports"
   ]
  },
  {
   "cell_type": "code",
   "execution_count": null,
   "metadata": {},
   "outputs": [],
   "source": [
    "# Package and library import\n",
    "import pandas as pd\n",
    "import numpy as np\n",
    "import math\n",
    "\n",
    "import seaborn as sns\n",
    "import matplotlib.pyplot as plt\n",
    "import plotly.express as px\n",
    "\n",
    "from sklearn.model_selection import train_test_split\n",
    "\n",
    "from sklearn.tree import DecisionTreeRegressor\n",
    "from sklearn.ensemble import RandomForestRegressor\n",
    "\n",
    "from sklearn.metrics import mean_squared_error"
   ]
  },
  {
   "cell_type": "markdown",
   "metadata": {},
   "source": [
    "### Read data from \"Engine_Model_Data\""
   ]
  },
  {
   "cell_type": "code",
   "execution_count": null,
   "metadata": {},
   "outputs": [],
   "source": [
    "# Read data\n",
    "df = pd.read_csv('../data/Engine_Model_Data.csv')\n",
    "\n",
    "# Remove withspace and replace by '_'\n",
    "df.columns = df.columns.map(lambda h: ''.join(h).replace(' ', '_'))"
   ]
  },
  {
   "cell_type": "code",
   "execution_count": null,
   "metadata": {},
   "outputs": [],
   "source": [
    "# Correct the wrong .dot in Power [kW]\n",
    "df['Power_(PD)_[kW]'] *= 1000 "
   ]
  },
  {
   "cell_type": "markdown",
   "metadata": {},
   "source": [
    "### Visualize the data"
   ]
  },
  {
   "cell_type": "code",
   "execution_count": null,
   "metadata": {},
   "outputs": [],
   "source": [
    "px.scatter(df, x='Power_(PD)_[kW]', y='Speed_[kn]', color = 'Power_(PD)_[kW]', color_continuous_scale=['#ff6600','#ff6600'])"
   ]
  },
  {
   "cell_type": "code",
   "execution_count": null,
   "metadata": {},
   "outputs": [],
   "source": [
    "px.scatter(df, x='Trim_[m]', y='Mean_Draft_[m]')"
   ]
  },
  {
   "cell_type": "markdown",
   "metadata": {},
   "source": [
    "### Drop features"
   ]
  },
  {
   "cell_type": "code",
   "execution_count": null,
   "metadata": {},
   "outputs": [],
   "source": [
    "lst_drop = ['Dynamic_draft_AP_[m]', 'Dynamic_mean_draft_[m]', 'Dynamic_draft_FP_[m]', 'Dynamic_trim_[m]', 'Volume_[m^3]', 'Draft_AP_[m]', 'Draft_FP_[m]']\n",
    "df = df.drop(lst_drop, axis = 1)"
   ]
  },
  {
   "cell_type": "code",
   "execution_count": null,
   "metadata": {},
   "outputs": [],
   "source": [
    "df.info(verbose=True)"
   ]
  },
  {
   "cell_type": "markdown",
   "metadata": {},
   "source": [
    "### Correlation matrix"
   ]
  },
  {
   "cell_type": "code",
   "execution_count": null,
   "metadata": {},
   "outputs": [],
   "source": [
    "plt.figure(figsize = (10,10))\n",
    "sns.heatmap(df.corr(), annot = True, cmap = 'RdYlGn')"
   ]
  },
  {
   "cell_type": "markdown",
   "metadata": {},
   "source": [
    "### Model Details"
   ]
  },
  {
   "cell_type": "code",
   "execution_count": null,
   "metadata": {},
   "outputs": [],
   "source": [
    "# Define target\n",
    "X = df.drop(['Power_(PD)_[kW]'], axis = 1)\n",
    "y = df['Power_(PD)_[kW]']"
   ]
  },
  {
   "cell_type": "code",
   "execution_count": null,
   "metadata": {},
   "outputs": [],
   "source": [
    "# Train-Test-Split\n",
    "X_train, X_test, y_train, y_test = train_test_split(X, y, test_size = 0.25, random_state = 42)"
   ]
  },
  {
   "cell_type": "markdown",
   "metadata": {},
   "source": [
    "The test train split is done with 25% as it is commen."
   ]
  },
  {
   "cell_type": "code",
   "execution_count": null,
   "metadata": {},
   "outputs": [],
   "source": [
    "# Fit RandomForest Regression model\n",
    "model = RandomForestRegressor()\n",
    "model.fit(X_train, y_train)"
   ]
  },
  {
   "cell_type": "code",
   "execution_count": null,
   "metadata": {},
   "outputs": [],
   "source": [
    "# Predict\n",
    "y_predict = model.predict(X_test)"
   ]
  },
  {
   "cell_type": "markdown",
   "metadata": {},
   "source": [
    "### MSE"
   ]
  },
  {
   "cell_type": "markdown",
   "metadata": {},
   "source": [
    "As model metric the mean squared error (MSE) is used."
   ]
  },
  {
   "cell_type": "code",
   "execution_count": null,
   "metadata": {},
   "outputs": [],
   "source": [
    "mse = mean_squared_error(y_test, y_predict)\n",
    "rmse = math.sqrt(mean_squared_error(y_test, y_predict))\n",
    "# print the predicted value\n",
    "print(\"Mean Squared Error : % d\" % mse) \n",
    "print(\"Root Mean Squared Error : % d\" % rmse) "
   ]
  },
  {
   "cell_type": "code",
   "execution_count": null,
   "metadata": {},
   "outputs": [],
   "source": [
    "# plot predicted data \n",
    "plt.scatter(y_test, model.predict(X_test), color = 'blue')  \n",
    "\n",
    "# specify title and labels\n",
    "plt.title('Power Prediction Theoretical Ship Engine Model with (RandomForestRegression)')  \n",
    "plt.xlabel('Power') \n",
    "plt.ylabel('Power predicted') \n",
    "plt.show() "
   ]
  },
  {
   "cell_type": "markdown",
   "metadata": {},
   "source": [
    "## Model Evaluation\n",
    "Use the Model with \"test\" data to evaluate the model. a test set of values is used to predict and check the outcome of the model.\n"
   ]
  },
  {
   "cell_type": "code",
   "execution_count": null,
   "metadata": {},
   "outputs": [],
   "source": [
    "# Input order: Draft [m], Trim [m], Speed [kn] \n",
    "Value_set = [[6.8, 5.8, 8.0]]"
   ]
  },
  {
   "cell_type": "code",
   "execution_count": null,
   "metadata": {},
   "outputs": [],
   "source": [
    "Value_predict = model.predict(Value_set)\n",
    "\n",
    "print('Test Value out put : % f' % Value_predict) "
   ]
  },
  {
   "cell_type": "markdown",
   "metadata": {},
   "source": [
    "The validation of the model shows the following:\n",
    "\n",
    "DecisionTreeRegressor: The values are predicted precise in the case a datapoint is given als input. For datapoints between given model points, the result is rounded either up or down with a treshhold of .5\n",
    "\n",
    "RandomForestRegressor: the predicted values are close to the given datapoints in the target. The differences are small and hence selected for further use to predict the theoretical required Power of the engine to move the vessel."
   ]
  },
  {
   "cell_type": "markdown",
   "metadata": {},
   "source": [
    "### Use pickle to safe model \n",
    "The model is safed with the help of pickle and made available for use in the \"Featureengineering\" notebook to predict the power with the draft, trim and speeds from the ship."
   ]
  },
  {
   "cell_type": "code",
   "execution_count": null,
   "metadata": {},
   "outputs": [],
   "source": [
    "#import pickle\n",
    "\n",
    "# safe model\n",
    "#RandForestReg_EngineModel = '../models/RFReg_Engine_Model.sav'\n",
    "#pickle.dump(model, open(RandForestReg_EngineModel, 'wb'))"
   ]
  },
  {
   "cell_type": "markdown",
   "metadata": {},
   "source": [
    "Safeing the model is enabled to not generate unwanted models ann data."
   ]
  },
  {
   "cell_type": "markdown",
   "metadata": {},
   "source": [
    "## Summary\n",
    "The idea is to predict the power with a model which was trained on different, external data. This might improve or simplified the model, but his has to be tested and proven in the modeling part."
   ]
  },
  {
   "cell_type": "markdown",
   "metadata": {},
   "source": []
  }
 ],
 "metadata": {
  "interpreter": {
   "hash": "058e5cf08ad8e8e38edbe9c10825490f60d4aca9a740903d9052e170a9966397"
  },
  "kernelspec": {
   "display_name": "Python 3.9.4 64-bit ('.venv': venv)",
   "language": "python",
   "name": "python3"
  },
  "language_info": {
   "codemirror_mode": {
    "name": "ipython",
    "version": 3
   },
   "file_extension": ".py",
   "mimetype": "text/x-python",
   "name": "python",
   "nbconvert_exporter": "python",
   "pygments_lexer": "ipython3",
   "version": "3.9.4"
  },
  "orig_nbformat": 4
 },
 "nbformat": 4,
 "nbformat_minor": 2
}
