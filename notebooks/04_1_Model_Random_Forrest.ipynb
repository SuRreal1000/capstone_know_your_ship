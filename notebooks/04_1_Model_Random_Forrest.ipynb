{
 "cells": [
  {
   "cell_type": "markdown",
   "metadata": {},
   "source": [
    "# Random Forrest"
   ]
  },
  {
   "cell_type": "markdown",
   "metadata": {},
   "source": [
    "## Prepare for modelling"
   ]
  },
  {
   "cell_type": "markdown",
   "metadata": {},
   "source": [
    "### Import libraries and read data"
   ]
  },
  {
   "cell_type": "code",
   "execution_count": 160,
   "metadata": {},
   "outputs": [],
   "source": [
    "import pandas as pd \n",
    "import numpy as np\n",
    "\n",
    "from sklearn.metrics import mean_squared_error\n",
    "from sklearn.pipeline import make_pipeline\n",
    "from sklearn.preprocessing import MinMaxScaler\n",
    "from sklearn.model_selection import train_test_split, GridSearchCV\n",
    "from sklearn.tree import DecisionTreeRegressor, plot_tree\n",
    "from sklearn.ensemble import RandomForestRegressor\n",
    "from sklearn.inspection import permutation_importance\n",
    "\n",
    "import seaborn as sns\n",
    "import matplotlib.pyplot as plt\n",
    "import plotly.express as px\n",
    "\n",
    "import sys\n",
    "sys.path.append(\"..\")\n",
    "import mlflow\n",
    "from modeling.config import EXPERIMENT_NAME\n",
    "TRACKING_URI = open(\"../.mlflow_uri\").read().strip()\n",
    "\n",
    "from yellowbrick.regressor import ResidualsPlot"
   ]
  },
  {
   "cell_type": "code",
   "execution_count": 2,
   "metadata": {},
   "outputs": [
    {
     "data": {
      "text/html": [
       "<div>\n",
       "<style scoped>\n",
       "    .dataframe tbody tr th:only-of-type {\n",
       "        vertical-align: middle;\n",
       "    }\n",
       "\n",
       "    .dataframe tbody tr th {\n",
       "        vertical-align: top;\n",
       "    }\n",
       "\n",
       "    .dataframe thead th {\n",
       "        text-align: right;\n",
       "    }\n",
       "</style>\n",
       "<table border=\"1\" class=\"dataframe\">\n",
       "  <thead>\n",
       "    <tr style=\"text-align: right;\">\n",
       "      <th></th>\n",
       "      <th>EntryDate</th>\n",
       "      <th>AB.FMS.act.tPh</th>\n",
       "      <th>AB.FTS.act.dgC</th>\n",
       "      <th>DDM.AFTCL.act.m</th>\n",
       "      <th>DDM.FWDCL.act.m</th>\n",
       "      <th>DDM.MIDPS.act.m</th>\n",
       "      <th>DDM.MIDSB.act.m</th>\n",
       "      <th>HFO.GME.act.nodim</th>\n",
       "      <th>ME.EFF.act.PRC</th>\n",
       "      <th>ME.FMS.act.tPh</th>\n",
       "      <th>...</th>\n",
       "      <th>Heading_Dir_deg_daily</th>\n",
       "      <th>True_Wind_Speed_mPs_daily</th>\n",
       "      <th>True_Wind_Dir_deg_daily</th>\n",
       "      <th>Wave_Height_m_daily</th>\n",
       "      <th>True_Wave_Dir_deg_daily</th>\n",
       "      <th>trip_id</th>\n",
       "      <th>Power_EM_predict</th>\n",
       "      <th>DDM.TRIM.act.m</th>\n",
       "      <th>DDM.DRAFT.act.m</th>\n",
       "      <th>DDM.HEEL.act.m</th>\n",
       "    </tr>\n",
       "  </thead>\n",
       "  <tbody>\n",
       "    <tr>\n",
       "      <th>0</th>\n",
       "      <td>2021-05-31 00:00:00</td>\n",
       "      <td>NaN</td>\n",
       "      <td>NaN</td>\n",
       "      <td>NaN</td>\n",
       "      <td>NaN</td>\n",
       "      <td>NaN</td>\n",
       "      <td>NaN</td>\n",
       "      <td>NaN</td>\n",
       "      <td>NaN</td>\n",
       "      <td>NaN</td>\n",
       "      <td>...</td>\n",
       "      <td>80.0</td>\n",
       "      <td>6.7</td>\n",
       "      <td>109.0</td>\n",
       "      <td>0.5</td>\n",
       "      <td>289.0</td>\n",
       "      <td>1</td>\n",
       "      <td>14579.22</td>\n",
       "      <td>1.021</td>\n",
       "      <td>0.1276</td>\n",
       "      <td>0.2552</td>\n",
       "    </tr>\n",
       "    <tr>\n",
       "      <th>1</th>\n",
       "      <td>2021-05-31 00:01:00</td>\n",
       "      <td>0.003108</td>\n",
       "      <td>82.858482</td>\n",
       "      <td>13.309999</td>\n",
       "      <td>14.788999</td>\n",
       "      <td>13.924999</td>\n",
       "      <td>13.587000</td>\n",
       "      <td>1.0</td>\n",
       "      <td>50.766113</td>\n",
       "      <td>3.353553</td>\n",
       "      <td>...</td>\n",
       "      <td>80.0</td>\n",
       "      <td>6.7</td>\n",
       "      <td>109.0</td>\n",
       "      <td>0.5</td>\n",
       "      <td>289.0</td>\n",
       "      <td>2</td>\n",
       "      <td>14579.22</td>\n",
       "      <td>1.021</td>\n",
       "      <td>0.1276</td>\n",
       "      <td>0.2552</td>\n",
       "    </tr>\n",
       "    <tr>\n",
       "      <th>2</th>\n",
       "      <td>2021-05-31 00:02:00</td>\n",
       "      <td>0.001970</td>\n",
       "      <td>82.832756</td>\n",
       "      <td>13.444999</td>\n",
       "      <td>14.363999</td>\n",
       "      <td>13.320999</td>\n",
       "      <td>13.378999</td>\n",
       "      <td>1.0</td>\n",
       "      <td>50.982193</td>\n",
       "      <td>3.305582</td>\n",
       "      <td>...</td>\n",
       "      <td>80.0</td>\n",
       "      <td>6.7</td>\n",
       "      <td>109.0</td>\n",
       "      <td>0.5</td>\n",
       "      <td>289.0</td>\n",
       "      <td>2</td>\n",
       "      <td>14579.22</td>\n",
       "      <td>1.021</td>\n",
       "      <td>0.1276</td>\n",
       "      <td>0.2552</td>\n",
       "    </tr>\n",
       "    <tr>\n",
       "      <th>3</th>\n",
       "      <td>2021-05-31 00:03:00</td>\n",
       "      <td>0.000000</td>\n",
       "      <td>82.795395</td>\n",
       "      <td>13.381999</td>\n",
       "      <td>14.321000</td>\n",
       "      <td>14.242000</td>\n",
       "      <td>13.584000</td>\n",
       "      <td>1.0</td>\n",
       "      <td>51.326881</td>\n",
       "      <td>3.288588</td>\n",
       "      <td>...</td>\n",
       "      <td>80.0</td>\n",
       "      <td>6.7</td>\n",
       "      <td>109.0</td>\n",
       "      <td>0.5</td>\n",
       "      <td>289.0</td>\n",
       "      <td>2</td>\n",
       "      <td>14579.22</td>\n",
       "      <td>1.021</td>\n",
       "      <td>0.1276</td>\n",
       "      <td>0.2552</td>\n",
       "    </tr>\n",
       "    <tr>\n",
       "      <th>4</th>\n",
       "      <td>2021-05-31 00:04:00</td>\n",
       "      <td>0.000000</td>\n",
       "      <td>82.884254</td>\n",
       "      <td>13.365999</td>\n",
       "      <td>14.745000</td>\n",
       "      <td>14.094998</td>\n",
       "      <td>13.596999</td>\n",
       "      <td>1.0</td>\n",
       "      <td>52.311672</td>\n",
       "      <td>3.239272</td>\n",
       "      <td>...</td>\n",
       "      <td>80.0</td>\n",
       "      <td>6.7</td>\n",
       "      <td>109.0</td>\n",
       "      <td>0.5</td>\n",
       "      <td>289.0</td>\n",
       "      <td>2</td>\n",
       "      <td>14579.22</td>\n",
       "      <td>1.021</td>\n",
       "      <td>0.1276</td>\n",
       "      <td>0.2552</td>\n",
       "    </tr>\n",
       "  </tbody>\n",
       "</table>\n",
       "<p>5 rows × 48 columns</p>\n",
       "</div>"
      ],
      "text/plain": [
       "             EntryDate  AB.FMS.act.tPh  AB.FTS.act.dgC  DDM.AFTCL.act.m  \\\n",
       "0  2021-05-31 00:00:00             NaN             NaN              NaN   \n",
       "1  2021-05-31 00:01:00        0.003108       82.858482        13.309999   \n",
       "2  2021-05-31 00:02:00        0.001970       82.832756        13.444999   \n",
       "3  2021-05-31 00:03:00        0.000000       82.795395        13.381999   \n",
       "4  2021-05-31 00:04:00        0.000000       82.884254        13.365999   \n",
       "\n",
       "   DDM.FWDCL.act.m  DDM.MIDPS.act.m  DDM.MIDSB.act.m  HFO.GME.act.nodim  \\\n",
       "0              NaN              NaN              NaN                NaN   \n",
       "1        14.788999        13.924999        13.587000                1.0   \n",
       "2        14.363999        13.320999        13.378999                1.0   \n",
       "3        14.321000        14.242000        13.584000                1.0   \n",
       "4        14.745000        14.094998        13.596999                1.0   \n",
       "\n",
       "   ME.EFF.act.PRC  ME.FMS.act.tPh  ...  Heading_Dir_deg_daily  \\\n",
       "0             NaN             NaN  ...                   80.0   \n",
       "1       50.766113        3.353553  ...                   80.0   \n",
       "2       50.982193        3.305582  ...                   80.0   \n",
       "3       51.326881        3.288588  ...                   80.0   \n",
       "4       52.311672        3.239272  ...                   80.0   \n",
       "\n",
       "   True_Wind_Speed_mPs_daily  True_Wind_Dir_deg_daily  Wave_Height_m_daily  \\\n",
       "0                        6.7                    109.0                  0.5   \n",
       "1                        6.7                    109.0                  0.5   \n",
       "2                        6.7                    109.0                  0.5   \n",
       "3                        6.7                    109.0                  0.5   \n",
       "4                        6.7                    109.0                  0.5   \n",
       "\n",
       "   True_Wave_Dir_deg_daily  trip_id  Power_EM_predict  DDM.TRIM.act.m  \\\n",
       "0                    289.0        1          14579.22           1.021   \n",
       "1                    289.0        2          14579.22           1.021   \n",
       "2                    289.0        2          14579.22           1.021   \n",
       "3                    289.0        2          14579.22           1.021   \n",
       "4                    289.0        2          14579.22           1.021   \n",
       "\n",
       "   DDM.DRAFT.act.m  DDM.HEEL.act.m  \n",
       "0           0.1276          0.2552  \n",
       "1           0.1276          0.2552  \n",
       "2           0.1276          0.2552  \n",
       "3           0.1276          0.2552  \n",
       "4           0.1276          0.2552  \n",
       "\n",
       "[5 rows x 48 columns]"
      ]
     },
     "execution_count": 2,
     "metadata": {},
     "output_type": "execute_result"
    }
   ],
   "source": [
    "# read data\n",
    "df = pd.read_csv('../data/Featureselection03.csv')\n",
    "df.head()"
   ]
  },
  {
   "cell_type": "code",
   "execution_count": 3,
   "metadata": {},
   "outputs": [
    {
     "data": {
      "text/html": [
       "<div>\n",
       "<style scoped>\n",
       "    .dataframe tbody tr th:only-of-type {\n",
       "        vertical-align: middle;\n",
       "    }\n",
       "\n",
       "    .dataframe tbody tr th {\n",
       "        vertical-align: top;\n",
       "    }\n",
       "\n",
       "    .dataframe thead th {\n",
       "        text-align: right;\n",
       "    }\n",
       "</style>\n",
       "<table border=\"1\" class=\"dataframe\">\n",
       "  <thead>\n",
       "    <tr style=\"text-align: right;\">\n",
       "      <th></th>\n",
       "      <th>VarName</th>\n",
       "      <th>F_Imp_new</th>\n",
       "      <th>ModelImportance</th>\n",
       "    </tr>\n",
       "  </thead>\n",
       "  <tbody>\n",
       "    <tr>\n",
       "      <th>0</th>\n",
       "      <td>LM1.plc_skewtime.act.s</td>\n",
       "      <td>3</td>\n",
       "      <td>3</td>\n",
       "    </tr>\n",
       "    <tr>\n",
       "      <th>1</th>\n",
       "      <td>LM1.plc_skewtime.max.s</td>\n",
       "      <td>3</td>\n",
       "      <td>3</td>\n",
       "    </tr>\n",
       "    <tr>\n",
       "      <th>2</th>\n",
       "      <td>LM1.plc_uptime.act.s</td>\n",
       "      <td>3</td>\n",
       "      <td>3</td>\n",
       "    </tr>\n",
       "    <tr>\n",
       "      <th>3</th>\n",
       "      <td>LM1.plc_cpuload.avg_5s.PRC</td>\n",
       "      <td>3</td>\n",
       "      <td>3</td>\n",
       "    </tr>\n",
       "    <tr>\n",
       "      <th>4</th>\n",
       "      <td>LM1.plc_timeBalance.act.s</td>\n",
       "      <td>3</td>\n",
       "      <td>3</td>\n",
       "    </tr>\n",
       "  </tbody>\n",
       "</table>\n",
       "</div>"
      ],
      "text/plain": [
       "                      VarName  F_Imp_new  ModelImportance\n",
       "0      LM1.plc_skewtime.act.s          3                3\n",
       "1      LM1.plc_skewtime.max.s          3                3\n",
       "2        LM1.plc_uptime.act.s          3                3\n",
       "3  LM1.plc_cpuload.avg_5s.PRC          3                3\n",
       "4   LM1.plc_timeBalance.act.s          3                3"
      ]
     },
     "execution_count": 3,
     "metadata": {},
     "output_type": "execute_result"
    }
   ],
   "source": [
    "# read list with feature importance\n",
    "data_log = pd.read_csv('../data/Capstone_features_Features.csv')\n",
    "data_log.head()"
   ]
  },
  {
   "cell_type": "markdown",
   "metadata": {},
   "source": [
    "### Create data frame with important features"
   ]
  },
  {
   "cell_type": "code",
   "execution_count": 4,
   "metadata": {},
   "outputs": [
    {
     "data": {
      "text/plain": [
       "18"
      ]
     },
     "execution_count": 4,
     "metadata": {},
     "output_type": "execute_result"
    }
   ],
   "source": [
    "# create list of important features (feature importance < 3)\n",
    "list_imp_feat = list(data_log[data_log['ModelImportance'] < 3]['VarName'])\n",
    "len(list_imp_feat)"
   ]
  },
  {
   "cell_type": "code",
   "execution_count": 5,
   "metadata": {},
   "outputs": [],
   "source": [
    "df_model = df[list_imp_feat].copy()"
   ]
  },
  {
   "cell_type": "code",
   "execution_count": 6,
   "metadata": {},
   "outputs": [
    {
     "name": "stdout",
     "output_type": "stream",
     "text": [
      "<class 'pandas.core.frame.DataFrame'>\n",
      "RangeIndex: 211679 entries, 0 to 211678\n",
      "Data columns (total 18 columns):\n",
      " #   Column                   Non-Null Count   Dtype  \n",
      "---  ------                   --------------   -----  \n",
      " 0   ME.FMS.act.tPh           210961 non-null  float64\n",
      " 1   ME.FTS.act.dgC           210961 non-null  float64\n",
      " 2   HFO.GME.act.nodim        210961 non-null  float64\n",
      " 3   V.COG.act.deg            210885 non-null  float64\n",
      " 4   V.SOG.act.kn             210885 non-null  float64\n",
      " 5   V.RUA.act.deg            210885 non-null  float64\n",
      " 6   V.GPSLAT.act.deg         210885 non-null  float64\n",
      " 7   V.GPSLON.act.deg         210885 non-null  float64\n",
      " 8   WEA.WDT.act.deg          210814 non-null  float64\n",
      " 9   WEA.WST.act.mPs          210884 non-null  float64\n",
      " 10  V.SLPOG.act.PRC          136969 non-null  float64\n",
      " 11  ME.SFCI.act.gPkWh        136929 non-null  float64\n",
      " 12  DDM.TRIM.act.m           211679 non-null  float64\n",
      " 13  DDM.DRAFT.act.m          211679 non-null  float64\n",
      " 14  passage_type             211679 non-null  object \n",
      " 15  Wave_Height_m_daily      180603 non-null  float64\n",
      " 16  True_Wave_Dir_deg_daily  180603 non-null  float64\n",
      " 17  Power_EM_predict         211679 non-null  float64\n",
      "dtypes: float64(17), object(1)\n",
      "memory usage: 29.1+ MB\n"
     ]
    }
   ],
   "source": [
    "df_model.info()"
   ]
  },
  {
   "cell_type": "markdown",
   "metadata": {},
   "source": [
    "### Fill and drop NaN, remove outlier"
   ]
  },
  {
   "cell_type": "code",
   "execution_count": 7,
   "metadata": {},
   "outputs": [],
   "source": [
    "df_model['V.SLPOG.act.PRC'].fillna(0,inplace=True)\n",
    "df_model['ME.SFCI.act.gPkWh'].fillna(0,inplace=True)"
   ]
  },
  {
   "cell_type": "code",
   "execution_count": 8,
   "metadata": {},
   "outputs": [],
   "source": [
    "df_model.dropna(inplace=True)"
   ]
  },
  {
   "cell_type": "code",
   "execution_count": 29,
   "metadata": {},
   "outputs": [],
   "source": [
    "df_model = df_model[df_model['ME.FMS.act.tPh']<8]"
   ]
  },
  {
   "cell_type": "code",
   "execution_count": 30,
   "metadata": {},
   "outputs": [
    {
     "name": "stdout",
     "output_type": "stream",
     "text": [
      "<class 'pandas.core.frame.DataFrame'>\n",
      "Int64Index: 180148 entries, 1 to 211678\n",
      "Data columns (total 18 columns):\n",
      " #   Column                   Non-Null Count   Dtype  \n",
      "---  ------                   --------------   -----  \n",
      " 0   ME.FMS.act.tPh           180148 non-null  float64\n",
      " 1   ME.FTS.act.dgC           180148 non-null  float64\n",
      " 2   HFO.GME.act.nodim        180148 non-null  float64\n",
      " 3   V.COG.act.deg            180148 non-null  float64\n",
      " 4   V.SOG.act.kn             180148 non-null  float64\n",
      " 5   V.RUA.act.deg            180148 non-null  float64\n",
      " 6   V.GPSLAT.act.deg         180148 non-null  float64\n",
      " 7   V.GPSLON.act.deg         180148 non-null  float64\n",
      " 8   WEA.WDT.act.deg          180148 non-null  float64\n",
      " 9   WEA.WST.act.mPs          180148 non-null  float64\n",
      " 10  V.SLPOG.act.PRC          180148 non-null  float64\n",
      " 11  ME.SFCI.act.gPkWh        180148 non-null  float64\n",
      " 12  DDM.TRIM.act.m           180148 non-null  float64\n",
      " 13  DDM.DRAFT.act.m          180148 non-null  float64\n",
      " 14  passage_type             180148 non-null  object \n",
      " 15  Wave_Height_m_daily      180148 non-null  float64\n",
      " 16  True_Wave_Dir_deg_daily  180148 non-null  float64\n",
      " 17  Power_EM_predict         180148 non-null  float64\n",
      "dtypes: float64(17), object(1)\n",
      "memory usage: 26.1+ MB\n"
     ]
    }
   ],
   "source": [
    "df_model.info()"
   ]
  },
  {
   "cell_type": "markdown",
   "metadata": {},
   "source": [
    "### Check correlations"
   ]
  },
  {
   "cell_type": "code",
   "execution_count": 31,
   "metadata": {},
   "outputs": [
    {
     "data": {
      "text/plain": [
       "<AxesSubplot:>"
      ]
     },
     "execution_count": 31,
     "metadata": {},
     "output_type": "execute_result"
    },
    {
     "data": {
      "image/png": "[encoded data removed]",
      "text/plain": [
       "<Figure size 2160x2016 with 2 Axes>"
      ]
     },
     "metadata": {},
     "output_type": "display_data"
    }
   ],
   "source": [
    "plt.figure(figsize = (30,28))\n",
    "sns.heatmap(df_model.corr(), annot = True, cmap = 'RdYlGn')"
   ]
  },
  {
   "cell_type": "markdown",
   "metadata": {},
   "source": [
    "### Define target"
   ]
  },
  {
   "cell_type": "code",
   "execution_count": 32,
   "metadata": {},
   "outputs": [],
   "source": [
    "X = df_model.drop(['ME.FMS.act.tPh'], axis = 1)\n",
    "y = df_model['ME.FMS.act.tPh']"
   ]
  },
  {
   "cell_type": "markdown",
   "metadata": {},
   "source": [
    "### Train Test Split"
   ]
  },
  {
   "cell_type": "code",
   "execution_count": 33,
   "metadata": {},
   "outputs": [],
   "source": [
    "X_train, X_test, y_train, y_test = train_test_split(X, y, stratify = X['passage_type'], test_size = 0.1, random_state = 42)"
   ]
  },
  {
   "cell_type": "markdown",
   "metadata": {},
   "source": [
    "### Create dummy values for passage type"
   ]
  },
  {
   "cell_type": "code",
   "execution_count": 34,
   "metadata": {},
   "outputs": [],
   "source": [
    "X_train = pd.get_dummies(X_train, drop_first=True)\n",
    "X_test = pd.get_dummies(X_test, drop_first=True)"
   ]
  },
  {
   "cell_type": "markdown",
   "metadata": {},
   "source": [
    "## Set MLFlow connection"
   ]
  },
  {
   "cell_type": "code",
   "execution_count": 121,
   "metadata": {},
   "outputs": [],
   "source": [
    "# setting the MLFlow connection and experiment\n",
    "mlflow.set_tracking_uri(TRACKING_URI)\n",
    "mlflow.set_experiment(EXPERIMENT_NAME)\n",
    "mlflow.start_run(run_name='RandomForrest') \n",
    "run = mlflow.active_run()"
   ]
  },
  {
   "cell_type": "markdown",
   "metadata": {},
   "source": [
    "## Modelling (n_estimators=100,max_features = 'sqrt')"
   ]
  },
  {
   "cell_type": "markdown",
   "metadata": {},
   "source": [
    "### Pipeline"
   ]
  },
  {
   "cell_type": "code",
   "execution_count": 35,
   "metadata": {},
   "outputs": [],
   "source": [
    "forest = make_pipeline(MinMaxScaler(), RandomForestRegressor(random_state=42,n_estimators=100,max_features = 'sqrt',n_jobs=-1, verbose = 1))"
   ]
  },
  {
   "cell_type": "markdown",
   "metadata": {},
   "source": [
    "### Fit and predict"
   ]
  },
  {
   "cell_type": "code",
   "execution_count": 36,
   "metadata": {},
   "outputs": [
    {
     "name": "stderr",
     "output_type": "stream",
     "text": [
      "[Parallel(n_jobs=-1)]: Using backend ThreadingBackend with 8 concurrent workers.\n",
      "[Parallel(n_jobs=-1)]: Done  34 tasks      | elapsed:    6.5s\n",
      "[Parallel(n_jobs=-1)]: Done 100 out of 100 | elapsed:   16.3s finished\n"
     ]
    },
    {
     "data": {
      "text/plain": [
       "Pipeline(steps=[('minmaxscaler', MinMaxScaler()),\n",
       "                ('randomforestregressor',\n",
       "                 RandomForestRegressor(max_features='sqrt', n_jobs=-1,\n",
       "                                       random_state=42, verbose=1))])"
      ]
     },
     "execution_count": 36,
     "metadata": {},
     "output_type": "execute_result"
    }
   ],
   "source": [
    "forest.fit(X_train, y_train)"
   ]
  },
  {
   "cell_type": "code",
   "execution_count": 37,
   "metadata": {},
   "outputs": [
    {
     "name": "stderr",
     "output_type": "stream",
     "text": [
      "[Parallel(n_jobs=8)]: Using backend ThreadingBackend with 8 concurrent workers.\n",
      "[Parallel(n_jobs=8)]: Done  34 tasks      | elapsed:    0.2s\n",
      "[Parallel(n_jobs=8)]: Done 100 out of 100 | elapsed:    0.5s finished\n",
      "[Parallel(n_jobs=8)]: Using backend ThreadingBackend with 8 concurrent workers.\n",
      "[Parallel(n_jobs=8)]: Done  34 tasks      | elapsed:    0.8s\n",
      "[Parallel(n_jobs=8)]: Done 100 out of 100 | elapsed:    2.1s finished\n"
     ]
    }
   ],
   "source": [
    "y_pred = forest.predict(X_test)\n",
    "y_pred_train = forest.predict(X_train)"
   ]
  },
  {
   "cell_type": "markdown",
   "metadata": {},
   "source": [
    "### RMSE"
   ]
  },
  {
   "cell_type": "code",
   "execution_count": 38,
   "metadata": {},
   "outputs": [
    {
     "name": "stdout",
     "output_type": "stream",
     "text": [
      "RMSE train:  0.027324117878567426\n",
      "RMSE test:  0.07499158951915391\n"
     ]
    }
   ],
   "source": [
    "print('RMSE train: ', mean_squared_error(y_train, y_pred_train, squared= False))\n",
    "rmse_train = mean_squared_error(y_train, y_pred_train, squared= False)\n",
    "print('RMSE test: ', mean_squared_error(y_test, y_pred, squared= False))\n",
    "rmse_test = mean_squared_error(y_test, y_pred, squared= False)"
   ]
  },
  {
   "cell_type": "markdown",
   "metadata": {},
   "source": [
    "### Plot"
   ]
  },
  {
   "cell_type": "code",
   "execution_count": 40,
   "metadata": {},
   "outputs": [
    {
     "data": {
      "image/png": "[encoded data removed]",
      "text/plain": [
       "<Figure size 432x432 with 1 Axes>"
      ]
     },
     "metadata": {},
     "output_type": "display_data"
    }
   ],
   "source": [
    "fig=plt.figure(figsize=(6, 6))\n",
    "plt.axline([1, 1], [2, 2],color='lightgrey')\n",
    "plt.scatter(y_train, y_pred_train, color ='#33424F')\n",
    "plt.scatter(y_test, y_pred, color = '#FF6600')\n",
    "plt.xticks(np.arange(0,6,1));\n",
    "plt.yticks(np.arange(0,6,1));\n",
    "plt.xlabel(\"ME.FMS.act.tPh actual\");\n",
    "plt.ylabel(\"ME.FMS.act.tPh predicted\");"
   ]
  },
  {
   "cell_type": "code",
   "execution_count": 41,
   "metadata": {},
   "outputs": [
    {
     "name": "stderr",
     "output_type": "stream",
     "text": [
      "/Users/rweil/neue_fische/capstone_ml_shipping/.venv/lib/python3.9/site-packages/sklearn/base.py:441: UserWarning: X does not have valid feature names, but MinMaxScaler was fitted with feature names\n",
      "  warnings.warn(\n",
      "[Parallel(n_jobs=8)]: Using backend ThreadingBackend with 8 concurrent workers.\n",
      "[Parallel(n_jobs=8)]: Done  34 tasks      | elapsed:    1.1s\n",
      "[Parallel(n_jobs=8)]: Done 100 out of 100 | elapsed:    2.5s finished\n",
      "[Parallel(n_jobs=8)]: Using backend ThreadingBackend with 8 concurrent workers.\n",
      "[Parallel(n_jobs=8)]: Done  34 tasks      | elapsed:    0.7s\n",
      "[Parallel(n_jobs=8)]: Done 100 out of 100 | elapsed:    2.1s finished\n",
      "[Parallel(n_jobs=8)]: Using backend ThreadingBackend with 8 concurrent workers.\n",
      "[Parallel(n_jobs=8)]: Done  34 tasks      | elapsed:    0.1s\n",
      "[Parallel(n_jobs=8)]: Done 100 out of 100 | elapsed:    0.2s finished\n",
      "[Parallel(n_jobs=8)]: Using backend ThreadingBackend with 8 concurrent workers.\n",
      "[Parallel(n_jobs=8)]: Done  34 tasks      | elapsed:    0.1s\n",
      "[Parallel(n_jobs=8)]: Done 100 out of 100 | elapsed:    0.3s finished\n"
     ]
    },
    {
     "data": {
      "image/png": "[encoded data removed]",
      "text/plain": [
       "<Figure size 576x396 with 2 Axes>"
      ]
     },
     "metadata": {},
     "output_type": "display_data"
    },
    {
     "data": {
      "text/plain": [
       "<AxesSubplot:title={'center':'Residuals for RandomForestRegressor Model'}, xlabel='Predicted Value', ylabel='Residuals'>"
      ]
     },
     "execution_count": 41,
     "metadata": {},
     "output_type": "execute_result"
    }
   ],
   "source": [
    "visualizer = ResidualsPlot(forest)\n",
    "\n",
    "visualizer.fit(X_train, y_train)  # Fit the training data to the visualizer\n",
    "visualizer.score(X_test, y_test)  # Evaluate the model on the test data\n",
    "visualizer.show()  "
   ]
  },
  {
   "cell_type": "markdown",
   "metadata": {},
   "source": [
    "### Write to MLFlow"
   ]
  },
  {
   "cell_type": "code",
   "execution_count": 23,
   "metadata": {},
   "outputs": [],
   "source": [
    "#seting parameters that should be logged on MLFlow\n",
    "#these parameters were used in feature engineering (inputing missing values)\n",
    "#or parameters of the model (fit_intercept for Linear Regression model)\n",
    "params = {\n",
    "      \"features drop\": 'According to model importance list',\n",
    "      'n_estimators': 100,\n",
    "      'max_features': 'sqrt',\n",
    "      \"csv used\": 'Featureselection03.csv',\n",
    "      \"NaN handling\": 'V.SLPOG.act.PRC and ME.SFCI.act.gPkWh filled with 0, rest dropped by row',\n",
    "      'Shape' : df.shape,\n",
    "      'Scaler' : 'MinMaxScaler'\n",
    "  }"
   ]
  },
  {
   "cell_type": "code",
   "execution_count": 24,
   "metadata": {},
   "outputs": [],
   "source": [
    "#logging params to mlflow\n",
    "mlflow.log_params(params)\n",
    "#setting tags\n",
    "mlflow.set_tag(\"running_from_jupyter\", \"True\")\n",
    "#logging metrics\n",
    "mlflow.log_metric(\"train-\" + \"RMSE\", rmse_train)\n",
    "mlflow.log_metric(\"test-\" + \"RMSE\", rmse_test)\n",
    "# logging the model to mlflow will not work without a AWS Connection setup.. too complex for now\n",
    "# but possible if running mlflow locally\n",
    "# mlflow.log_artifact(\"../models\")\n",
    "# mlflow.sklearn.log_model(reg, \"model\")\n",
    "mlflow.end_run()"
   ]
  },
  {
   "cell_type": "markdown",
   "metadata": {},
   "source": [
    "## Modelling (Grid Search)"
   ]
  },
  {
   "cell_type": "markdown",
   "metadata": {},
   "source": [
    "### Pipeline"
   ]
  },
  {
   "cell_type": "code",
   "execution_count": 42,
   "metadata": {},
   "outputs": [],
   "source": [
    "forest2 = make_pipeline(MinMaxScaler(), RandomForestRegressor())"
   ]
  },
  {
   "cell_type": "markdown",
   "metadata": {},
   "source": [
    "### Grid Search"
   ]
  },
  {
   "cell_type": "code",
   "execution_count": 52,
   "metadata": {},
   "outputs": [],
   "source": [
    "# Grid search for Decision Tree\n",
    "\n",
    "# Defining parameter grid (as dictionary)\n",
    "param_grid = {'randomforestregressor__n_estimators':[250],\n",
    "              'randomforestregressor__criterion':['squared_error'],\n",
    "              'randomforestregressor__max_depth':[30],\n",
    "              'randomforestregressor__min_samples_split':[20],\n",
    "              'randomforestregressor__max_features':['auto','sqrt'],\n",
    "              'randomforestregressor__max_leaf_nodes':[1000,1100],\n",
    "              'randomforestregressor__random_state': [42]\n",
    "             }\n",
    "\n",
    "# Instantiate gridsearch and define the metric to optimize \n",
    "gs_forest = GridSearchCV(forest2, param_grid, scoring='neg_root_mean_squared_error', cv=5, verbose=2, n_jobs=-1)\n"
   ]
  },
  {
   "cell_type": "markdown",
   "metadata": {},
   "source": [
    "### Fit and predict"
   ]
  },
  {
   "cell_type": "code",
   "execution_count": 54,
   "metadata": {},
   "outputs": [
    {
     "name": "stdout",
     "output_type": "stream",
     "text": [
      "Fitting 5 folds for each of 4 candidates, totalling 20 fits\n",
      "[CV] END randomforestregressor__criterion=squared_error, randomforestregressor__max_depth=30, randomforestregressor__max_features=auto, randomforestregressor__max_leaf_nodes=1000, randomforestregressor__min_samples_split=20, randomforestregressor__n_estimators=250, randomforestregressor__random_state=42; total time= 9.8min\n",
      "[CV] END randomforestregressor__criterion=squared_error, randomforestregressor__max_depth=30, randomforestregressor__max_features=auto, randomforestregressor__max_leaf_nodes=1000, randomforestregressor__min_samples_split=20, randomforestregressor__n_estimators=250, randomforestregressor__random_state=42; total time= 9.8min\n",
      "[CV] END randomforestregressor__criterion=squared_error, randomforestregressor__max_depth=30, randomforestregressor__max_features=auto, randomforestregressor__max_leaf_nodes=1000, randomforestregressor__min_samples_split=20, randomforestregressor__n_estimators=250, randomforestregressor__random_state=42; total time= 9.8min\n",
      "[CV] END randomforestregressor__criterion=squared_error, randomforestregressor__max_depth=30, randomforestregressor__max_features=auto, randomforestregressor__max_leaf_nodes=1000, randomforestregressor__min_samples_split=20, randomforestregressor__n_estimators=250, randomforestregressor__random_state=42; total time= 9.8min\n",
      "[CV] END randomforestregressor__criterion=squared_error, randomforestregressor__max_depth=30, randomforestregressor__max_features=auto, randomforestregressor__max_leaf_nodes=1000, randomforestregressor__min_samples_split=20, randomforestregressor__n_estimators=250, randomforestregressor__random_state=42; total time= 9.8min\n",
      "[CV] END randomforestregressor__criterion=squared_error, randomforestregressor__max_depth=30, randomforestregressor__max_features=auto, randomforestregressor__max_leaf_nodes=1100, randomforestregressor__min_samples_split=20, randomforestregressor__n_estimators=250, randomforestregressor__random_state=42; total time= 9.9min\n",
      "[CV] END randomforestregressor__criterion=squared_error, randomforestregressor__max_depth=30, randomforestregressor__max_features=auto, randomforestregressor__max_leaf_nodes=1100, randomforestregressor__min_samples_split=20, randomforestregressor__n_estimators=250, randomforestregressor__random_state=42; total time= 9.9min\n",
      "[CV] END randomforestregressor__criterion=squared_error, randomforestregressor__max_depth=30, randomforestregressor__max_features=auto, randomforestregressor__max_leaf_nodes=1100, randomforestregressor__min_samples_split=20, randomforestregressor__n_estimators=250, randomforestregressor__random_state=42; total time= 9.9min\n",
      "[CV] END randomforestregressor__criterion=squared_error, randomforestregressor__max_depth=30, randomforestregressor__max_features=sqrt, randomforestregressor__max_leaf_nodes=1000, randomforestregressor__min_samples_split=20, randomforestregressor__n_estimators=250, randomforestregressor__random_state=42; total time= 2.3min\n",
      "[CV] END randomforestregressor__criterion=squared_error, randomforestregressor__max_depth=30, randomforestregressor__max_features=sqrt, randomforestregressor__max_leaf_nodes=1000, randomforestregressor__min_samples_split=20, randomforestregressor__n_estimators=250, randomforestregressor__random_state=42; total time= 2.3min\n",
      "[CV] END randomforestregressor__criterion=squared_error, randomforestregressor__max_depth=30, randomforestregressor__max_features=sqrt, randomforestregressor__max_leaf_nodes=1000, randomforestregressor__min_samples_split=20, randomforestregressor__n_estimators=250, randomforestregressor__random_state=42; total time= 2.3min\n",
      "[CV] END randomforestregressor__criterion=squared_error, randomforestregressor__max_depth=30, randomforestregressor__max_features=sqrt, randomforestregressor__max_leaf_nodes=1000, randomforestregressor__min_samples_split=20, randomforestregressor__n_estimators=250, randomforestregressor__random_state=42; total time= 2.3min\n",
      "[CV] END randomforestregressor__criterion=squared_error, randomforestregressor__max_depth=30, randomforestregressor__max_features=sqrt, randomforestregressor__max_leaf_nodes=1000, randomforestregressor__min_samples_split=20, randomforestregressor__n_estimators=250, randomforestregressor__random_state=42; total time= 2.3min\n",
      "[CV] END randomforestregressor__criterion=squared_error, randomforestregressor__max_depth=30, randomforestregressor__max_features=sqrt, randomforestregressor__max_leaf_nodes=1100, randomforestregressor__min_samples_split=20, randomforestregressor__n_estimators=250, randomforestregressor__random_state=42; total time= 2.3min\n",
      "[CV] END randomforestregressor__criterion=squared_error, randomforestregressor__max_depth=30, randomforestregressor__max_features=sqrt, randomforestregressor__max_leaf_nodes=1100, randomforestregressor__min_samples_split=20, randomforestregressor__n_estimators=250, randomforestregressor__random_state=42; total time= 1.8min\n",
      "[CV] END randomforestregressor__criterion=squared_error, randomforestregressor__max_depth=30, randomforestregressor__max_features=sqrt, randomforestregressor__max_leaf_nodes=1100, randomforestregressor__min_samples_split=20, randomforestregressor__n_estimators=250, randomforestregressor__random_state=42; total time= 1.8min\n",
      "[CV] END randomforestregressor__criterion=squared_error, randomforestregressor__max_depth=30, randomforestregressor__max_features=sqrt, randomforestregressor__max_leaf_nodes=1100, randomforestregressor__min_samples_split=20, randomforestregressor__n_estimators=250, randomforestregressor__random_state=42; total time= 1.8min\n",
      "[CV] END randomforestregressor__criterion=squared_error, randomforestregressor__max_depth=30, randomforestregressor__max_features=sqrt, randomforestregressor__max_leaf_nodes=1100, randomforestregressor__min_samples_split=20, randomforestregressor__n_estimators=250, randomforestregressor__random_state=42; total time= 1.8min\n",
      "[CV] END randomforestregressor__criterion=squared_error, randomforestregressor__max_depth=30, randomforestregressor__max_features=auto, randomforestregressor__max_leaf_nodes=1100, randomforestregressor__min_samples_split=20, randomforestregressor__n_estimators=250, randomforestregressor__random_state=42; total time= 6.6min\n",
      "[CV] END randomforestregressor__criterion=squared_error, randomforestregressor__max_depth=30, randomforestregressor__max_features=auto, randomforestregressor__max_leaf_nodes=1100, randomforestregressor__min_samples_split=20, randomforestregressor__n_estimators=250, randomforestregressor__random_state=42; total time= 6.6min\n"
     ]
    },
    {
     "data": {
      "text/plain": [
       "GridSearchCV(cv=5,\n",
       "             estimator=Pipeline(steps=[('minmaxscaler', MinMaxScaler()),\n",
       "                                       ('randomforestregressor',\n",
       "                                        RandomForestRegressor())]),\n",
       "             n_jobs=-1,\n",
       "             param_grid={'randomforestregressor__criterion': ['squared_error'],\n",
       "                         'randomforestregressor__max_depth': [30],\n",
       "                         'randomforestregressor__max_features': ['auto',\n",
       "                                                                 'sqrt'],\n",
       "                         'randomforestregressor__max_leaf_nodes': [1000, 1100],\n",
       "                         'randomforestregressor__min_samples_split': [20],\n",
       "                         'randomforestregressor__n_estimators': [250],\n",
       "                         'randomforestregressor__random_state': [42]},\n",
       "             scoring='neg_root_mean_squared_error', verbose=2)"
      ]
     },
     "execution_count": 54,
     "metadata": {},
     "output_type": "execute_result"
    }
   ],
   "source": [
    "gs_forest.fit(X_train, y_train)"
   ]
  },
  {
   "cell_type": "code",
   "execution_count": 55,
   "metadata": {},
   "outputs": [
    {
     "name": "stdout",
     "output_type": "stream",
     "text": [
      "Best score:\n",
      "-0.08\n",
      "Best parameters:\n",
      "{'randomforestregressor__criterion': 'squared_error', 'randomforestregressor__max_depth': 30, 'randomforestregressor__max_features': 'auto', 'randomforestregressor__max_leaf_nodes': 1100, 'randomforestregressor__min_samples_split': 20, 'randomforestregressor__n_estimators': 250, 'randomforestregressor__random_state': 42}\n"
     ]
    }
   ],
   "source": [
    "# Show best parameters\n",
    "print('Best score:\\n{:.2f}'.format(gs_forest.best_score_))\n",
    "print(\"Best parameters:\\n{}\".format(gs_forest.best_params_))"
   ]
  },
  {
   "cell_type": "code",
   "execution_count": 56,
   "metadata": {},
   "outputs": [],
   "source": [
    "y_pred = gs_forest.predict(X_test)\n",
    "y_pred_train = gs_forest.predict(X_train)"
   ]
  },
  {
   "cell_type": "markdown",
   "metadata": {},
   "source": [
    "### RMSE"
   ]
  },
  {
   "cell_type": "code",
   "execution_count": 57,
   "metadata": {},
   "outputs": [
    {
     "name": "stdout",
     "output_type": "stream",
     "text": [
      "RMSE train:  0.06419755049974117\n",
      "RMSE test:  0.08357333979073497\n"
     ]
    }
   ],
   "source": [
    "print('RMSE train: ', mean_squared_error(y_train, y_pred_train, squared= False))\n",
    "rmse_train = mean_squared_error(y_train, y_pred_train, squared= False)\n",
    "print('RMSE test: ', mean_squared_error(y_test, y_pred, squared= False))\n",
    "rmse_test = mean_squared_error(y_test, y_pred, squared= False)"
   ]
  },
  {
   "cell_type": "markdown",
   "metadata": {},
   "source": [
    "### Plot"
   ]
  },
  {
   "cell_type": "code",
   "execution_count": 58,
   "metadata": {},
   "outputs": [
    {
     "data": {
      "image/png": "[encoded data removed]",
      "text/plain": [
       "<Figure size 432x432 with 1 Axes>"
      ]
     },
     "metadata": {},
     "output_type": "display_data"
    }
   ],
   "source": [
    "fig=plt.figure(figsize=(6, 6))\n",
    "plt.axline([1, 1], [2, 2],color='lightgrey')\n",
    "plt.scatter(y_train, y_pred_train, color ='#33424F')\n",
    "plt.scatter(y_test, y_pred, color = '#FF6600')\n",
    "plt.xticks(np.arange(0,6,1));\n",
    "plt.yticks(np.arange(0,6,1));\n",
    "plt.xlabel(\"ME.FMS.act.tPh actual\");\n",
    "plt.ylabel(\"ME.FMS.act.tPh predicted\");"
   ]
  },
  {
   "cell_type": "code",
   "execution_count": 59,
   "metadata": {},
   "outputs": [
    {
     "name": "stderr",
     "output_type": "stream",
     "text": [
      "/Users/rweil/neue_fische/capstone_ml_shipping/.venv/lib/python3.9/site-packages/sklearn/base.py:441: UserWarning: X does not have valid feature names, but MinMaxScaler was fitted with feature names\n",
      "  warnings.warn(\n"
     ]
    },
    {
     "data": {
      "image/png": "[encoded data removed]",
      "text/plain": [
       "<Figure size 576x396 with 2 Axes>"
      ]
     },
     "metadata": {},
     "output_type": "display_data"
    },
    {
     "data": {
      "text/plain": [
       "<AxesSubplot:title={'center':'Residuals for GridSearchCV Model'}, xlabel='Predicted Value', ylabel='Residuals'>"
      ]
     },
     "execution_count": 59,
     "metadata": {},
     "output_type": "execute_result"
    }
   ],
   "source": [
    "visualizer = ResidualsPlot(gs_forest)\n",
    "\n",
    "visualizer.fit(X_train, y_train)  # Fit the training data to the visualizer\n",
    "visualizer.score(X_test, y_test)  # Evaluate the model on the test data\n",
    "visualizer.show()  "
   ]
  },
  {
   "cell_type": "markdown",
   "metadata": {},
   "source": [
    "## Modelling (Random Forest final)"
   ]
  },
  {
   "cell_type": "markdown",
   "metadata": {},
   "source": [
    "### Pipeline"
   ]
  },
  {
   "cell_type": "code",
   "execution_count": 115,
   "metadata": {},
   "outputs": [],
   "source": [
    "forest3 = make_pipeline(MinMaxScaler(), \n",
    "                        RandomForestRegressor(criterion= 'squared_error',\n",
    "                                            max_depth= 40, \n",
    "                                            max_features= 'auto',\n",
    "                                            max_leaf_nodes= 7000, \n",
    "                                            min_samples_split= 20,\n",
    "                                            n_estimators= 100, \n",
    "                                            random_state= 42))"
   ]
  },
  {
   "cell_type": "markdown",
   "metadata": {},
   "source": [
    "### Fit and predict"
   ]
  },
  {
   "cell_type": "code",
   "execution_count": 116,
   "metadata": {},
   "outputs": [
    {
     "data": {
      "text/plain": [
       "Pipeline(steps=[('minmaxscaler', MinMaxScaler()),\n",
       "                ('randomforestregressor',\n",
       "                 RandomForestRegressor(max_depth=40, max_leaf_nodes=7000,\n",
       "                                       min_samples_split=20,\n",
       "                                       random_state=42))])"
      ]
     },
     "execution_count": 116,
     "metadata": {},
     "output_type": "execute_result"
    }
   ],
   "source": [
    "forest3.fit(X_train, y_train)"
   ]
  },
  {
   "cell_type": "code",
   "execution_count": 117,
   "metadata": {},
   "outputs": [],
   "source": [
    "y_pred = forest3.predict(X_test)\n",
    "y_pred_train = forest3.predict(X_train)"
   ]
  },
  {
   "cell_type": "markdown",
   "metadata": {},
   "source": [
    "### RMSE"
   ]
  },
  {
   "cell_type": "code",
   "execution_count": 118,
   "metadata": {},
   "outputs": [
    {
     "name": "stdout",
     "output_type": "stream",
     "text": [
      "RMSE train:  0.049372115495081116\n",
      "RMSE test:  0.07874091983930853\n"
     ]
    }
   ],
   "source": [
    "print('RMSE train: ', mean_squared_error(y_train, y_pred_train, squared= False))\n",
    "rmse_train = mean_squared_error(y_train, y_pred_train, squared= False)\n",
    "print('RMSE test: ', mean_squared_error(y_test, y_pred, squared= False))\n",
    "rmse_test = mean_squared_error(y_test, y_pred, squared= False)"
   ]
  },
  {
   "cell_type": "markdown",
   "metadata": {},
   "source": [
    "### Plot"
   ]
  },
  {
   "cell_type": "code",
   "execution_count": 119,
   "metadata": {},
   "outputs": [
    {
     "data": {
      "image/png": "[encoded data removed]",
      "text/plain": [
       "<Figure size 432x432 with 1 Axes>"
      ]
     },
     "metadata": {},
     "output_type": "display_data"
    }
   ],
   "source": [
    "fig=plt.figure(figsize=(6, 6))\n",
    "plt.axline([1, 1], [2, 2],color='lightgrey')\n",
    "plt.scatter(y_train, y_pred_train, color ='#33424F')\n",
    "plt.scatter(y_test, y_pred, color = '#FF6600')\n",
    "plt.xticks(np.arange(0,6,1));\n",
    "plt.yticks(np.arange(0,6,1));\n",
    "plt.xlabel(\"ME.FMS.act.tPh actual\");\n",
    "plt.ylabel(\"ME.FMS.act.tPh predicted\");"
   ]
  },
  {
   "cell_type": "code",
   "execution_count": 120,
   "metadata": {},
   "outputs": [
    {
     "name": "stderr",
     "output_type": "stream",
     "text": [
      "/Users/rweil/neue_fische/capstone_ml_shipping/.venv/lib/python3.9/site-packages/sklearn/base.py:441: UserWarning: X does not have valid feature names, but MinMaxScaler was fitted with feature names\n",
      "  warnings.warn(\n"
     ]
    },
    {
     "data": {
      "image/png": "[encoded data removed]",
      "text/plain": [
       "<Figure size 576x396 with 2 Axes>"
      ]
     },
     "metadata": {},
     "output_type": "display_data"
    },
    {
     "data": {
      "text/plain": [
       "<AxesSubplot:title={'center':'Residuals for RandomForestRegressor Model'}, xlabel='Predicted Value', ylabel='Residuals'>"
      ]
     },
     "execution_count": 120,
     "metadata": {},
     "output_type": "execute_result"
    }
   ],
   "source": [
    "visualizer = ResidualsPlot(forest3)\n",
    "\n",
    "visualizer.fit(X_train, y_train)  # Fit the training data to the visualizer\n",
    "visualizer.score(X_test, y_test)  # Evaluate the model on the test data\n",
    "visualizer.show()  "
   ]
  },
  {
   "cell_type": "markdown",
   "metadata": {},
   "source": [
    "### Write to MLFlow"
   ]
  },
  {
   "cell_type": "code",
   "execution_count": 122,
   "metadata": {},
   "outputs": [],
   "source": [
    "#seting parameters that should be logged on MLFlow\n",
    "#these parameters were used in feature engineering (inputing missing values)\n",
    "#or parameters of the model (fit_intercept for Linear Regression model)\n",
    "params = {\n",
    "      \"features drop\": 'According to model importance list',\n",
    "      \"criterion\": 'squared_error',\n",
    "      'max_features': 'auto',\n",
    "      \"random_state\": 42,\n",
    "      \"max_depth\": 40,\n",
    "      'max_leaf_nodes': 7000,\n",
    "      'min_samples_split': 20,\n",
    "      'n_estimators': 100,\n",
    "      \"csv used\": 'Featureselection03.csv',\n",
    "      \"NaN handling\": 'V.SLPOG.act.PRC and ME.SFCI.act.gPkWh filled with 0, rest dropped by row',\n",
    "      'Shape' : df.shape,\n",
    "      'Scaler' : 'MinMaxScaler'\n",
    "  }"
   ]
  },
  {
   "cell_type": "code",
   "execution_count": 123,
   "metadata": {},
   "outputs": [],
   "source": [
    "#logging params to mlflow\n",
    "mlflow.log_params(params)\n",
    "#setting tags\n",
    "mlflow.set_tag(\"running_from_jupyter\", \"True\")\n",
    "#logging metrics\n",
    "mlflow.log_metric(\"train-\" + \"RMSE\", rmse_train)\n",
    "mlflow.log_metric(\"test-\" + \"RMSE\", rmse_test)\n",
    "# logging the model to mlflow will not work without a AWS Connection setup.. too complex for now\n",
    "# but possible if running mlflow locally\n",
    "# mlflow.log_artifact(\"../models\")\n",
    "# mlflow.sklearn.log_model(reg, \"model\")\n",
    "mlflow.end_run()"
   ]
  },
  {
   "cell_type": "markdown",
   "metadata": {},
   "source": [
    "### Important features"
   ]
  },
  {
   "cell_type": "code",
   "execution_count": 136,
   "metadata": {},
   "outputs": [
    {
     "data": {
      "text/html": [
       "<div>\n",
       "<style scoped>\n",
       "    .dataframe tbody tr th:only-of-type {\n",
       "        vertical-align: middle;\n",
       "    }\n",
       "\n",
       "    .dataframe tbody tr th {\n",
       "        vertical-align: top;\n",
       "    }\n",
       "\n",
       "    .dataframe thead th {\n",
       "        text-align: right;\n",
       "    }\n",
       "</style>\n",
       "<table border=\"1\" class=\"dataframe\">\n",
       "  <thead>\n",
       "    <tr style=\"text-align: right;\">\n",
       "      <th></th>\n",
       "      <th>features</th>\n",
       "      <th>importance</th>\n",
       "    </tr>\n",
       "  </thead>\n",
       "  <tbody>\n",
       "    <tr>\n",
       "      <th>3</th>\n",
       "      <td>V.SOG.act.kn</td>\n",
       "      <td>8.853973e-01</td>\n",
       "    </tr>\n",
       "    <tr>\n",
       "      <th>15</th>\n",
       "      <td>Power_EM_predict</td>\n",
       "      <td>4.065362e-02</td>\n",
       "    </tr>\n",
       "    <tr>\n",
       "      <th>10</th>\n",
       "      <td>ME.SFCI.act.gPkWh</td>\n",
       "      <td>3.122750e-02</td>\n",
       "    </tr>\n",
       "    <tr>\n",
       "      <th>9</th>\n",
       "      <td>V.SLPOG.act.PRC</td>\n",
       "      <td>1.338717e-02</td>\n",
       "    </tr>\n",
       "    <tr>\n",
       "      <th>2</th>\n",
       "      <td>V.COG.act.deg</td>\n",
       "      <td>7.450463e-03</td>\n",
       "    </tr>\n",
       "    <tr>\n",
       "      <th>6</th>\n",
       "      <td>V.GPSLON.act.deg</td>\n",
       "      <td>4.968666e-03</td>\n",
       "    </tr>\n",
       "    <tr>\n",
       "      <th>8</th>\n",
       "      <td>WEA.WST.act.mPs</td>\n",
       "      <td>4.315626e-03</td>\n",
       "    </tr>\n",
       "    <tr>\n",
       "      <th>5</th>\n",
       "      <td>V.GPSLAT.act.deg</td>\n",
       "      <td>2.367560e-03</td>\n",
       "    </tr>\n",
       "    <tr>\n",
       "      <th>0</th>\n",
       "      <td>ME.FTS.act.dgC</td>\n",
       "      <td>2.144348e-03</td>\n",
       "    </tr>\n",
       "    <tr>\n",
       "      <th>11</th>\n",
       "      <td>DDM.TRIM.act.m</td>\n",
       "      <td>1.949423e-03</td>\n",
       "    </tr>\n",
       "    <tr>\n",
       "      <th>13</th>\n",
       "      <td>Wave_Height_m_daily</td>\n",
       "      <td>1.684762e-03</td>\n",
       "    </tr>\n",
       "    <tr>\n",
       "      <th>12</th>\n",
       "      <td>DDM.DRAFT.act.m</td>\n",
       "      <td>1.612530e-03</td>\n",
       "    </tr>\n",
       "    <tr>\n",
       "      <th>4</th>\n",
       "      <td>V.RUA.act.deg</td>\n",
       "      <td>7.601816e-04</td>\n",
       "    </tr>\n",
       "    <tr>\n",
       "      <th>14</th>\n",
       "      <td>True_Wave_Dir_deg_daily</td>\n",
       "      <td>6.846975e-04</td>\n",
       "    </tr>\n",
       "    <tr>\n",
       "      <th>7</th>\n",
       "      <td>WEA.WDT.act.deg</td>\n",
       "      <td>6.686103e-04</td>\n",
       "    </tr>\n",
       "    <tr>\n",
       "      <th>19</th>\n",
       "      <td>passage_type_SouthAmerica&gt;13.5kn</td>\n",
       "      <td>6.311155e-04</td>\n",
       "    </tr>\n",
       "    <tr>\n",
       "      <th>18</th>\n",
       "      <td>passage_type_SouthAmerica&lt;13.5kn</td>\n",
       "      <td>8.472166e-05</td>\n",
       "    </tr>\n",
       "    <tr>\n",
       "      <th>1</th>\n",
       "      <td>HFO.GME.act.nodim</td>\n",
       "      <td>5.894162e-06</td>\n",
       "    </tr>\n",
       "    <tr>\n",
       "      <th>17</th>\n",
       "      <td>passage_type_Europe&gt;13.5kn</td>\n",
       "      <td>5.354430e-06</td>\n",
       "    </tr>\n",
       "    <tr>\n",
       "      <th>16</th>\n",
       "      <td>passage_type_Europe&lt;13.5kn</td>\n",
       "      <td>4.469438e-07</td>\n",
       "    </tr>\n",
       "  </tbody>\n",
       "</table>\n",
       "</div>"
      ],
      "text/plain": [
       "                            features    importance\n",
       "3                       V.SOG.act.kn  8.853973e-01\n",
       "15                  Power_EM_predict  4.065362e-02\n",
       "10                 ME.SFCI.act.gPkWh  3.122750e-02\n",
       "9                    V.SLPOG.act.PRC  1.338717e-02\n",
       "2                      V.COG.act.deg  7.450463e-03\n",
       "6                   V.GPSLON.act.deg  4.968666e-03\n",
       "8                    WEA.WST.act.mPs  4.315626e-03\n",
       "5                   V.GPSLAT.act.deg  2.367560e-03\n",
       "0                     ME.FTS.act.dgC  2.144348e-03\n",
       "11                    DDM.TRIM.act.m  1.949423e-03\n",
       "13               Wave_Height_m_daily  1.684762e-03\n",
       "12                   DDM.DRAFT.act.m  1.612530e-03\n",
       "4                      V.RUA.act.deg  7.601816e-04\n",
       "14           True_Wave_Dir_deg_daily  6.846975e-04\n",
       "7                    WEA.WDT.act.deg  6.686103e-04\n",
       "19  passage_type_SouthAmerica>13.5kn  6.311155e-04\n",
       "18  passage_type_SouthAmerica<13.5kn  8.472166e-05\n",
       "1                  HFO.GME.act.nodim  5.894162e-06\n",
       "17        passage_type_Europe>13.5kn  5.354430e-06\n",
       "16        passage_type_Europe<13.5kn  4.469438e-07"
      ]
     },
     "execution_count": 136,
     "metadata": {},
     "output_type": "execute_result"
    }
   ],
   "source": [
    "df_importance = pd.DataFrame({'features' : X_train.columns, 'importance' : forest3['randomforestregressor'].feature_importances_})\n",
    "df_importance.sort_values('importance',ascending=False)"
   ]
  },
  {
   "cell_type": "code",
   "execution_count": 143,
   "metadata": {},
   "outputs": [
    {
     "data": {
      "image/png": "[encoded data removed]",
      "text/plain": [
       "<Figure size 576x396 with 1 Axes>"
      ]
     },
     "metadata": {},
     "output_type": "display_data"
    }
   ],
   "source": [
    "result = permutation_importance(\n",
    "    forest3, X_test, y_test, n_repeats=10, random_state=42, n_jobs=2\n",
    ")\n",
    "sorted_idx = result.importances_mean.argsort()\n",
    "\n",
    "fig, ax = plt.subplots()\n",
    "ax.boxplot(\n",
    "    result.importances[sorted_idx].T, vert=False, labels=X_test.columns[sorted_idx]\n",
    ")\n",
    "ax.set_title(\"Permutation Importances (test set)\")\n",
    "fig.tight_layout()\n",
    "plt.show()"
   ]
  },
  {
   "cell_type": "markdown",
   "metadata": {},
   "source": [
    "## False prediction of target = 0"
   ]
  },
  {
   "cell_type": "code",
   "execution_count": 152,
   "metadata": {},
   "outputs": [],
   "source": [
    "df_result_train = X_train.copy()"
   ]
  },
  {
   "cell_type": "code",
   "execution_count": 153,
   "metadata": {},
   "outputs": [],
   "source": [
    "df_result_train['predicted'] = y_pred_train\n",
    "df_result_train['actual'] = y_train"
   ]
  },
  {
   "cell_type": "code",
   "execution_count": 158,
   "metadata": {},
   "outputs": [],
   "source": [
    "df_target_zero_false = df_result_train[df_result_train['actual']<=0]\n",
    "df_target_zero_false = df_target_zero_false[df_target_zero_false['predicted']>0.1]"
   ]
  },
  {
   "cell_type": "code",
   "execution_count": 159,
   "metadata": {},
   "outputs": [
    {
     "data": {
      "text/html": [
       "<div>\n",
       "<style scoped>\n",
       "    .dataframe tbody tr th:only-of-type {\n",
       "        vertical-align: middle;\n",
       "    }\n",
       "\n",
       "    .dataframe tbody tr th {\n",
       "        vertical-align: top;\n",
       "    }\n",
       "\n",
       "    .dataframe thead th {\n",
       "        text-align: right;\n",
       "    }\n",
       "</style>\n",
       "<table border=\"1\" class=\"dataframe\">\n",
       "  <thead>\n",
       "    <tr style=\"text-align: right;\">\n",
       "      <th></th>\n",
       "      <th>ME.FTS.act.dgC</th>\n",
       "      <th>HFO.GME.act.nodim</th>\n",
       "      <th>V.COG.act.deg</th>\n",
       "      <th>V.SOG.act.kn</th>\n",
       "      <th>V.RUA.act.deg</th>\n",
       "      <th>V.GPSLAT.act.deg</th>\n",
       "      <th>V.GPSLON.act.deg</th>\n",
       "      <th>WEA.WDT.act.deg</th>\n",
       "      <th>WEA.WST.act.mPs</th>\n",
       "      <th>V.SLPOG.act.PRC</th>\n",
       "      <th>...</th>\n",
       "      <th>DDM.DRAFT.act.m</th>\n",
       "      <th>Wave_Height_m_daily</th>\n",
       "      <th>True_Wave_Dir_deg_daily</th>\n",
       "      <th>Power_EM_predict</th>\n",
       "      <th>passage_type_Europe&lt;13.5kn</th>\n",
       "      <th>passage_type_Europe&gt;13.5kn</th>\n",
       "      <th>passage_type_SouthAmerica&lt;13.5kn</th>\n",
       "      <th>passage_type_SouthAmerica&gt;13.5kn</th>\n",
       "      <th>predicted</th>\n",
       "      <th>actual</th>\n",
       "    </tr>\n",
       "  </thead>\n",
       "  <tbody>\n",
       "    <tr>\n",
       "      <th>208003</th>\n",
       "      <td>60.858917</td>\n",
       "      <td>0.0</td>\n",
       "      <td>31.000000</td>\n",
       "      <td>0.889</td>\n",
       "      <td>35.700001</td>\n",
       "      <td>9.442134</td>\n",
       "      <td>-79.896866</td>\n",
       "      <td>326.928955</td>\n",
       "      <td>6.287233</td>\n",
       "      <td>103.653893</td>\n",
       "      <td>...</td>\n",
       "      <td>0.0262</td>\n",
       "      <td>1.0</td>\n",
       "      <td>79.0</td>\n",
       "      <td>6424.35</td>\n",
       "      <td>0</td>\n",
       "      <td>0</td>\n",
       "      <td>1</td>\n",
       "      <td>0</td>\n",
       "      <td>0.127835</td>\n",
       "      <td>0.0</td>\n",
       "    </tr>\n",
       "    <tr>\n",
       "      <th>87224</th>\n",
       "      <td>36.662109</td>\n",
       "      <td>0.0</td>\n",
       "      <td>328.899994</td>\n",
       "      <td>0.001</td>\n",
       "      <td>0.000000</td>\n",
       "      <td>51.948624</td>\n",
       "      <td>4.057535</td>\n",
       "      <td>344.500000</td>\n",
       "      <td>5.916060</td>\n",
       "      <td>0.000000</td>\n",
       "      <td>...</td>\n",
       "      <td>0.2620</td>\n",
       "      <td>0.2</td>\n",
       "      <td>299.0</td>\n",
       "      <td>13541.05</td>\n",
       "      <td>1</td>\n",
       "      <td>0</td>\n",
       "      <td>0</td>\n",
       "      <td>0</td>\n",
       "      <td>0.137138</td>\n",
       "      <td>0.0</td>\n",
       "    </tr>\n",
       "    <tr>\n",
       "      <th>131135</th>\n",
       "      <td>67.217102</td>\n",
       "      <td>1.0</td>\n",
       "      <td>154.300003</td>\n",
       "      <td>0.880</td>\n",
       "      <td>-0.100000</td>\n",
       "      <td>-12.052871</td>\n",
       "      <td>-77.148880</td>\n",
       "      <td>156.831955</td>\n",
       "      <td>8.799218</td>\n",
       "      <td>50.049667</td>\n",
       "      <td>...</td>\n",
       "      <td>0.0510</td>\n",
       "      <td>3.5</td>\n",
       "      <td>339.0</td>\n",
       "      <td>15780.69</td>\n",
       "      <td>0</td>\n",
       "      <td>0</td>\n",
       "      <td>1</td>\n",
       "      <td>0</td>\n",
       "      <td>0.489606</td>\n",
       "      <td>0.0</td>\n",
       "    </tr>\n",
       "    <tr>\n",
       "      <th>44874</th>\n",
       "      <td>66.105225</td>\n",
       "      <td>1.0</td>\n",
       "      <td>124.699997</td>\n",
       "      <td>2.386</td>\n",
       "      <td>0.000000</td>\n",
       "      <td>-12.049746</td>\n",
       "      <td>-77.151726</td>\n",
       "      <td>89.302185</td>\n",
       "      <td>2.049487</td>\n",
       "      <td>123.094543</td>\n",
       "      <td>...</td>\n",
       "      <td>0.1080</td>\n",
       "      <td>0.1</td>\n",
       "      <td>339.0</td>\n",
       "      <td>13374.00</td>\n",
       "      <td>0</td>\n",
       "      <td>0</td>\n",
       "      <td>1</td>\n",
       "      <td>0</td>\n",
       "      <td>0.376233</td>\n",
       "      <td>0.0</td>\n",
       "    </tr>\n",
       "    <tr>\n",
       "      <th>180923</th>\n",
       "      <td>63.605682</td>\n",
       "      <td>0.0</td>\n",
       "      <td>65.199997</td>\n",
       "      <td>3.429</td>\n",
       "      <td>-0.400000</td>\n",
       "      <td>53.969742</td>\n",
       "      <td>7.907341</td>\n",
       "      <td>150.499512</td>\n",
       "      <td>8.661499</td>\n",
       "      <td>53.655136</td>\n",
       "      <td>...</td>\n",
       "      <td>-0.0154</td>\n",
       "      <td>1.5</td>\n",
       "      <td>139.0</td>\n",
       "      <td>11249.03</td>\n",
       "      <td>1</td>\n",
       "      <td>0</td>\n",
       "      <td>0</td>\n",
       "      <td>0</td>\n",
       "      <td>0.287036</td>\n",
       "      <td>0.0</td>\n",
       "    </tr>\n",
       "    <tr>\n",
       "      <th>...</th>\n",
       "      <td>...</td>\n",
       "      <td>...</td>\n",
       "      <td>...</td>\n",
       "      <td>...</td>\n",
       "      <td>...</td>\n",
       "      <td>...</td>\n",
       "      <td>...</td>\n",
       "      <td>...</td>\n",
       "      <td>...</td>\n",
       "      <td>...</td>\n",
       "      <td>...</td>\n",
       "      <td>...</td>\n",
       "      <td>...</td>\n",
       "      <td>...</td>\n",
       "      <td>...</td>\n",
       "      <td>...</td>\n",
       "      <td>...</td>\n",
       "      <td>...</td>\n",
       "      <td>...</td>\n",
       "      <td>...</td>\n",
       "      <td>...</td>\n",
       "    </tr>\n",
       "    <tr>\n",
       "      <th>49927</th>\n",
       "      <td>46.536255</td>\n",
       "      <td>1.0</td>\n",
       "      <td>82.099998</td>\n",
       "      <td>0.344</td>\n",
       "      <td>0.000000</td>\n",
       "      <td>-23.040384</td>\n",
       "      <td>-70.377892</td>\n",
       "      <td>38.872223</td>\n",
       "      <td>3.202462</td>\n",
       "      <td>51.335655</td>\n",
       "      <td>...</td>\n",
       "      <td>0.0759</td>\n",
       "      <td>1.0</td>\n",
       "      <td>329.0</td>\n",
       "      <td>11138.45</td>\n",
       "      <td>0</td>\n",
       "      <td>0</td>\n",
       "      <td>1</td>\n",
       "      <td>0</td>\n",
       "      <td>0.175223</td>\n",
       "      <td>0.0</td>\n",
       "    </tr>\n",
       "    <tr>\n",
       "      <th>38195</th>\n",
       "      <td>59.453369</td>\n",
       "      <td>0.0</td>\n",
       "      <td>172.800003</td>\n",
       "      <td>0.386</td>\n",
       "      <td>0.200000</td>\n",
       "      <td>9.266531</td>\n",
       "      <td>-79.911674</td>\n",
       "      <td>343.469543</td>\n",
       "      <td>0.711006</td>\n",
       "      <td>0.000000</td>\n",
       "      <td>...</td>\n",
       "      <td>-0.0790</td>\n",
       "      <td>0.3</td>\n",
       "      <td>9.0</td>\n",
       "      <td>33284.45</td>\n",
       "      <td>0</td>\n",
       "      <td>0</td>\n",
       "      <td>1</td>\n",
       "      <td>0</td>\n",
       "      <td>0.253519</td>\n",
       "      <td>0.0</td>\n",
       "    </tr>\n",
       "    <tr>\n",
       "      <th>208093</th>\n",
       "      <td>64.541138</td>\n",
       "      <td>0.0</td>\n",
       "      <td>98.300003</td>\n",
       "      <td>0.041</td>\n",
       "      <td>0.600000</td>\n",
       "      <td>9.366529</td>\n",
       "      <td>-79.885216</td>\n",
       "      <td>184.500000</td>\n",
       "      <td>1.286100</td>\n",
       "      <td>18.026699</td>\n",
       "      <td>...</td>\n",
       "      <td>0.0540</td>\n",
       "      <td>1.0</td>\n",
       "      <td>79.0</td>\n",
       "      <td>6424.35</td>\n",
       "      <td>0</td>\n",
       "      <td>0</td>\n",
       "      <td>1</td>\n",
       "      <td>0</td>\n",
       "      <td>0.397996</td>\n",
       "      <td>0.0</td>\n",
       "    </tr>\n",
       "    <tr>\n",
       "      <th>209543</th>\n",
       "      <td>51.867950</td>\n",
       "      <td>0.0</td>\n",
       "      <td>170.699997</td>\n",
       "      <td>1.720</td>\n",
       "      <td>0.500000</td>\n",
       "      <td>9.263090</td>\n",
       "      <td>-79.911140</td>\n",
       "      <td>187.085693</td>\n",
       "      <td>4.744702</td>\n",
       "      <td>0.000000</td>\n",
       "      <td>...</td>\n",
       "      <td>-0.0700</td>\n",
       "      <td>1.0</td>\n",
       "      <td>79.0</td>\n",
       "      <td>6424.35</td>\n",
       "      <td>0</td>\n",
       "      <td>0</td>\n",
       "      <td>1</td>\n",
       "      <td>0</td>\n",
       "      <td>0.326466</td>\n",
       "      <td>0.0</td>\n",
       "    </tr>\n",
       "    <tr>\n",
       "      <th>139069</th>\n",
       "      <td>71.891785</td>\n",
       "      <td>1.0</td>\n",
       "      <td>134.000000</td>\n",
       "      <td>0.326</td>\n",
       "      <td>0.100000</td>\n",
       "      <td>-33.590332</td>\n",
       "      <td>-71.618492</td>\n",
       "      <td>214.609344</td>\n",
       "      <td>3.897746</td>\n",
       "      <td>61.086761</td>\n",
       "      <td>...</td>\n",
       "      <td>0.0362</td>\n",
       "      <td>2.0</td>\n",
       "      <td>159.0</td>\n",
       "      <td>20548.10</td>\n",
       "      <td>0</td>\n",
       "      <td>0</td>\n",
       "      <td>1</td>\n",
       "      <td>0</td>\n",
       "      <td>0.239098</td>\n",
       "      <td>0.0</td>\n",
       "    </tr>\n",
       "  </tbody>\n",
       "</table>\n",
       "<p>173 rows × 22 columns</p>\n",
       "</div>"
      ],
      "text/plain": [
       "        ME.FTS.act.dgC  HFO.GME.act.nodim  V.COG.act.deg  V.SOG.act.kn  \\\n",
       "208003       60.858917                0.0      31.000000         0.889   \n",
       "87224        36.662109                0.0     328.899994         0.001   \n",
       "131135       67.217102                1.0     154.300003         0.880   \n",
       "44874        66.105225                1.0     124.699997         2.386   \n",
       "180923       63.605682                0.0      65.199997         3.429   \n",
       "...                ...                ...            ...           ...   \n",
       "49927        46.536255                1.0      82.099998         0.344   \n",
       "38195        59.453369                0.0     172.800003         0.386   \n",
       "208093       64.541138                0.0      98.300003         0.041   \n",
       "209543       51.867950                0.0     170.699997         1.720   \n",
       "139069       71.891785                1.0     134.000000         0.326   \n",
       "\n",
       "        V.RUA.act.deg  V.GPSLAT.act.deg  V.GPSLON.act.deg  WEA.WDT.act.deg  \\\n",
       "208003      35.700001          9.442134        -79.896866       326.928955   \n",
       "87224        0.000000         51.948624          4.057535       344.500000   \n",
       "131135      -0.100000        -12.052871        -77.148880       156.831955   \n",
       "44874        0.000000        -12.049746        -77.151726        89.302185   \n",
       "180923      -0.400000         53.969742          7.907341       150.499512   \n",
       "...               ...               ...               ...              ...   \n",
       "49927        0.000000        -23.040384        -70.377892        38.872223   \n",
       "38195        0.200000          9.266531        -79.911674       343.469543   \n",
       "208093       0.600000          9.366529        -79.885216       184.500000   \n",
       "209543       0.500000          9.263090        -79.911140       187.085693   \n",
       "139069       0.100000        -33.590332        -71.618492       214.609344   \n",
       "\n",
       "        WEA.WST.act.mPs  V.SLPOG.act.PRC  ...  DDM.DRAFT.act.m  \\\n",
       "208003         6.287233       103.653893  ...           0.0262   \n",
       "87224          5.916060         0.000000  ...           0.2620   \n",
       "131135         8.799218        50.049667  ...           0.0510   \n",
       "44874          2.049487       123.094543  ...           0.1080   \n",
       "180923         8.661499        53.655136  ...          -0.0154   \n",
       "...                 ...              ...  ...              ...   \n",
       "49927          3.202462        51.335655  ...           0.0759   \n",
       "38195          0.711006         0.000000  ...          -0.0790   \n",
       "208093         1.286100        18.026699  ...           0.0540   \n",
       "209543         4.744702         0.000000  ...          -0.0700   \n",
       "139069         3.897746        61.086761  ...           0.0362   \n",
       "\n",
       "        Wave_Height_m_daily  True_Wave_Dir_deg_daily  Power_EM_predict  \\\n",
       "208003                  1.0                     79.0           6424.35   \n",
       "87224                   0.2                    299.0          13541.05   \n",
       "131135                  3.5                    339.0          15780.69   \n",
       "44874                   0.1                    339.0          13374.00   \n",
       "180923                  1.5                    139.0          11249.03   \n",
       "...                     ...                      ...               ...   \n",
       "49927                   1.0                    329.0          11138.45   \n",
       "38195                   0.3                      9.0          33284.45   \n",
       "208093                  1.0                     79.0           6424.35   \n",
       "209543                  1.0                     79.0           6424.35   \n",
       "139069                  2.0                    159.0          20548.10   \n",
       "\n",
       "        passage_type_Europe<13.5kn  passage_type_Europe>13.5kn  \\\n",
       "208003                           0                           0   \n",
       "87224                            1                           0   \n",
       "131135                           0                           0   \n",
       "44874                            0                           0   \n",
       "180923                           1                           0   \n",
       "...                            ...                         ...   \n",
       "49927                            0                           0   \n",
       "38195                            0                           0   \n",
       "208093                           0                           0   \n",
       "209543                           0                           0   \n",
       "139069                           0                           0   \n",
       "\n",
       "        passage_type_SouthAmerica<13.5kn  passage_type_SouthAmerica>13.5kn  \\\n",
       "208003                                 1                                 0   \n",
       "87224                                  0                                 0   \n",
       "131135                                 1                                 0   \n",
       "44874                                  1                                 0   \n",
       "180923                                 0                                 0   \n",
       "...                                  ...                               ...   \n",
       "49927                                  1                                 0   \n",
       "38195                                  1                                 0   \n",
       "208093                                 1                                 0   \n",
       "209543                                 1                                 0   \n",
       "139069                                 1                                 0   \n",
       "\n",
       "        predicted  actual  \n",
       "208003   0.127835     0.0  \n",
       "87224    0.137138     0.0  \n",
       "131135   0.489606     0.0  \n",
       "44874    0.376233     0.0  \n",
       "180923   0.287036     0.0  \n",
       "...           ...     ...  \n",
       "49927    0.175223     0.0  \n",
       "38195    0.253519     0.0  \n",
       "208093   0.397996     0.0  \n",
       "209543   0.326466     0.0  \n",
       "139069   0.239098     0.0  \n",
       "\n",
       "[173 rows x 22 columns]"
      ]
     },
     "execution_count": 159,
     "metadata": {},
     "output_type": "execute_result"
    }
   ],
   "source": [
    "df_target_zero_false"
   ]
  },
  {
   "cell_type": "code",
   "execution_count": 166,
   "metadata": {},
   "outputs": [
    {
     "data": {
      "application/vnd.plotly.v1+json": {
       "config": {
        "plotlyServerURL": "https://plot.ly"
       },
       "data": [
        {
         "hovertemplate": "V.SOG.act.kn=%{x}<br>predicted=%{y}<br>ME.SFCI.act.gPkWh=%{marker.color}<extra></extra>",
         "legendgroup": "",
         "marker": {
          "color": [
           155.31973266601562,
           0,
           318.15216064453125,
           183.6519012451172,
           175.5594024658203,
           0,
           179.58279418945312,
           0,
           170.5428466796875,
           0,
           194.67282104492188,
           143.2569580078125,
           156.42808532714844,
           216.22560119628903,
           204.39410400390625,
           184.6134185791016,
           156.252685546875,
           290.6801452636719,
           70.73017120361328,
           207.611557006836,
           196.41737365722656,
           151.0653839111328,
           179.65394592285156,
           257.6543884277344,
           186.8035125732422,
           0,
           136.49017333984375,
           129.17230224609375,
           234.33901977539065,
           157.9136962890625,
           201.29620361328125,
           175.34461975097656,
           0,
           169.46640014648438,
           179.81463623046875,
           188.1005249023437,
           259.25604248046875,
           174.08905029296875,
           142.12936401367188,
           0,
           168.0079345703125,
           146.62925720214844,
           0,
           0,
           273.8129577636719,
           161.0243682861328,
           145.48495483398438,
           174.9265899658203,
           260.9774780273437,
           330.6029052734375,
           161.63990783691406,
           199.050521850586,
           193.87413024902344,
           164.7904052734375,
           149.29006958007812,
           170.57711791992188,
           184.08399963378903,
           190.72889709472656,
           191.6480712890625,
           144.49903869628906,
           163.6407012939453,
           134.7496795654297,
           157.2018585205078,
           177.09446716308594,
           65.47767639160156,
           123.56185150146484,
           135.32858276367188,
           217.5376434326172,
           97.11891174316406,
           0,
           160.4922637939453,
           177.32167053222656,
           141.44601440429688,
           57.6236457824707,
           168.27235412597656,
           167.22767639160156,
           154.28060913085938,
           172.20956420898438,
           194.4945678710937,
           0,
           141.98028564453125,
           0,
           159.12399291992188,
           152.93966674804688,
           213.2419891357422,
           154.2258758544922,
           171.22447204589844,
           153.65089416503906,
           145.0121612548828,
           153.60919189453125,
           187.73629760742188,
           264.0040588378906,
           215.65261840820312,
           169.88470458984375,
           158.94151306152344,
           219.9195098876953,
           163.2912139892578,
           231.02101135253903,
           189.16278076171875,
           110.8674774169922,
           165.1300811767578,
           159.3505096435547,
           152.8639373779297,
           203.76724243164065,
           137.8219451904297,
           180.7040405273437,
           262.6502380371094,
           223.2107849121093,
           200.16177368164065,
           198.5305938720703,
           160.8284149169922,
           202.53781127929688,
           272.2494506835937,
           206.1717529296875,
           171.39144897460938,
           182.0754547119141,
           162.92388916015625,
           145.54901123046875,
           139.3651123046875,
           162.643310546875,
           0,
           169.94512939453125,
           200.9922637939453,
           0,
           200.2676696777344,
           166.26942443847656,
           168.4583740234375,
           177.71435546875,
           231.8923797607422,
           132.9757843017578,
           211.16249084472656,
           172.81202697753906,
           153.8164825439453,
           184.8070526123047,
           170.10780334472656,
           179.09527587890625,
           134.89610290527344,
           155.42347717285156,
           172.8893585205078,
           173.95025634765625,
           0,
           128.78396606445312,
           243.9781494140625,
           173.4503173828125,
           0,
           152.05099487304688,
           162.83204650878906,
           151.2542266845703,
           215.6852264404297,
           163.42068481445312,
           160.960205078125,
           169.86802673339844,
           168.41629028320312,
           124.3755111694336,
           230.6339111328125,
           234.5349273681641,
           198.3604888916016,
           244.366455078125,
           140.08432006835938,
           167.77598571777344,
           199.86990356445312,
           128.24197387695312,
           189.31797790527344,
           207.84608459472656,
           164.915771484375,
           146.30630493164062,
           139.5170135498047,
           0,
           172.96592712402344,
           174.2918243408203,
           214.7103881835937,
           180.7442169189453,
           185.93380737304688
          ],
          "coloraxis": "coloraxis",
          "symbol": "circle"
         },
         "mode": "markers",
         "name": "",
         "orientation": "v",
         "showlegend": false,
         "type": "scatter",
         "x": [
          0.8889999985694885,
          0.0010000000474974,
          0.8799999952316284,
          2.385999917984009,
          3.428999900817871,
          0.0049999998882412,
          0.3400000035762787,
          13.805999755859377,
          0.9340000152587892,
          0.003000000026077,
          0.3400000035762787,
          0.3799999952316284,
          0.2349999994039535,
          5.873000144958496,
          0.4490000009536743,
          0.9229999780654908,
          10.864999771118164,
          0.0370000004768371,
          14.718000411987305,
          0.3989999890327453,
          5.7129998207092285,
          6.52899980545044,
          1.1299999952316284,
          0.1059999987483024,
          0.3409999907016754,
          13.899999618530272,
          11.866000175476074,
          9.182000160217283,
          0.0309999994933605,
          0.4620000123977661,
          0.4740000069141388,
          0.4329999983310699,
          0.0080000003799796,
          0.9459999799728394,
          4.02400016784668,
          1.281999945640564,
          0.0020000000949949,
          8.980999946594238,
          14.508000373840332,
          0.0089999996125698,
          1.7130000591278076,
          10.232000350952148,
          0.0070000002160668,
          0.0120000001043081,
          0.257999986410141,
          2.0299999713897705,
          7.415999889373779,
          3.345000028610229,
          5.550000190734863,
          0.2039999961853027,
          0.3120000064373016,
          1.440999984741211,
          0.4900000095367431,
          0.0450000017881393,
          0.0850000008940696,
          0.962000012397766,
          0.3269999921321869,
          0.4979999959468841,
          1.4989999532699585,
          0.1800000071525573,
          5.165999889373779,
          18.36800003051757,
          10.272000312805176,
          0.1389999985694885,
          11.758000373840332,
          7.11899995803833,
          1.3619999885559082,
          0.5989999771118164,
          5.288000106811523,
          0.0099999997764825,
          2.108999967575073,
          0.6449999809265137,
          1.909999966621399,
          6.440999984741211,
          9.468999862670898,
          2.8510000705718994,
          1.3650000095367432,
          1.7079999446868896,
          5.76200008392334,
          0.0010000000474974,
          12.123000144958496,
          14.28600025177002,
          0.181999996304512,
          1.7170000076293943,
          0.1260000020265579,
          3.2179999351501465,
          6.8480000495910645,
          7.449999809265137,
          7.13700008392334,
          0.1289999932050705,
          0.871999979019165,
          0.3880000114440918,
          1.7699999809265137,
          0.0340000018477439,
          11.317999839782717,
          0.3849999904632568,
          7.116000175476074,
          0.2709999978542328,
          0.7149999737739563,
          13.517999649047852,
          0.6729999780654907,
          5.380000114440918,
          1.0019999742507937,
          2.259999990463257,
          10.496000289916992,
          0.7409999966621399,
          0.0590000003576278,
          3.632999897003174,
          0.0750000029802322,
          0.8450000286102295,
          1.0199999809265137,
          0.1389999985694885,
          0.061999998986721,
          0.0979999974370002,
          0.8190000057220459,
          0.1739999949932098,
          0.9409999847412108,
          13.196000099182127,
          7.730000019073486,
          0.2010000050067901,
          0.0070000002160668,
          0.7260000109672546,
          0.1840000003576278,
          0.003000000026077,
          6.045000076293945,
          0.5640000104904175,
          5.804999828338623,
          1.0299999713897705,
          0.5299999713897705,
          0.4399999976158142,
          0.2879999876022339,
          0.4950000047683716,
          3.302000045776367,
          0.9929999709129332,
          0.7979999780654907,
          0.6620000004768372,
          1.0740000009536743,
          6.027999877929688,
          2.76200008392334,
          0.4749999940395355,
          0.0390000008046627,
          10.517000198364258,
          0.006000000052154,
          1.2350000143051147,
          0.0070000002160668,
          6.670000076293945,
          3.440999984741211,
          2.9570000171661377,
          1.8350000381469729,
          11.925999641418455,
          11.291999816894531,
          1.4589999914169312,
          0.4659999907016754,
          1.409000039100647,
          0.0989999994635582,
          2.996999979019165,
          0.3589999973773956,
          0.2960000038146972,
          0.3030000030994415,
          1.4600000381469729,
          2.0309998989105225,
          6.099999904632568,
          1.871000051498413,
          0.4979999959468841,
          0.6309999823570251,
          11.03499984741211,
          1.0989999771118164,
          0.0040000001899898,
          0.3440000116825104,
          0.3860000073909759,
          0.0410000011324882,
          1.7200000286102295,
          0.3260000050067901
         ],
         "xaxis": "x",
         "y": [
          0.1278352607386278,
          0.13713818005027945,
          0.48960632328555304,
          0.3762328848908527,
          0.28703599248178585,
          0.10158655880968567,
          0.3773766765855368,
          0.4909879390196626,
          0.29412125119866717,
          0.11131193825946913,
          0.5443677955737356,
          0.13278222721756422,
          0.19720588059966115,
          0.4088410759392243,
          0.41194739388968854,
          0.20358427847141997,
          0.14827712011889138,
          0.16965634315947056,
          0.46928223547409914,
          0.3395097247346774,
          0.18675280514388024,
          0.12695108928693347,
          0.3647865536538639,
          0.3672091207460327,
          0.330267761888684,
          1.0586563143893555,
          0.11256864950566246,
          0.11435320082672758,
          0.2685561988345809,
          0.10314847924861581,
          0.23513898478744558,
          0.2821004147365813,
          0.12024661727317028,
          0.5359579278220737,
          0.3626648084913272,
          0.5919886735585472,
          0.2723393808788306,
          0.11633553491977977,
          0.9046596957028082,
          0.15581448935693692,
          0.2735202356561891,
          0.3627764685114865,
          0.11373677394284083,
          0.10158655880968567,
          0.36943558555383865,
          0.17525897123164633,
          0.12709732048487277,
          0.2649429798360032,
          0.7664062618896922,
          0.40017963772196863,
          0.15534012461433874,
          0.466731680637233,
          0.30652541615694856,
          0.18184353368618023,
          0.35518174534624564,
          0.3386330169975271,
          0.22934238572980864,
          0.3732472710959039,
          0.3487084388710697,
          0.24927467507383305,
          0.18970179739238968,
          1.2612281786592054,
          0.2201444688228203,
          0.24360224703369707,
          0.10406974701084167,
          0.10995295362642371,
          0.16432711982770873,
          0.6751731253001662,
          0.145126144991801,
          0.10158655880968567,
          0.21008371861986624,
          0.30276681437060105,
          0.2211542408206432,
          0.11614734190898567,
          0.11132329842316414,
          0.16008031710151877,
          0.14832430534441443,
          0.20733852883733023,
          0.16306678250248766,
          0.10426497880098774,
          0.13828048681354882,
          0.6004303766411357,
          0.2227916681062688,
          0.10843036890612744,
          0.35291237987456997,
          0.19966319901014187,
          0.16700603770055444,
          0.1437690794292374,
          0.13949513933172966,
          0.24580526298465522,
          0.22961489901911658,
          0.4475196438485323,
          0.5443323245895377,
          0.3460528827989399,
          0.17774020091207507,
          0.4413650573995975,
          0.1708179707497581,
          0.472853628505432,
          0.36659104262421593,
          0.144961280307216,
          0.19802713006706216,
          0.11345840059205538,
          0.12205585156643106,
          0.6942082066903094,
          0.11956046482139278,
          0.3410181276090832,
          0.25154761515551355,
          0.34428226495090924,
          0.24143029690645065,
          0.3407508951622258,
          0.15874977750076172,
          0.30802333578141583,
          0.19456266151437812,
          0.5106880515193213,
          0.25119250414811034,
          0.20138978044187236,
          0.17232972300101657,
          0.21888003030825648,
          0.13314332896799125,
          0.11489113206184824,
          0.11131193825946913,
          0.11514212681222748,
          0.2566842167921775,
          0.15461003791517208,
          0.18066831082527318,
          0.11034143403946428,
          0.11574088902332727,
          0.3758051410308573,
          0.49527670210304114,
          0.6806363998946787,
          0.45905473307367173,
          0.2726247812999079,
          0.1643232847041076,
          0.20860904429277496,
          0.16678275793070302,
          0.4296136513753557,
          0.301466900636416,
          0.11252149651022929,
          0.26288541083170586,
          0.21634021644806092,
          0.11129871379451944,
          0.13202089605163855,
          0.40399875264322993,
          0.18365579945227664,
          0.10158655880968567,
          0.14446000741084877,
          0.15013379465106058,
          0.13874933583088733,
          0.352541314174489,
          0.20837866657542087,
          0.20070311284729464,
          0.14790979942741994,
          0.209811506385763,
          0.35757383711703616,
          0.44080352863522826,
          0.6616685121487784,
          0.41923603674062976,
          0.36070669148703993,
          0.32203155031342395,
          0.12541370812582056,
          0.3353325840443154,
          0.13035225831572034,
          0.4260952319330261,
          0.38476840076390795,
          0.1616953654504321,
          0.3957188044596726,
          0.12348651171937637,
          0.11131193825946913,
          0.17522323896463426,
          0.253519375485957,
          0.39799614299666985,
          0.3264656283868238,
          0.2390977910706996
         ],
         "yaxis": "y"
        }
       ],
       "layout": {
        "coloraxis": {
         "colorbar": {
          "title": {
           "text": "ME.SFCI.act.gPkWh"
          }
         },
         "colorscale": [
          [
           0,
           "#0d0887"
          ],
          [
           0.1111111111111111,
           "#46039f"
          ],
          [
           0.2222222222222222,
           "#7201a8"
          ],
          [
           0.3333333333333333,
           "#9c179e"
          ],
          [
           0.4444444444444444,
           "#bd3786"
          ],
          [
           0.5555555555555556,
           "#d8576b"
          ],
          [
           0.6666666666666666,
           "#ed7953"
          ],
          [
           0.7777777777777778,
           "#fb9f3a"
          ],
          [
           0.8888888888888888,
           "#fdca26"
          ],
          [
           1,
           "#f0f921"
          ]
         ]
        },
        "legend": {
         "tracegroupgap": 0
        },
        "margin": {
         "t": 60
        },
        "template": {
         "data": {
          "bar": [
           {
            "error_x": {
             "color": "#2a3f5f"
            },
            "error_y": {
             "color": "#2a3f5f"
            },
            "marker": {
             "line": {
              "color": "#E5ECF6",
              "width": 0.5
             },
             "pattern": {
              "fillmode": "overlay",
              "size": 10,
              "solidity": 0.2
             }
            },
            "type": "bar"
           }
          ],
          "barpolar": [
           {
            "marker": {
             "line": {
              "color": "#E5ECF6",
              "width": 0.5
             },
             "pattern": {
              "fillmode": "overlay",
              "size": 10,
              "solidity": 0.2
             }
            },
            "type": "barpolar"
           }
          ],
          "carpet": [
           {
            "aaxis": {
             "endlinecolor": "#2a3f5f",
             "gridcolor": "white",
             "linecolor": "white",
             "minorgridcolor": "white",
             "startlinecolor": "#2a3f5f"
            },
            "baxis": {
             "endlinecolor": "#2a3f5f",
             "gridcolor": "white",
             "linecolor": "white",
             "minorgridcolor": "white",
             "startlinecolor": "#2a3f5f"
            },
            "type": "carpet"
           }
          ],
          "choropleth": [
           {
            "colorbar": {
             "outlinewidth": 0,
             "ticks": ""
            },
            "type": "choropleth"
           }
          ],
          "contour": [
           {
            "colorbar": {
             "outlinewidth": 0,
             "ticks": ""
            },
            "colorscale": [
             [
              0,
              "#0d0887"
             ],
             [
              0.1111111111111111,
              "#46039f"
             ],
             [
              0.2222222222222222,
              "#7201a8"
             ],
             [
              0.3333333333333333,
              "#9c179e"
             ],
             [
              0.4444444444444444,
              "#bd3786"
             ],
             [
              0.5555555555555556,
              "#d8576b"
             ],
             [
              0.6666666666666666,
              "#ed7953"
             ],
             [
              0.7777777777777778,
              "#fb9f3a"
             ],
             [
              0.8888888888888888,
              "#fdca26"
             ],
             [
              1,
              "#f0f921"
             ]
            ],
            "type": "contour"
           }
          ],
          "contourcarpet": [
           {
            "colorbar": {
             "outlinewidth": 0,
             "ticks": ""
            },
            "type": "contourcarpet"
           }
          ],
          "heatmap": [
           {
            "colorbar": {
             "outlinewidth": 0,
             "ticks": ""
            },
            "colorscale": [
             [
              0,
              "#0d0887"
             ],
             [
              0.1111111111111111,
              "#46039f"
             ],
             [
              0.2222222222222222,
              "#7201a8"
             ],
             [
              0.3333333333333333,
              "#9c179e"
             ],
             [
              0.4444444444444444,
              "#bd3786"
             ],
             [
              0.5555555555555556,
              "#d8576b"
             ],
             [
              0.6666666666666666,
              "#ed7953"
             ],
             [
              0.7777777777777778,
              "#fb9f3a"
             ],
             [
              0.8888888888888888,
              "#fdca26"
             ],
             [
              1,
              "#f0f921"
             ]
            ],
            "type": "heatmap"
           }
          ],
          "heatmapgl": [
           {
            "colorbar": {
             "outlinewidth": 0,
             "ticks": ""
            },
            "colorscale": [
             [
              0,
              "#0d0887"
             ],
             [
              0.1111111111111111,
              "#46039f"
             ],
             [
              0.2222222222222222,
              "#7201a8"
             ],
             [
              0.3333333333333333,
              "#9c179e"
             ],
             [
              0.4444444444444444,
              "#bd3786"
             ],
             [
              0.5555555555555556,
              "#d8576b"
             ],
             [
              0.6666666666666666,
              "#ed7953"
             ],
             [
              0.7777777777777778,
              "#fb9f3a"
             ],
             [
              0.8888888888888888,
              "#fdca26"
             ],
             [
              1,
              "#f0f921"
             ]
            ],
            "type": "heatmapgl"
           }
          ],
          "histogram": [
           {
            "marker": {
             "pattern": {
              "fillmode": "overlay",
              "size": 10,
              "solidity": 0.2
             }
            },
            "type": "histogram"
           }
          ],
          "histogram2d": [
           {
            "colorbar": {
             "outlinewidth": 0,
             "ticks": ""
            },
            "colorscale": [
             [
              0,
              "#0d0887"
             ],
             [
              0.1111111111111111,
              "#46039f"
             ],
             [
              0.2222222222222222,
              "#7201a8"
             ],
             [
              0.3333333333333333,
              "#9c179e"
             ],
             [
              0.4444444444444444,
              "#bd3786"
             ],
             [
              0.5555555555555556,
              "#d8576b"
             ],
             [
              0.6666666666666666,
              "#ed7953"
             ],
             [
              0.7777777777777778,
              "#fb9f3a"
             ],
             [
              0.8888888888888888,
              "#fdca26"
             ],
             [
              1,
              "#f0f921"
             ]
            ],
            "type": "histogram2d"
           }
          ],
          "histogram2dcontour": [
           {
            "colorbar": {
             "outlinewidth": 0,
             "ticks": ""
            },
            "colorscale": [
             [
              0,
              "#0d0887"
             ],
             [
              0.1111111111111111,
              "#46039f"
             ],
             [
              0.2222222222222222,
              "#7201a8"
             ],
             [
              0.3333333333333333,
              "#9c179e"
             ],
             [
              0.4444444444444444,
              "#bd3786"
             ],
             [
              0.5555555555555556,
              "#d8576b"
             ],
             [
              0.6666666666666666,
              "#ed7953"
             ],
             [
              0.7777777777777778,
              "#fb9f3a"
             ],
             [
              0.8888888888888888,
              "#fdca26"
             ],
             [
              1,
              "#f0f921"
             ]
            ],
            "type": "histogram2dcontour"
           }
          ],
          "mesh3d": [
           {
            "colorbar": {
             "outlinewidth": 0,
             "ticks": ""
            },
            "type": "mesh3d"
           }
          ],
          "parcoords": [
           {
            "line": {
             "colorbar": {
              "outlinewidth": 0,
              "ticks": ""
             }
            },
            "type": "parcoords"
           }
          ],
          "pie": [
           {
            "automargin": true,
            "type": "pie"
           }
          ],
          "scatter": [
           {
            "marker": {
             "colorbar": {
              "outlinewidth": 0,
              "ticks": ""
             }
            },
            "type": "scatter"
           }
          ],
          "scatter3d": [
           {
            "line": {
             "colorbar": {
              "outlinewidth": 0,
              "ticks": ""
             }
            },
            "marker": {
             "colorbar": {
              "outlinewidth": 0,
              "ticks": ""
             }
            },
            "type": "scatter3d"
           }
          ],
          "scattercarpet": [
           {
            "marker": {
             "colorbar": {
              "outlinewidth": 0,
              "ticks": ""
             }
            },
            "type": "scattercarpet"
           }
          ],
          "scattergeo": [
           {
            "marker": {
             "colorbar": {
              "outlinewidth": 0,
              "ticks": ""
             }
            },
            "type": "scattergeo"
           }
          ],
          "scattergl": [
           {
            "marker": {
             "colorbar": {
              "outlinewidth": 0,
              "ticks": ""
             }
            },
            "type": "scattergl"
           }
          ],
          "scattermapbox": [
           {
            "marker": {
             "colorbar": {
              "outlinewidth": 0,
              "ticks": ""
             }
            },
            "type": "scattermapbox"
           }
          ],
          "scatterpolar": [
           {
            "marker": {
             "colorbar": {
              "outlinewidth": 0,
              "ticks": ""
             }
            },
            "type": "scatterpolar"
           }
          ],
          "scatterpolargl": [
           {
            "marker": {
             "colorbar": {
              "outlinewidth": 0,
              "ticks": ""
             }
            },
            "type": "scatterpolargl"
           }
          ],
          "scatterternary": [
           {
            "marker": {
             "colorbar": {
              "outlinewidth": 0,
              "ticks": ""
             }
            },
            "type": "scatterternary"
           }
          ],
          "surface": [
           {
            "colorbar": {
             "outlinewidth": 0,
             "ticks": ""
            },
            "colorscale": [
             [
              0,
              "#0d0887"
             ],
             [
              0.1111111111111111,
              "#46039f"
             ],
             [
              0.2222222222222222,
              "#7201a8"
             ],
             [
              0.3333333333333333,
              "#9c179e"
             ],
             [
              0.4444444444444444,
              "#bd3786"
             ],
             [
              0.5555555555555556,
              "#d8576b"
             ],
             [
              0.6666666666666666,
              "#ed7953"
             ],
             [
              0.7777777777777778,
              "#fb9f3a"
             ],
             [
              0.8888888888888888,
              "#fdca26"
             ],
             [
              1,
              "#f0f921"
             ]
            ],
            "type": "surface"
           }
          ],
          "table": [
           {
            "cells": {
             "fill": {
              "color": "#EBF0F8"
             },
             "line": {
              "color": "white"
             }
            },
            "header": {
             "fill": {
              "color": "#C8D4E3"
             },
             "line": {
              "color": "white"
             }
            },
            "type": "table"
           }
          ]
         },
         "layout": {
          "annotationdefaults": {
           "arrowcolor": "#2a3f5f",
           "arrowhead": 0,
           "arrowwidth": 1
          },
          "autotypenumbers": "strict",
          "coloraxis": {
           "colorbar": {
            "outlinewidth": 0,
            "ticks": ""
           }
          },
          "colorscale": {
           "diverging": [
            [
             0,
             "#8e0152"
            ],
            [
             0.1,
             "#c51b7d"
            ],
            [
             0.2,
             "#de77ae"
            ],
            [
             0.3,
             "#f1b6da"
            ],
            [
             0.4,
             "#fde0ef"
            ],
            [
             0.5,
             "#f7f7f7"
            ],
            [
             0.6,
             "#e6f5d0"
            ],
            [
             0.7,
             "#b8e186"
            ],
            [
             0.8,
             "#7fbc41"
            ],
            [
             0.9,
             "#4d9221"
            ],
            [
             1,
             "#276419"
            ]
           ],
           "sequential": [
            [
             0,
             "#0d0887"
            ],
            [
             0.1111111111111111,
             "#46039f"
            ],
            [
             0.2222222222222222,
             "#7201a8"
            ],
            [
             0.3333333333333333,
             "#9c179e"
            ],
            [
             0.4444444444444444,
             "#bd3786"
            ],
            [
             0.5555555555555556,
             "#d8576b"
            ],
            [
             0.6666666666666666,
             "#ed7953"
            ],
            [
             0.7777777777777778,
             "#fb9f3a"
            ],
            [
             0.8888888888888888,
             "#fdca26"
            ],
            [
             1,
             "#f0f921"
            ]
           ],
           "sequentialminus": [
            [
             0,
             "#0d0887"
            ],
            [
             0.1111111111111111,
             "#46039f"
            ],
            [
             0.2222222222222222,
             "#7201a8"
            ],
            [
             0.3333333333333333,
             "#9c179e"
            ],
            [
             0.4444444444444444,
             "#bd3786"
            ],
            [
             0.5555555555555556,
             "#d8576b"
            ],
            [
             0.6666666666666666,
             "#ed7953"
            ],
            [
             0.7777777777777778,
             "#fb9f3a"
            ],
            [
             0.8888888888888888,
             "#fdca26"
            ],
            [
             1,
             "#f0f921"
            ]
           ]
          },
          "colorway": [
           "#636efa",
           "#EF553B",
           "#00cc96",
           "#ab63fa",
           "#FFA15A",
           "#19d3f3",
           "#FF6692",
           "#B6E880",
           "#FF97FF",
           "#FECB52"
          ],
          "font": {
           "color": "#2a3f5f"
          },
          "geo": {
           "bgcolor": "white",
           "lakecolor": "white",
           "landcolor": "#E5ECF6",
           "showlakes": true,
           "showland": true,
           "subunitcolor": "white"
          },
          "hoverlabel": {
           "align": "left"
          },
          "hovermode": "closest",
          "mapbox": {
           "style": "light"
          },
          "paper_bgcolor": "white",
          "plot_bgcolor": "#E5ECF6",
          "polar": {
           "angularaxis": {
            "gridcolor": "white",
            "linecolor": "white",
            "ticks": ""
           },
           "bgcolor": "#E5ECF6",
           "radialaxis": {
            "gridcolor": "white",
            "linecolor": "white",
            "ticks": ""
           }
          },
          "scene": {
           "xaxis": {
            "backgroundcolor": "#E5ECF6",
            "gridcolor": "white",
            "gridwidth": 2,
            "linecolor": "white",
            "showbackground": true,
            "ticks": "",
            "zerolinecolor": "white"
           },
           "yaxis": {
            "backgroundcolor": "#E5ECF6",
            "gridcolor": "white",
            "gridwidth": 2,
            "linecolor": "white",
            "showbackground": true,
            "ticks": "",
            "zerolinecolor": "white"
           },
           "zaxis": {
            "backgroundcolor": "#E5ECF6",
            "gridcolor": "white",
            "gridwidth": 2,
            "linecolor": "white",
            "showbackground": true,
            "ticks": "",
            "zerolinecolor": "white"
           }
          },
          "shapedefaults": {
           "line": {
            "color": "#2a3f5f"
           }
          },
          "ternary": {
           "aaxis": {
            "gridcolor": "white",
            "linecolor": "white",
            "ticks": ""
           },
           "baxis": {
            "gridcolor": "white",
            "linecolor": "white",
            "ticks": ""
           },
           "bgcolor": "#E5ECF6",
           "caxis": {
            "gridcolor": "white",
            "linecolor": "white",
            "ticks": ""
           }
          },
          "title": {
           "x": 0.05
          },
          "xaxis": {
           "automargin": true,
           "gridcolor": "white",
           "linecolor": "white",
           "ticks": "",
           "title": {
            "standoff": 15
           },
           "zerolinecolor": "white",
           "zerolinewidth": 2
          },
          "yaxis": {
           "automargin": true,
           "gridcolor": "white",
           "linecolor": "white",
           "ticks": "",
           "title": {
            "standoff": 15
           },
           "zerolinecolor": "white",
           "zerolinewidth": 2
          }
         }
        },
        "xaxis": {
         "anchor": "y",
         "domain": [
          0,
          1
         ],
         "title": {
          "text": "V.SOG.act.kn"
         }
        },
        "yaxis": {
         "anchor": "x",
         "domain": [
          0,
          1
         ],
         "title": {
          "text": "predicted"
         }
        }
       }
      }
     },
     "metadata": {},
     "output_type": "display_data"
    }
   ],
   "source": [
    "px.scatter(df_target_zero_false,x='V.SOG.act.kn',y='predicted',color='ME.SFCI.act.gPkWh')"
   ]
  },
  {
   "cell_type": "code",
   "execution_count": 167,
   "metadata": {},
   "outputs": [
    {
     "data": {
      "application/vnd.plotly.v1+json": {
       "config": {
        "plotlyServerURL": "https://plot.ly"
       },
       "data": [
        {
         "hovertemplate": "Power_EM_predict=%{x}<br>predicted=%{y}<br>ME.SFCI.act.gPkWh=%{marker.color}<extra></extra>",
         "legendgroup": "",
         "marker": {
          "color": [
           155.31973266601562,
           0,
           318.15216064453125,
           183.6519012451172,
           175.5594024658203,
           0,
           179.58279418945312,
           0,
           170.5428466796875,
           0,
           194.67282104492188,
           143.2569580078125,
           156.42808532714844,
           216.22560119628903,
           204.39410400390625,
           184.6134185791016,
           156.252685546875,
           290.6801452636719,
           70.73017120361328,
           207.611557006836,
           196.41737365722656,
           151.0653839111328,
           179.65394592285156,
           257.6543884277344,
           186.8035125732422,
           0,
           136.49017333984375,
           129.17230224609375,
           234.33901977539065,
           157.9136962890625,
           201.29620361328125,
           175.34461975097656,
           0,
           169.46640014648438,
           179.81463623046875,
           188.1005249023437,
           259.25604248046875,
           174.08905029296875,
           142.12936401367188,
           0,
           168.0079345703125,
           146.62925720214844,
           0,
           0,
           273.8129577636719,
           161.0243682861328,
           145.48495483398438,
           174.9265899658203,
           260.9774780273437,
           330.6029052734375,
           161.63990783691406,
           199.050521850586,
           193.87413024902344,
           164.7904052734375,
           149.29006958007812,
           170.57711791992188,
           184.08399963378903,
           190.72889709472656,
           191.6480712890625,
           144.49903869628906,
           163.6407012939453,
           134.7496795654297,
           157.2018585205078,
           177.09446716308594,
           65.47767639160156,
           123.56185150146484,
           135.32858276367188,
           217.5376434326172,
           97.11891174316406,
           0,
           160.4922637939453,
           177.32167053222656,
           141.44601440429688,
           57.6236457824707,
           168.27235412597656,
           167.22767639160156,
           154.28060913085938,
           172.20956420898438,
           194.4945678710937,
           0,
           141.98028564453125,
           0,
           159.12399291992188,
           152.93966674804688,
           213.2419891357422,
           154.2258758544922,
           171.22447204589844,
           153.65089416503906,
           145.0121612548828,
           153.60919189453125,
           187.73629760742188,
           264.0040588378906,
           215.65261840820312,
           169.88470458984375,
           158.94151306152344,
           219.9195098876953,
           163.2912139892578,
           231.02101135253903,
           189.16278076171875,
           110.8674774169922,
           165.1300811767578,
           159.3505096435547,
           152.8639373779297,
           203.76724243164065,
           137.8219451904297,
           180.7040405273437,
           262.6502380371094,
           223.2107849121093,
           200.16177368164065,
           198.5305938720703,
           160.8284149169922,
           202.53781127929688,
           272.2494506835937,
           206.1717529296875,
           171.39144897460938,
           182.0754547119141,
           162.92388916015625,
           145.54901123046875,
           139.3651123046875,
           162.643310546875,
           0,
           169.94512939453125,
           200.9922637939453,
           0,
           200.2676696777344,
           166.26942443847656,
           168.4583740234375,
           177.71435546875,
           231.8923797607422,
           132.9757843017578,
           211.16249084472656,
           172.81202697753906,
           153.8164825439453,
           184.8070526123047,
           170.10780334472656,
           179.09527587890625,
           134.89610290527344,
           155.42347717285156,
           172.8893585205078,
           173.95025634765625,
           0,
           128.78396606445312,
           243.9781494140625,
           173.4503173828125,
           0,
           152.05099487304688,
           162.83204650878906,
           151.2542266845703,
           215.6852264404297,
           163.42068481445312,
           160.960205078125,
           169.86802673339844,
           168.41629028320312,
           124.3755111694336,
           230.6339111328125,
           234.5349273681641,
           198.3604888916016,
           244.366455078125,
           140.08432006835938,
           167.77598571777344,
           199.86990356445312,
           128.24197387695312,
           189.31797790527344,
           207.84608459472656,
           164.915771484375,
           146.30630493164062,
           139.5170135498047,
           0,
           172.96592712402344,
           174.2918243408203,
           214.7103881835937,
           180.7442169189453,
           185.93380737304688
          ],
          "coloraxis": "coloraxis",
          "symbol": "circle"
         },
         "mode": "markers",
         "name": "",
         "orientation": "v",
         "showlegend": false,
         "type": "scatter",
         "x": [
          6424.35,
          13541.05,
          15780.69,
          13374,
          11249.03,
          1586.48,
          11138.45,
          21924.54,
          9333.37,
          13541.05,
          7773.89,
          19418.4,
          2927.16,
          22220.49,
          16373.46,
          16115.16,
          16115.16,
          18528.52,
          14561.48,
          9333.37,
          23005.57,
          11874.05,
          13541.05,
          14601.71,
          16208.29,
          21730.42,
          33284.45,
          6424.35,
          7732.1,
          6424.35,
          7773.89,
          6424.35,
          13541.05,
          11874.05,
          13910.44,
          22220.49,
          6424.35,
          21730.42,
          16208.29,
          13541.05,
          16208.29,
          20548.1,
          23005.57,
          13910.44,
          22495.67,
          6424.35,
          16373.46,
          9333.37,
          22220.49,
          13374,
          33284.45,
          6424.35,
          22495.67,
          16795.94,
          7732.1,
          8078.13,
          9333.37,
          8078.13,
          6424.35,
          13541.05,
          16373.46,
          20058.18,
          16373.46,
          23005.57,
          6424.35,
          11874.05,
          9333.37,
          18528.52,
          7773.89,
          1586.48,
          7732.1,
          13830.1,
          11475.52,
          22495.67,
          21730.42,
          16115.16,
          11475.52,
          16208.29,
          11874.05,
          13541.05,
          11874.05,
          16115.16,
          7732.1,
          11249.03,
          6424.35,
          23005.57,
          16115.16,
          6424.35,
          1586.48,
          1586.48,
          18528.52,
          16208.29,
          15780.69,
          11249.03,
          11475.52,
          6424.35,
          21730.42,
          11138.45,
          19418.4,
          7773.89,
          22220.49,
          7732.1,
          21760.1,
          21760.1,
          11138.45,
          33284.45,
          16373.46,
          22495.67,
          15699.42,
          22495.67,
          6424.35,
          21760.1,
          18528.52,
          21760.1,
          13374,
          11475.52,
          16795.94,
          16115.16,
          6424.35,
          6424.35,
          13541.05,
          8078.13,
          15780.69,
          13541.05,
          11874.05,
          7732.1,
          13830.1,
          6424.35,
          21924.54,
          6424.35,
          19418.4,
          20548.1,
          11138.45,
          16115.16,
          22220.49,
          19418.4,
          14561.48,
          6424.35,
          16795.94,
          14561.48,
          20548.1,
          11874.05,
          13374,
          18528.52,
          13910.44,
          16795.94,
          1586.48,
          18528.52,
          13374,
          16115.16,
          16115.16,
          16208.29,
          7732.1,
          9333.37,
          9333.37,
          7732.1,
          13374,
          11874.05,
          11874.05,
          33284.45,
          6424.35,
          11874.05,
          33284.45,
          11249.03,
          13830.1,
          11874.05,
          2927.16,
          13541.05,
          11138.45,
          33284.45,
          6424.35,
          6424.35,
          20548.1
         ],
         "xaxis": "x",
         "y": [
          0.1278352607386278,
          0.13713818005027945,
          0.48960632328555304,
          0.3762328848908527,
          0.28703599248178585,
          0.10158655880968567,
          0.3773766765855368,
          0.4909879390196626,
          0.29412125119866717,
          0.11131193825946913,
          0.5443677955737356,
          0.13278222721756422,
          0.19720588059966115,
          0.4088410759392243,
          0.41194739388968854,
          0.20358427847141997,
          0.14827712011889138,
          0.16965634315947056,
          0.46928223547409914,
          0.3395097247346774,
          0.18675280514388024,
          0.12695108928693347,
          0.3647865536538639,
          0.3672091207460327,
          0.330267761888684,
          1.0586563143893555,
          0.11256864950566246,
          0.11435320082672758,
          0.2685561988345809,
          0.10314847924861581,
          0.23513898478744558,
          0.2821004147365813,
          0.12024661727317028,
          0.5359579278220737,
          0.3626648084913272,
          0.5919886735585472,
          0.2723393808788306,
          0.11633553491977977,
          0.9046596957028082,
          0.15581448935693692,
          0.2735202356561891,
          0.3627764685114865,
          0.11373677394284083,
          0.10158655880968567,
          0.36943558555383865,
          0.17525897123164633,
          0.12709732048487277,
          0.2649429798360032,
          0.7664062618896922,
          0.40017963772196863,
          0.15534012461433874,
          0.466731680637233,
          0.30652541615694856,
          0.18184353368618023,
          0.35518174534624564,
          0.3386330169975271,
          0.22934238572980864,
          0.3732472710959039,
          0.3487084388710697,
          0.24927467507383305,
          0.18970179739238968,
          1.2612281786592054,
          0.2201444688228203,
          0.24360224703369707,
          0.10406974701084167,
          0.10995295362642371,
          0.16432711982770873,
          0.6751731253001662,
          0.145126144991801,
          0.10158655880968567,
          0.21008371861986624,
          0.30276681437060105,
          0.2211542408206432,
          0.11614734190898567,
          0.11132329842316414,
          0.16008031710151877,
          0.14832430534441443,
          0.20733852883733023,
          0.16306678250248766,
          0.10426497880098774,
          0.13828048681354882,
          0.6004303766411357,
          0.2227916681062688,
          0.10843036890612744,
          0.35291237987456997,
          0.19966319901014187,
          0.16700603770055444,
          0.1437690794292374,
          0.13949513933172966,
          0.24580526298465522,
          0.22961489901911658,
          0.4475196438485323,
          0.5443323245895377,
          0.3460528827989399,
          0.17774020091207507,
          0.4413650573995975,
          0.1708179707497581,
          0.472853628505432,
          0.36659104262421593,
          0.144961280307216,
          0.19802713006706216,
          0.11345840059205538,
          0.12205585156643106,
          0.6942082066903094,
          0.11956046482139278,
          0.3410181276090832,
          0.25154761515551355,
          0.34428226495090924,
          0.24143029690645065,
          0.3407508951622258,
          0.15874977750076172,
          0.30802333578141583,
          0.19456266151437812,
          0.5106880515193213,
          0.25119250414811034,
          0.20138978044187236,
          0.17232972300101657,
          0.21888003030825648,
          0.13314332896799125,
          0.11489113206184824,
          0.11131193825946913,
          0.11514212681222748,
          0.2566842167921775,
          0.15461003791517208,
          0.18066831082527318,
          0.11034143403946428,
          0.11574088902332727,
          0.3758051410308573,
          0.49527670210304114,
          0.6806363998946787,
          0.45905473307367173,
          0.2726247812999079,
          0.1643232847041076,
          0.20860904429277496,
          0.16678275793070302,
          0.4296136513753557,
          0.301466900636416,
          0.11252149651022929,
          0.26288541083170586,
          0.21634021644806092,
          0.11129871379451944,
          0.13202089605163855,
          0.40399875264322993,
          0.18365579945227664,
          0.10158655880968567,
          0.14446000741084877,
          0.15013379465106058,
          0.13874933583088733,
          0.352541314174489,
          0.20837866657542087,
          0.20070311284729464,
          0.14790979942741994,
          0.209811506385763,
          0.35757383711703616,
          0.44080352863522826,
          0.6616685121487784,
          0.41923603674062976,
          0.36070669148703993,
          0.32203155031342395,
          0.12541370812582056,
          0.3353325840443154,
          0.13035225831572034,
          0.4260952319330261,
          0.38476840076390795,
          0.1616953654504321,
          0.3957188044596726,
          0.12348651171937637,
          0.11131193825946913,
          0.17522323896463426,
          0.253519375485957,
          0.39799614299666985,
          0.3264656283868238,
          0.2390977910706996
         ],
         "yaxis": "y"
        }
       ],
       "layout": {
        "coloraxis": {
         "colorbar": {
          "title": {
           "text": "ME.SFCI.act.gPkWh"
          }
         },
         "colorscale": [
          [
           0,
           "#0d0887"
          ],
          [
           0.1111111111111111,
           "#46039f"
          ],
          [
           0.2222222222222222,
           "#7201a8"
          ],
          [
           0.3333333333333333,
           "#9c179e"
          ],
          [
           0.4444444444444444,
           "#bd3786"
          ],
          [
           0.5555555555555556,
           "#d8576b"
          ],
          [
           0.6666666666666666,
           "#ed7953"
          ],
          [
           0.7777777777777778,
           "#fb9f3a"
          ],
          [
           0.8888888888888888,
           "#fdca26"
          ],
          [
           1,
           "#f0f921"
          ]
         ]
        },
        "legend": {
         "tracegroupgap": 0
        },
        "margin": {
         "t": 60
        },
        "template": {
         "data": {
          "bar": [
           {
            "error_x": {
             "color": "#2a3f5f"
            },
            "error_y": {
             "color": "#2a3f5f"
            },
            "marker": {
             "line": {
              "color": "#E5ECF6",
              "width": 0.5
             },
             "pattern": {
              "fillmode": "overlay",
              "size": 10,
              "solidity": 0.2
             }
            },
            "type": "bar"
           }
          ],
          "barpolar": [
           {
            "marker": {
             "line": {
              "color": "#E5ECF6",
              "width": 0.5
             },
             "pattern": {
              "fillmode": "overlay",
              "size": 10,
              "solidity": 0.2
             }
            },
            "type": "barpolar"
           }
          ],
          "carpet": [
           {
            "aaxis": {
             "endlinecolor": "#2a3f5f",
             "gridcolor": "white",
             "linecolor": "white",
             "minorgridcolor": "white",
             "startlinecolor": "#2a3f5f"
            },
            "baxis": {
             "endlinecolor": "#2a3f5f",
             "gridcolor": "white",
             "linecolor": "white",
             "minorgridcolor": "white",
             "startlinecolor": "#2a3f5f"
            },
            "type": "carpet"
           }
          ],
          "choropleth": [
           {
            "colorbar": {
             "outlinewidth": 0,
             "ticks": ""
            },
            "type": "choropleth"
           }
          ],
          "contour": [
           {
            "colorbar": {
             "outlinewidth": 0,
             "ticks": ""
            },
            "colorscale": [
             [
              0,
              "#0d0887"
             ],
             [
              0.1111111111111111,
              "#46039f"
             ],
             [
              0.2222222222222222,
              "#7201a8"
             ],
             [
              0.3333333333333333,
              "#9c179e"
             ],
             [
              0.4444444444444444,
              "#bd3786"
             ],
             [
              0.5555555555555556,
              "#d8576b"
             ],
             [
              0.6666666666666666,
              "#ed7953"
             ],
             [
              0.7777777777777778,
              "#fb9f3a"
             ],
             [
              0.8888888888888888,
              "#fdca26"
             ],
             [
              1,
              "#f0f921"
             ]
            ],
            "type": "contour"
           }
          ],
          "contourcarpet": [
           {
            "colorbar": {
             "outlinewidth": 0,
             "ticks": ""
            },
            "type": "contourcarpet"
           }
          ],
          "heatmap": [
           {
            "colorbar": {
             "outlinewidth": 0,
             "ticks": ""
            },
            "colorscale": [
             [
              0,
              "#0d0887"
             ],
             [
              0.1111111111111111,
              "#46039f"
             ],
             [
              0.2222222222222222,
              "#7201a8"
             ],
             [
              0.3333333333333333,
              "#9c179e"
             ],
             [
              0.4444444444444444,
              "#bd3786"
             ],
             [
              0.5555555555555556,
              "#d8576b"
             ],
             [
              0.6666666666666666,
              "#ed7953"
             ],
             [
              0.7777777777777778,
              "#fb9f3a"
             ],
             [
              0.8888888888888888,
              "#fdca26"
             ],
             [
              1,
              "#f0f921"
             ]
            ],
            "type": "heatmap"
           }
          ],
          "heatmapgl": [
           {
            "colorbar": {
             "outlinewidth": 0,
             "ticks": ""
            },
            "colorscale": [
             [
              0,
              "#0d0887"
             ],
             [
              0.1111111111111111,
              "#46039f"
             ],
             [
              0.2222222222222222,
              "#7201a8"
             ],
             [
              0.3333333333333333,
              "#9c179e"
             ],
             [
              0.4444444444444444,
              "#bd3786"
             ],
             [
              0.5555555555555556,
              "#d8576b"
             ],
             [
              0.6666666666666666,
              "#ed7953"
             ],
             [
              0.7777777777777778,
              "#fb9f3a"
             ],
             [
              0.8888888888888888,
              "#fdca26"
             ],
             [
              1,
              "#f0f921"
             ]
            ],
            "type": "heatmapgl"
           }
          ],
          "histogram": [
           {
            "marker": {
             "pattern": {
              "fillmode": "overlay",
              "size": 10,
              "solidity": 0.2
             }
            },
            "type": "histogram"
           }
          ],
          "histogram2d": [
           {
            "colorbar": {
             "outlinewidth": 0,
             "ticks": ""
            },
            "colorscale": [
             [
              0,
              "#0d0887"
             ],
             [
              0.1111111111111111,
              "#46039f"
             ],
             [
              0.2222222222222222,
              "#7201a8"
             ],
             [
              0.3333333333333333,
              "#9c179e"
             ],
             [
              0.4444444444444444,
              "#bd3786"
             ],
             [
              0.5555555555555556,
              "#d8576b"
             ],
             [
              0.6666666666666666,
              "#ed7953"
             ],
             [
              0.7777777777777778,
              "#fb9f3a"
             ],
             [
              0.8888888888888888,
              "#fdca26"
             ],
             [
              1,
              "#f0f921"
             ]
            ],
            "type": "histogram2d"
           }
          ],
          "histogram2dcontour": [
           {
            "colorbar": {
             "outlinewidth": 0,
             "ticks": ""
            },
            "colorscale": [
             [
              0,
              "#0d0887"
             ],
             [
              0.1111111111111111,
              "#46039f"
             ],
             [
              0.2222222222222222,
              "#7201a8"
             ],
             [
              0.3333333333333333,
              "#9c179e"
             ],
             [
              0.4444444444444444,
              "#bd3786"
             ],
             [
              0.5555555555555556,
              "#d8576b"
             ],
             [
              0.6666666666666666,
              "#ed7953"
             ],
             [
              0.7777777777777778,
              "#fb9f3a"
             ],
             [
              0.8888888888888888,
              "#fdca26"
             ],
             [
              1,
              "#f0f921"
             ]
            ],
            "type": "histogram2dcontour"
           }
          ],
          "mesh3d": [
           {
            "colorbar": {
             "outlinewidth": 0,
             "ticks": ""
            },
            "type": "mesh3d"
           }
          ],
          "parcoords": [
           {
            "line": {
             "colorbar": {
              "outlinewidth": 0,
              "ticks": ""
             }
            },
            "type": "parcoords"
           }
          ],
          "pie": [
           {
            "automargin": true,
            "type": "pie"
           }
          ],
          "scatter": [
           {
            "marker": {
             "colorbar": {
              "outlinewidth": 0,
              "ticks": ""
             }
            },
            "type": "scatter"
           }
          ],
          "scatter3d": [
           {
            "line": {
             "colorbar": {
              "outlinewidth": 0,
              "ticks": ""
             }
            },
            "marker": {
             "colorbar": {
              "outlinewidth": 0,
              "ticks": ""
             }
            },
            "type": "scatter3d"
           }
          ],
          "scattercarpet": [
           {
            "marker": {
             "colorbar": {
              "outlinewidth": 0,
              "ticks": ""
             }
            },
            "type": "scattercarpet"
           }
          ],
          "scattergeo": [
           {
            "marker": {
             "colorbar": {
              "outlinewidth": 0,
              "ticks": ""
             }
            },
            "type": "scattergeo"
           }
          ],
          "scattergl": [
           {
            "marker": {
             "colorbar": {
              "outlinewidth": 0,
              "ticks": ""
             }
            },
            "type": "scattergl"
           }
          ],
          "scattermapbox": [
           {
            "marker": {
             "colorbar": {
              "outlinewidth": 0,
              "ticks": ""
             }
            },
            "type": "scattermapbox"
           }
          ],
          "scatterpolar": [
           {
            "marker": {
             "colorbar": {
              "outlinewidth": 0,
              "ticks": ""
             }
            },
            "type": "scatterpolar"
           }
          ],
          "scatterpolargl": [
           {
            "marker": {
             "colorbar": {
              "outlinewidth": 0,
              "ticks": ""
             }
            },
            "type": "scatterpolargl"
           }
          ],
          "scatterternary": [
           {
            "marker": {
             "colorbar": {
              "outlinewidth": 0,
              "ticks": ""
             }
            },
            "type": "scatterternary"
           }
          ],
          "surface": [
           {
            "colorbar": {
             "outlinewidth": 0,
             "ticks": ""
            },
            "colorscale": [
             [
              0,
              "#0d0887"
             ],
             [
              0.1111111111111111,
              "#46039f"
             ],
             [
              0.2222222222222222,
              "#7201a8"
             ],
             [
              0.3333333333333333,
              "#9c179e"
             ],
             [
              0.4444444444444444,
              "#bd3786"
             ],
             [
              0.5555555555555556,
              "#d8576b"
             ],
             [
              0.6666666666666666,
              "#ed7953"
             ],
             [
              0.7777777777777778,
              "#fb9f3a"
             ],
             [
              0.8888888888888888,
              "#fdca26"
             ],
             [
              1,
              "#f0f921"
             ]
            ],
            "type": "surface"
           }
          ],
          "table": [
           {
            "cells": {
             "fill": {
              "color": "#EBF0F8"
             },
             "line": {
              "color": "white"
             }
            },
            "header": {
             "fill": {
              "color": "#C8D4E3"
             },
             "line": {
              "color": "white"
             }
            },
            "type": "table"
           }
          ]
         },
         "layout": {
          "annotationdefaults": {
           "arrowcolor": "#2a3f5f",
           "arrowhead": 0,
           "arrowwidth": 1
          },
          "autotypenumbers": "strict",
          "coloraxis": {
           "colorbar": {
            "outlinewidth": 0,
            "ticks": ""
           }
          },
          "colorscale": {
           "diverging": [
            [
             0,
             "#8e0152"
            ],
            [
             0.1,
             "#c51b7d"
            ],
            [
             0.2,
             "#de77ae"
            ],
            [
             0.3,
             "#f1b6da"
            ],
            [
             0.4,
             "#fde0ef"
            ],
            [
             0.5,
             "#f7f7f7"
            ],
            [
             0.6,
             "#e6f5d0"
            ],
            [
             0.7,
             "#b8e186"
            ],
            [
             0.8,
             "#7fbc41"
            ],
            [
             0.9,
             "#4d9221"
            ],
            [
             1,
             "#276419"
            ]
           ],
           "sequential": [
            [
             0,
             "#0d0887"
            ],
            [
             0.1111111111111111,
             "#46039f"
            ],
            [
             0.2222222222222222,
             "#7201a8"
            ],
            [
             0.3333333333333333,
             "#9c179e"
            ],
            [
             0.4444444444444444,
             "#bd3786"
            ],
            [
             0.5555555555555556,
             "#d8576b"
            ],
            [
             0.6666666666666666,
             "#ed7953"
            ],
            [
             0.7777777777777778,
             "#fb9f3a"
            ],
            [
             0.8888888888888888,
             "#fdca26"
            ],
            [
             1,
             "#f0f921"
            ]
           ],
           "sequentialminus": [
            [
             0,
             "#0d0887"
            ],
            [
             0.1111111111111111,
             "#46039f"
            ],
            [
             0.2222222222222222,
             "#7201a8"
            ],
            [
             0.3333333333333333,
             "#9c179e"
            ],
            [
             0.4444444444444444,
             "#bd3786"
            ],
            [
             0.5555555555555556,
             "#d8576b"
            ],
            [
             0.6666666666666666,
             "#ed7953"
            ],
            [
             0.7777777777777778,
             "#fb9f3a"
            ],
            [
             0.8888888888888888,
             "#fdca26"
            ],
            [
             1,
             "#f0f921"
            ]
           ]
          },
          "colorway": [
           "#636efa",
           "#EF553B",
           "#00cc96",
           "#ab63fa",
           "#FFA15A",
           "#19d3f3",
           "#FF6692",
           "#B6E880",
           "#FF97FF",
           "#FECB52"
          ],
          "font": {
           "color": "#2a3f5f"
          },
          "geo": {
           "bgcolor": "white",
           "lakecolor": "white",
           "landcolor": "#E5ECF6",
           "showlakes": true,
           "showland": true,
           "subunitcolor": "white"
          },
          "hoverlabel": {
           "align": "left"
          },
          "hovermode": "closest",
          "mapbox": {
           "style": "light"
          },
          "paper_bgcolor": "white",
          "plot_bgcolor": "#E5ECF6",
          "polar": {
           "angularaxis": {
            "gridcolor": "white",
            "linecolor": "white",
            "ticks": ""
           },
           "bgcolor": "#E5ECF6",
           "radialaxis": {
            "gridcolor": "white",
            "linecolor": "white",
            "ticks": ""
           }
          },
          "scene": {
           "xaxis": {
            "backgroundcolor": "#E5ECF6",
            "gridcolor": "white",
            "gridwidth": 2,
            "linecolor": "white",
            "showbackground": true,
            "ticks": "",
            "zerolinecolor": "white"
           },
           "yaxis": {
            "backgroundcolor": "#E5ECF6",
            "gridcolor": "white",
            "gridwidth": 2,
            "linecolor": "white",
            "showbackground": true,
            "ticks": "",
            "zerolinecolor": "white"
           },
           "zaxis": {
            "backgroundcolor": "#E5ECF6",
            "gridcolor": "white",
            "gridwidth": 2,
            "linecolor": "white",
            "showbackground": true,
            "ticks": "",
            "zerolinecolor": "white"
           }
          },
          "shapedefaults": {
           "line": {
            "color": "#2a3f5f"
           }
          },
          "ternary": {
           "aaxis": {
            "gridcolor": "white",
            "linecolor": "white",
            "ticks": ""
           },
           "baxis": {
            "gridcolor": "white",
            "linecolor": "white",
            "ticks": ""
           },
           "bgcolor": "#E5ECF6",
           "caxis": {
            "gridcolor": "white",
            "linecolor": "white",
            "ticks": ""
           }
          },
          "title": {
           "x": 0.05
          },
          "xaxis": {
           "automargin": true,
           "gridcolor": "white",
           "linecolor": "white",
           "ticks": "",
           "title": {
            "standoff": 15
           },
           "zerolinecolor": "white",
           "zerolinewidth": 2
          },
          "yaxis": {
           "automargin": true,
           "gridcolor": "white",
           "linecolor": "white",
           "ticks": "",
           "title": {
            "standoff": 15
           },
           "zerolinecolor": "white",
           "zerolinewidth": 2
          }
         }
        },
        "xaxis": {
         "anchor": "y",
         "domain": [
          0,
          1
         ],
         "title": {
          "text": "Power_EM_predict"
         }
        },
        "yaxis": {
         "anchor": "x",
         "domain": [
          0,
          1
         ],
         "title": {
          "text": "predicted"
         }
        }
       }
      }
     },
     "metadata": {},
     "output_type": "display_data"
    }
   ],
   "source": [
    "px.scatter(df_target_zero_false,x='Power_EM_predict',y='predicted',color='ME.SFCI.act.gPkWh')"
   ]
  },
  {
   "cell_type": "code",
   "execution_count": 164,
   "metadata": {},
   "outputs": [
    {
     "data": {
      "application/vnd.plotly.v1+json": {
       "config": {
        "plotlyServerURL": "https://plot.ly"
       },
       "data": [
        {
         "hovertemplate": "ME.SFCI.act.gPkWh=%{x}<br>predicted=%{y}<extra></extra>",
         "legendgroup": "",
         "marker": {
          "color": "#636efa",
          "symbol": "circle"
         },
         "mode": "markers",
         "name": "",
         "orientation": "v",
         "showlegend": false,
         "type": "scatter",
         "x": [
          155.31973266601562,
          0,
          318.15216064453125,
          183.6519012451172,
          175.5594024658203,
          0,
          179.58279418945312,
          0,
          170.5428466796875,
          0,
          194.67282104492188,
          143.2569580078125,
          156.42808532714844,
          216.22560119628903,
          204.39410400390625,
          184.6134185791016,
          156.252685546875,
          290.6801452636719,
          70.73017120361328,
          207.611557006836,
          196.41737365722656,
          151.0653839111328,
          179.65394592285156,
          257.6543884277344,
          186.8035125732422,
          0,
          136.49017333984375,
          129.17230224609375,
          234.33901977539065,
          157.9136962890625,
          201.29620361328125,
          175.34461975097656,
          0,
          169.46640014648438,
          179.81463623046875,
          188.1005249023437,
          259.25604248046875,
          174.08905029296875,
          142.12936401367188,
          0,
          168.0079345703125,
          146.62925720214844,
          0,
          0,
          273.8129577636719,
          161.0243682861328,
          145.48495483398438,
          174.9265899658203,
          260.9774780273437,
          330.6029052734375,
          161.63990783691406,
          199.050521850586,
          193.87413024902344,
          164.7904052734375,
          149.29006958007812,
          170.57711791992188,
          184.08399963378903,
          190.72889709472656,
          191.6480712890625,
          144.49903869628906,
          163.6407012939453,
          134.7496795654297,
          157.2018585205078,
          177.09446716308594,
          65.47767639160156,
          123.56185150146484,
          135.32858276367188,
          217.5376434326172,
          97.11891174316406,
          0,
          160.4922637939453,
          177.32167053222656,
          141.44601440429688,
          57.6236457824707,
          168.27235412597656,
          167.22767639160156,
          154.28060913085938,
          172.20956420898438,
          194.4945678710937,
          0,
          141.98028564453125,
          0,
          159.12399291992188,
          152.93966674804688,
          213.2419891357422,
          154.2258758544922,
          171.22447204589844,
          153.65089416503906,
          145.0121612548828,
          153.60919189453125,
          187.73629760742188,
          264.0040588378906,
          215.65261840820312,
          169.88470458984375,
          158.94151306152344,
          219.9195098876953,
          163.2912139892578,
          231.02101135253903,
          189.16278076171875,
          110.8674774169922,
          165.1300811767578,
          159.3505096435547,
          152.8639373779297,
          203.76724243164065,
          137.8219451904297,
          180.7040405273437,
          262.6502380371094,
          223.2107849121093,
          200.16177368164065,
          198.5305938720703,
          160.8284149169922,
          202.53781127929688,
          272.2494506835937,
          206.1717529296875,
          171.39144897460938,
          182.0754547119141,
          162.92388916015625,
          145.54901123046875,
          139.3651123046875,
          162.643310546875,
          0,
          169.94512939453125,
          200.9922637939453,
          0,
          200.2676696777344,
          166.26942443847656,
          168.4583740234375,
          177.71435546875,
          231.8923797607422,
          132.9757843017578,
          211.16249084472656,
          172.81202697753906,
          153.8164825439453,
          184.8070526123047,
          170.10780334472656,
          179.09527587890625,
          134.89610290527344,
          155.42347717285156,
          172.8893585205078,
          173.95025634765625,
          0,
          128.78396606445312,
          243.9781494140625,
          173.4503173828125,
          0,
          152.05099487304688,
          162.83204650878906,
          151.2542266845703,
          215.6852264404297,
          163.42068481445312,
          160.960205078125,
          169.86802673339844,
          168.41629028320312,
          124.3755111694336,
          230.6339111328125,
          234.5349273681641,
          198.3604888916016,
          244.366455078125,
          140.08432006835938,
          167.77598571777344,
          199.86990356445312,
          128.24197387695312,
          189.31797790527344,
          207.84608459472656,
          164.915771484375,
          146.30630493164062,
          139.5170135498047,
          0,
          172.96592712402344,
          174.2918243408203,
          214.7103881835937,
          180.7442169189453,
          185.93380737304688
         ],
         "xaxis": "x",
         "y": [
          0.1278352607386278,
          0.13713818005027945,
          0.48960632328555304,
          0.3762328848908527,
          0.28703599248178585,
          0.10158655880968567,
          0.3773766765855368,
          0.4909879390196626,
          0.29412125119866717,
          0.11131193825946913,
          0.5443677955737356,
          0.13278222721756422,
          0.19720588059966115,
          0.4088410759392243,
          0.41194739388968854,
          0.20358427847141997,
          0.14827712011889138,
          0.16965634315947056,
          0.46928223547409914,
          0.3395097247346774,
          0.18675280514388024,
          0.12695108928693347,
          0.3647865536538639,
          0.3672091207460327,
          0.330267761888684,
          1.0586563143893555,
          0.11256864950566246,
          0.11435320082672758,
          0.2685561988345809,
          0.10314847924861581,
          0.23513898478744558,
          0.2821004147365813,
          0.12024661727317028,
          0.5359579278220737,
          0.3626648084913272,
          0.5919886735585472,
          0.2723393808788306,
          0.11633553491977977,
          0.9046596957028082,
          0.15581448935693692,
          0.2735202356561891,
          0.3627764685114865,
          0.11373677394284083,
          0.10158655880968567,
          0.36943558555383865,
          0.17525897123164633,
          0.12709732048487277,
          0.2649429798360032,
          0.7664062618896922,
          0.40017963772196863,
          0.15534012461433874,
          0.466731680637233,
          0.30652541615694856,
          0.18184353368618023,
          0.35518174534624564,
          0.3386330169975271,
          0.22934238572980864,
          0.3732472710959039,
          0.3487084388710697,
          0.24927467507383305,
          0.18970179739238968,
          1.2612281786592054,
          0.2201444688228203,
          0.24360224703369707,
          0.10406974701084167,
          0.10995295362642371,
          0.16432711982770873,
          0.6751731253001662,
          0.145126144991801,
          0.10158655880968567,
          0.21008371861986624,
          0.30276681437060105,
          0.2211542408206432,
          0.11614734190898567,
          0.11132329842316414,
          0.16008031710151877,
          0.14832430534441443,
          0.20733852883733023,
          0.16306678250248766,
          0.10426497880098774,
          0.13828048681354882,
          0.6004303766411357,
          0.2227916681062688,
          0.10843036890612744,
          0.35291237987456997,
          0.19966319901014187,
          0.16700603770055444,
          0.1437690794292374,
          0.13949513933172966,
          0.24580526298465522,
          0.22961489901911658,
          0.4475196438485323,
          0.5443323245895377,
          0.3460528827989399,
          0.17774020091207507,
          0.4413650573995975,
          0.1708179707497581,
          0.472853628505432,
          0.36659104262421593,
          0.144961280307216,
          0.19802713006706216,
          0.11345840059205538,
          0.12205585156643106,
          0.6942082066903094,
          0.11956046482139278,
          0.3410181276090832,
          0.25154761515551355,
          0.34428226495090924,
          0.24143029690645065,
          0.3407508951622258,
          0.15874977750076172,
          0.30802333578141583,
          0.19456266151437812,
          0.5106880515193213,
          0.25119250414811034,
          0.20138978044187236,
          0.17232972300101657,
          0.21888003030825648,
          0.13314332896799125,
          0.11489113206184824,
          0.11131193825946913,
          0.11514212681222748,
          0.2566842167921775,
          0.15461003791517208,
          0.18066831082527318,
          0.11034143403946428,
          0.11574088902332727,
          0.3758051410308573,
          0.49527670210304114,
          0.6806363998946787,
          0.45905473307367173,
          0.2726247812999079,
          0.1643232847041076,
          0.20860904429277496,
          0.16678275793070302,
          0.4296136513753557,
          0.301466900636416,
          0.11252149651022929,
          0.26288541083170586,
          0.21634021644806092,
          0.11129871379451944,
          0.13202089605163855,
          0.40399875264322993,
          0.18365579945227664,
          0.10158655880968567,
          0.14446000741084877,
          0.15013379465106058,
          0.13874933583088733,
          0.352541314174489,
          0.20837866657542087,
          0.20070311284729464,
          0.14790979942741994,
          0.209811506385763,
          0.35757383711703616,
          0.44080352863522826,
          0.6616685121487784,
          0.41923603674062976,
          0.36070669148703993,
          0.32203155031342395,
          0.12541370812582056,
          0.3353325840443154,
          0.13035225831572034,
          0.4260952319330261,
          0.38476840076390795,
          0.1616953654504321,
          0.3957188044596726,
          0.12348651171937637,
          0.11131193825946913,
          0.17522323896463426,
          0.253519375485957,
          0.39799614299666985,
          0.3264656283868238,
          0.2390977910706996
         ],
         "yaxis": "y"
        }
       ],
       "layout": {
        "legend": {
         "tracegroupgap": 0
        },
        "margin": {
         "t": 60
        },
        "template": {
         "data": {
          "bar": [
           {
            "error_x": {
             "color": "#2a3f5f"
            },
            "error_y": {
             "color": "#2a3f5f"
            },
            "marker": {
             "line": {
              "color": "#E5ECF6",
              "width": 0.5
             },
             "pattern": {
              "fillmode": "overlay",
              "size": 10,
              "solidity": 0.2
             }
            },
            "type": "bar"
           }
          ],
          "barpolar": [
           {
            "marker": {
             "line": {
              "color": "#E5ECF6",
              "width": 0.5
             },
             "pattern": {
              "fillmode": "overlay",
              "size": 10,
              "solidity": 0.2
             }
            },
            "type": "barpolar"
           }
          ],
          "carpet": [
           {
            "aaxis": {
             "endlinecolor": "#2a3f5f",
             "gridcolor": "white",
             "linecolor": "white",
             "minorgridcolor": "white",
             "startlinecolor": "#2a3f5f"
            },
            "baxis": {
             "endlinecolor": "#2a3f5f",
             "gridcolor": "white",
             "linecolor": "white",
             "minorgridcolor": "white",
             "startlinecolor": "#2a3f5f"
            },
            "type": "carpet"
           }
          ],
          "choropleth": [
           {
            "colorbar": {
             "outlinewidth": 0,
             "ticks": ""
            },
            "type": "choropleth"
           }
          ],
          "contour": [
           {
            "colorbar": {
             "outlinewidth": 0,
             "ticks": ""
            },
            "colorscale": [
             [
              0,
              "#0d0887"
             ],
             [
              0.1111111111111111,
              "#46039f"
             ],
             [
              0.2222222222222222,
              "#7201a8"
             ],
             [
              0.3333333333333333,
              "#9c179e"
             ],
             [
              0.4444444444444444,
              "#bd3786"
             ],
             [
              0.5555555555555556,
              "#d8576b"
             ],
             [
              0.6666666666666666,
              "#ed7953"
             ],
             [
              0.7777777777777778,
              "#fb9f3a"
             ],
             [
              0.8888888888888888,
              "#fdca26"
             ],
             [
              1,
              "#f0f921"
             ]
            ],
            "type": "contour"
           }
          ],
          "contourcarpet": [
           {
            "colorbar": {
             "outlinewidth": 0,
             "ticks": ""
            },
            "type": "contourcarpet"
           }
          ],
          "heatmap": [
           {
            "colorbar": {
             "outlinewidth": 0,
             "ticks": ""
            },
            "colorscale": [
             [
              0,
              "#0d0887"
             ],
             [
              0.1111111111111111,
              "#46039f"
             ],
             [
              0.2222222222222222,
              "#7201a8"
             ],
             [
              0.3333333333333333,
              "#9c179e"
             ],
             [
              0.4444444444444444,
              "#bd3786"
             ],
             [
              0.5555555555555556,
              "#d8576b"
             ],
             [
              0.6666666666666666,
              "#ed7953"
             ],
             [
              0.7777777777777778,
              "#fb9f3a"
             ],
             [
              0.8888888888888888,
              "#fdca26"
             ],
             [
              1,
              "#f0f921"
             ]
            ],
            "type": "heatmap"
           }
          ],
          "heatmapgl": [
           {
            "colorbar": {
             "outlinewidth": 0,
             "ticks": ""
            },
            "colorscale": [
             [
              0,
              "#0d0887"
             ],
             [
              0.1111111111111111,
              "#46039f"
             ],
             [
              0.2222222222222222,
              "#7201a8"
             ],
             [
              0.3333333333333333,
              "#9c179e"
             ],
             [
              0.4444444444444444,
              "#bd3786"
             ],
             [
              0.5555555555555556,
              "#d8576b"
             ],
             [
              0.6666666666666666,
              "#ed7953"
             ],
             [
              0.7777777777777778,
              "#fb9f3a"
             ],
             [
              0.8888888888888888,
              "#fdca26"
             ],
             [
              1,
              "#f0f921"
             ]
            ],
            "type": "heatmapgl"
           }
          ],
          "histogram": [
           {
            "marker": {
             "pattern": {
              "fillmode": "overlay",
              "size": 10,
              "solidity": 0.2
             }
            },
            "type": "histogram"
           }
          ],
          "histogram2d": [
           {
            "colorbar": {
             "outlinewidth": 0,
             "ticks": ""
            },
            "colorscale": [
             [
              0,
              "#0d0887"
             ],
             [
              0.1111111111111111,
              "#46039f"
             ],
             [
              0.2222222222222222,
              "#7201a8"
             ],
             [
              0.3333333333333333,
              "#9c179e"
             ],
             [
              0.4444444444444444,
              "#bd3786"
             ],
             [
              0.5555555555555556,
              "#d8576b"
             ],
             [
              0.6666666666666666,
              "#ed7953"
             ],
             [
              0.7777777777777778,
              "#fb9f3a"
             ],
             [
              0.8888888888888888,
              "#fdca26"
             ],
             [
              1,
              "#f0f921"
             ]
            ],
            "type": "histogram2d"
           }
          ],
          "histogram2dcontour": [
           {
            "colorbar": {
             "outlinewidth": 0,
             "ticks": ""
            },
            "colorscale": [
             [
              0,
              "#0d0887"
             ],
             [
              0.1111111111111111,
              "#46039f"
             ],
             [
              0.2222222222222222,
              "#7201a8"
             ],
             [
              0.3333333333333333,
              "#9c179e"
             ],
             [
              0.4444444444444444,
              "#bd3786"
             ],
             [
              0.5555555555555556,
              "#d8576b"
             ],
             [
              0.6666666666666666,
              "#ed7953"
             ],
             [
              0.7777777777777778,
              "#fb9f3a"
             ],
             [
              0.8888888888888888,
              "#fdca26"
             ],
             [
              1,
              "#f0f921"
             ]
            ],
            "type": "histogram2dcontour"
           }
          ],
          "mesh3d": [
           {
            "colorbar": {
             "outlinewidth": 0,
             "ticks": ""
            },
            "type": "mesh3d"
           }
          ],
          "parcoords": [
           {
            "line": {
             "colorbar": {
              "outlinewidth": 0,
              "ticks": ""
             }
            },
            "type": "parcoords"
           }
          ],
          "pie": [
           {
            "automargin": true,
            "type": "pie"
           }
          ],
          "scatter": [
           {
            "marker": {
             "colorbar": {
              "outlinewidth": 0,
              "ticks": ""
             }
            },
            "type": "scatter"
           }
          ],
          "scatter3d": [
           {
            "line": {
             "colorbar": {
              "outlinewidth": 0,
              "ticks": ""
             }
            },
            "marker": {
             "colorbar": {
              "outlinewidth": 0,
              "ticks": ""
             }
            },
            "type": "scatter3d"
           }
          ],
          "scattercarpet": [
           {
            "marker": {
             "colorbar": {
              "outlinewidth": 0,
              "ticks": ""
             }
            },
            "type": "scattercarpet"
           }
          ],
          "scattergeo": [
           {
            "marker": {
             "colorbar": {
              "outlinewidth": 0,
              "ticks": ""
             }
            },
            "type": "scattergeo"
           }
          ],
          "scattergl": [
           {
            "marker": {
             "colorbar": {
              "outlinewidth": 0,
              "ticks": ""
             }
            },
            "type": "scattergl"
           }
          ],
          "scattermapbox": [
           {
            "marker": {
             "colorbar": {
              "outlinewidth": 0,
              "ticks": ""
             }
            },
            "type": "scattermapbox"
           }
          ],
          "scatterpolar": [
           {
            "marker": {
             "colorbar": {
              "outlinewidth": 0,
              "ticks": ""
             }
            },
            "type": "scatterpolar"
           }
          ],
          "scatterpolargl": [
           {
            "marker": {
             "colorbar": {
              "outlinewidth": 0,
              "ticks": ""
             }
            },
            "type": "scatterpolargl"
           }
          ],
          "scatterternary": [
           {
            "marker": {
             "colorbar": {
              "outlinewidth": 0,
              "ticks": ""
             }
            },
            "type": "scatterternary"
           }
          ],
          "surface": [
           {
            "colorbar": {
             "outlinewidth": 0,
             "ticks": ""
            },
            "colorscale": [
             [
              0,
              "#0d0887"
             ],
             [
              0.1111111111111111,
              "#46039f"
             ],
             [
              0.2222222222222222,
              "#7201a8"
             ],
             [
              0.3333333333333333,
              "#9c179e"
             ],
             [
              0.4444444444444444,
              "#bd3786"
             ],
             [
              0.5555555555555556,
              "#d8576b"
             ],
             [
              0.6666666666666666,
              "#ed7953"
             ],
             [
              0.7777777777777778,
              "#fb9f3a"
             ],
             [
              0.8888888888888888,
              "#fdca26"
             ],
             [
              1,
              "#f0f921"
             ]
            ],
            "type": "surface"
           }
          ],
          "table": [
           {
            "cells": {
             "fill": {
              "color": "#EBF0F8"
             },
             "line": {
              "color": "white"
             }
            },
            "header": {
             "fill": {
              "color": "#C8D4E3"
             },
             "line": {
              "color": "white"
             }
            },
            "type": "table"
           }
          ]
         },
         "layout": {
          "annotationdefaults": {
           "arrowcolor": "#2a3f5f",
           "arrowhead": 0,
           "arrowwidth": 1
          },
          "autotypenumbers": "strict",
          "coloraxis": {
           "colorbar": {
            "outlinewidth": 0,
            "ticks": ""
           }
          },
          "colorscale": {
           "diverging": [
            [
             0,
             "#8e0152"
            ],
            [
             0.1,
             "#c51b7d"
            ],
            [
             0.2,
             "#de77ae"
            ],
            [
             0.3,
             "#f1b6da"
            ],
            [
             0.4,
             "#fde0ef"
            ],
            [
             0.5,
             "#f7f7f7"
            ],
            [
             0.6,
             "#e6f5d0"
            ],
            [
             0.7,
             "#b8e186"
            ],
            [
             0.8,
             "#7fbc41"
            ],
            [
             0.9,
             "#4d9221"
            ],
            [
             1,
             "#276419"
            ]
           ],
           "sequential": [
            [
             0,
             "#0d0887"
            ],
            [
             0.1111111111111111,
             "#46039f"
            ],
            [
             0.2222222222222222,
             "#7201a8"
            ],
            [
             0.3333333333333333,
             "#9c179e"
            ],
            [
             0.4444444444444444,
             "#bd3786"
            ],
            [
             0.5555555555555556,
             "#d8576b"
            ],
            [
             0.6666666666666666,
             "#ed7953"
            ],
            [
             0.7777777777777778,
             "#fb9f3a"
            ],
            [
             0.8888888888888888,
             "#fdca26"
            ],
            [
             1,
             "#f0f921"
            ]
           ],
           "sequentialminus": [
            [
             0,
             "#0d0887"
            ],
            [
             0.1111111111111111,
             "#46039f"
            ],
            [
             0.2222222222222222,
             "#7201a8"
            ],
            [
             0.3333333333333333,
             "#9c179e"
            ],
            [
             0.4444444444444444,
             "#bd3786"
            ],
            [
             0.5555555555555556,
             "#d8576b"
            ],
            [
             0.6666666666666666,
             "#ed7953"
            ],
            [
             0.7777777777777778,
             "#fb9f3a"
            ],
            [
             0.8888888888888888,
             "#fdca26"
            ],
            [
             1,
             "#f0f921"
            ]
           ]
          },
          "colorway": [
           "#636efa",
           "#EF553B",
           "#00cc96",
           "#ab63fa",
           "#FFA15A",
           "#19d3f3",
           "#FF6692",
           "#B6E880",
           "#FF97FF",
           "#FECB52"
          ],
          "font": {
           "color": "#2a3f5f"
          },
          "geo": {
           "bgcolor": "white",
           "lakecolor": "white",
           "landcolor": "#E5ECF6",
           "showlakes": true,
           "showland": true,
           "subunitcolor": "white"
          },
          "hoverlabel": {
           "align": "left"
          },
          "hovermode": "closest",
          "mapbox": {
           "style": "light"
          },
          "paper_bgcolor": "white",
          "plot_bgcolor": "#E5ECF6",
          "polar": {
           "angularaxis": {
            "gridcolor": "white",
            "linecolor": "white",
            "ticks": ""
           },
           "bgcolor": "#E5ECF6",
           "radialaxis": {
            "gridcolor": "white",
            "linecolor": "white",
            "ticks": ""
           }
          },
          "scene": {
           "xaxis": {
            "backgroundcolor": "#E5ECF6",
            "gridcolor": "white",
            "gridwidth": 2,
            "linecolor": "white",
            "showbackground": true,
            "ticks": "",
            "zerolinecolor": "white"
           },
           "yaxis": {
            "backgroundcolor": "#E5ECF6",
            "gridcolor": "white",
            "gridwidth": 2,
            "linecolor": "white",
            "showbackground": true,
            "ticks": "",
            "zerolinecolor": "white"
           },
           "zaxis": {
            "backgroundcolor": "#E5ECF6",
            "gridcolor": "white",
            "gridwidth": 2,
            "linecolor": "white",
            "showbackground": true,
            "ticks": "",
            "zerolinecolor": "white"
           }
          },
          "shapedefaults": {
           "line": {
            "color": "#2a3f5f"
           }
          },
          "ternary": {
           "aaxis": {
            "gridcolor": "white",
            "linecolor": "white",
            "ticks": ""
           },
           "baxis": {
            "gridcolor": "white",
            "linecolor": "white",
            "ticks": ""
           },
           "bgcolor": "#E5ECF6",
           "caxis": {
            "gridcolor": "white",
            "linecolor": "white",
            "ticks": ""
           }
          },
          "title": {
           "x": 0.05
          },
          "xaxis": {
           "automargin": true,
           "gridcolor": "white",
           "linecolor": "white",
           "ticks": "",
           "title": {
            "standoff": 15
           },
           "zerolinecolor": "white",
           "zerolinewidth": 2
          },
          "yaxis": {
           "automargin": true,
           "gridcolor": "white",
           "linecolor": "white",
           "ticks": "",
           "title": {
            "standoff": 15
           },
           "zerolinecolor": "white",
           "zerolinewidth": 2
          }
         }
        },
        "xaxis": {
         "anchor": "y",
         "domain": [
          0,
          1
         ],
         "title": {
          "text": "ME.SFCI.act.gPkWh"
         }
        },
        "yaxis": {
         "anchor": "x",
         "domain": [
          0,
          1
         ],
         "title": {
          "text": "predicted"
         }
        }
       }
      }
     },
     "metadata": {},
     "output_type": "display_data"
    }
   ],
   "source": [
    "px.scatter(df_target_zero_false,x='ME.SFCI.act.gPkWh',y='predicted')"
   ]
  },
  {
   "cell_type": "markdown",
   "metadata": {},
   "source": [
    "## Residuals >0.5 or <-0.5"
   ]
  },
  {
   "cell_type": "code",
   "execution_count": 169,
   "metadata": {},
   "outputs": [],
   "source": [
    "df_result_train['residual'] = df_result_train['predicted'] - df_result_train['actual']"
   ]
  },
  {
   "cell_type": "code",
   "execution_count": 172,
   "metadata": {},
   "outputs": [],
   "source": [
    "df_residual_high_pos = df_result_train[df_result_train['residual']>0.5]"
   ]
  },
  {
   "cell_type": "code",
   "execution_count": 173,
   "metadata": {},
   "outputs": [],
   "source": [
    "df_residual_high_neg = df_result_train[df_result_train['residual']<-0.5]"
   ]
  },
  {
   "cell_type": "code",
   "execution_count": 181,
   "metadata": {},
   "outputs": [
    {
     "data": {
      "text/plain": [
       "<AxesSubplot:xlabel='V.SOG.act.kn', ylabel='predicted'>"
      ]
     },
     "execution_count": 181,
     "metadata": {},
     "output_type": "execute_result"
    },
    {
     "data": {
      "image/png": "[encoded data removed]",
      "text/plain": [
       "<Figure size 960x320 with 1 Axes>"
      ]
     },
     "metadata": {},
     "output_type": "display_data"
    }
   ],
   "source": [
    "fig=plt.figure(figsize=(12, 4), dpi=80)\n",
    "sns.scatterplot(data = df_residual_high_neg, \n",
    "                x = 'V.SOG.act.kn', \n",
    "                y = 'predicted',\n",
    "                linewidth=0\n",
    "                )\n",
    "sns.scatterplot(data = df_residual_high_pos, \n",
    "                x = 'V.SOG.act.kn', \n",
    "                y = 'predicted',\n",
    "                linewidth=0\n",
    "                )"
   ]
  },
  {
   "cell_type": "code",
   "execution_count": 180,
   "metadata": {},
   "outputs": [
    {
     "data": {
      "text/plain": [
       "<AxesSubplot:xlabel='Power_EM_predict', ylabel='predicted'>"
      ]
     },
     "execution_count": 180,
     "metadata": {},
     "output_type": "execute_result"
    },
    {
     "data": {
      "image/png": "[encoded data removed]",
      "text/plain": [
       "<Figure size 960x320 with 1 Axes>"
      ]
     },
     "metadata": {},
     "output_type": "display_data"
    }
   ],
   "source": [
    "fig=plt.figure(figsize=(12, 4), dpi=80)\n",
    "sns.scatterplot(data = df_residual_high_neg, \n",
    "                x = 'Power_EM_predict', \n",
    "                y = 'predicted',\n",
    "                linewidth=0\n",
    "                )\n",
    "sns.scatterplot(data = df_residual_high_pos, \n",
    "                x = 'Power_EM_predict', \n",
    "                y = 'predicted',\n",
    "                linewidth=0\n",
    "                )"
   ]
  },
  {
   "cell_type": "code",
   "execution_count": 182,
   "metadata": {},
   "outputs": [
    {
     "data": {
      "text/plain": [
       "<AxesSubplot:xlabel='ME.SFCI.act.gPkWh', ylabel='predicted'>"
      ]
     },
     "execution_count": 182,
     "metadata": {},
     "output_type": "execute_result"
    },
    {
     "data": {
      "image/png": "[encoded data removed]",
      "text/plain": [
       "<Figure size 960x320 with 1 Axes>"
      ]
     },
     "metadata": {},
     "output_type": "display_data"
    }
   ],
   "source": [
    "fig=plt.figure(figsize=(12, 4), dpi=80)\n",
    "sns.scatterplot(data = df_residual_high_neg, \n",
    "                x = 'ME.SFCI.act.gPkWh', \n",
    "                y = 'predicted',\n",
    "                linewidth=0\n",
    "                )\n",
    "sns.scatterplot(data = df_residual_high_pos, \n",
    "                x = 'ME.SFCI.act.gPkWh', \n",
    "                y = 'predicted',\n",
    "                linewidth=0\n",
    "                )"
   ]
  },
  {
   "cell_type": "code",
   "execution_count": 183,
   "metadata": {},
   "outputs": [
    {
     "data": {
      "text/plain": [
       "<AxesSubplot:xlabel='V.SLPOG.act.PRC', ylabel='predicted'>"
      ]
     },
     "execution_count": 183,
     "metadata": {},
     "output_type": "execute_result"
    },
    {
     "data": {
      "image/png": "[encoded data removed]",
      "text/plain": [
       "<Figure size 960x320 with 1 Axes>"
      ]
     },
     "metadata": {},
     "output_type": "display_data"
    }
   ],
   "source": [
    "fig=plt.figure(figsize=(12, 4), dpi=80)\n",
    "sns.scatterplot(data = df_residual_high_neg, \n",
    "                x = 'V.SLPOG.act.PRC', \n",
    "                y = 'predicted',\n",
    "                linewidth=0\n",
    "                )\n",
    "sns.scatterplot(data = df_residual_high_pos, \n",
    "                x = 'V.SLPOG.act.PRC', \n",
    "                y = 'predicted',\n",
    "                linewidth=0\n",
    "                )"
   ]
  },
  {
   "cell_type": "code",
   "execution_count": 184,
   "metadata": {},
   "outputs": [
    {
     "data": {
      "text/plain": [
       "<AxesSubplot:xlabel='V.COG.act.deg', ylabel='predicted'>"
      ]
     },
     "execution_count": 184,
     "metadata": {},
     "output_type": "execute_result"
    },
    {
     "data": {
      "image/png": "[encoded data removed]",
      "text/plain": [
       "<Figure size 960x320 with 1 Axes>"
      ]
     },
     "metadata": {},
     "output_type": "display_data"
    }
   ],
   "source": [
    "fig=plt.figure(figsize=(12, 4), dpi=80)\n",
    "sns.scatterplot(data = df_residual_high_neg, \n",
    "                x = 'V.COG.act.deg', \n",
    "                y = 'predicted',\n",
    "                linewidth=0\n",
    "                )\n",
    "sns.scatterplot(data = df_residual_high_pos, \n",
    "                x = 'V.COG.act.deg', \n",
    "                y = 'predicted',\n",
    "                linewidth=0\n",
    "                )"
   ]
  },
  {
   "cell_type": "code",
   "execution_count": 185,
   "metadata": {},
   "outputs": [
    {
     "data": {
      "text/plain": [
       "<AxesSubplot:xlabel='V.GPSLON.act.deg', ylabel='predicted'>"
      ]
     },
     "execution_count": 185,
     "metadata": {},
     "output_type": "execute_result"
    },
    {
     "data": {
      "image/png": "[encoded data removed]",
      "text/plain": [
       "<Figure size 960x320 with 1 Axes>"
      ]
     },
     "metadata": {},
     "output_type": "display_data"
    }
   ],
   "source": [
    "fig=plt.figure(figsize=(12, 4), dpi=80)\n",
    "sns.scatterplot(data = df_residual_high_neg, \n",
    "                x = 'V.GPSLON.act.deg', \n",
    "                y = 'predicted',\n",
    "                linewidth=0\n",
    "                )\n",
    "sns.scatterplot(data = df_residual_high_pos, \n",
    "                x = 'V.GPSLON.act.deg', \n",
    "                y = 'predicted',\n",
    "                linewidth=0\n",
    "                )"
   ]
  },
  {
   "cell_type": "code",
   "execution_count": 187,
   "metadata": {},
   "outputs": [
    {
     "data": {
      "text/plain": [
       "<AxesSubplot:xlabel='V.GPSLAT.act.deg', ylabel='predicted'>"
      ]
     },
     "execution_count": 187,
     "metadata": {},
     "output_type": "execute_result"
    },
    {
     "data": {
      "image/png": "[encoded data removed]",
      "text/plain": [
       "<Figure size 960x320 with 1 Axes>"
      ]
     },
     "metadata": {},
     "output_type": "display_data"
    }
   ],
   "source": [
    "fig=plt.figure(figsize=(12, 4), dpi=80)\n",
    "sns.scatterplot(data = df_residual_high_neg, \n",
    "                x = 'V.GPSLAT.act.deg', \n",
    "                y = 'predicted',\n",
    "                linewidth=0\n",
    "                )\n",
    "sns.scatterplot(data = df_residual_high_pos, \n",
    "                x = 'V.GPSLAT.act.deg', \n",
    "                y = 'predicted',\n",
    "                linewidth=0\n",
    "                )"
   ]
  }
 ],
 "metadata": {
  "interpreter": {
   "hash": "61adff6b165475bab44c4811cc98696ba601c22e85e1c32413c6c001d06d5e3a"
  },
  "kernelspec": {
   "display_name": "Python 3.9.4 64-bit ('.venv': venv)",
   "language": "python",
   "name": "python3"
  },
  "language_info": {
   "codemirror_mode": {
    "name": "ipython",
    "version": 3
   },
   "file_extension": ".py",
   "mimetype": "text/x-python",
   "name": "python",
   "nbconvert_exporter": "python",
   "pygments_lexer": "ipython3",
   "version": "3.9.4"
  },
  "orig_nbformat": 4
 },
 "nbformat": 4,
 "nbformat_minor": 2
}
