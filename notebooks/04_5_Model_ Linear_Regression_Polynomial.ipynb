{
 "cells": [
  {
   "cell_type": "markdown",
   "metadata": {},
   "source": [
    "# Linear Regression with Polynomial Features"
   ]
  },
  {
   "cell_type": "code",
   "execution_count": 1,
   "metadata": {},
   "outputs": [],
   "source": [
    "import pandas as pd \n",
    "import numpy as np\n",
    "\n",
    "from sklearn.metrics import mean_squared_error \n",
    "from sklearn.pipeline import make_pipeline\n",
    "from sklearn.preprocessing import MinMaxScaler, PolynomialFeatures\n",
    "from sklearn.model_selection import train_test_split\n",
    "from sklearn.linear_model import LinearRegression\n",
    "\n",
    "import seaborn as sns\n",
    "import matplotlib.pyplot as plt\n",
    "\n",
    "import sys\n",
    "sys.path.append(\"..\")\n",
    "import mlflow\n",
    "from modeling.config import EXPERIMENT_NAME\n",
    "TRACKING_URI = open(\"../.mlflow_uri\").read().strip()"
   ]
  },
  {
   "cell_type": "code",
   "execution_count": 2,
   "metadata": {},
   "outputs": [
    {
     "data": {
      "text/html": [
       "<div>\n",
       "<style scoped>\n",
       "    .dataframe tbody tr th:only-of-type {\n",
       "        vertical-align: middle;\n",
       "    }\n",
       "\n",
       "    .dataframe tbody tr th {\n",
       "        vertical-align: top;\n",
       "    }\n",
       "\n",
       "    .dataframe thead th {\n",
       "        text-align: right;\n",
       "    }\n",
       "</style>\n",
       "<table border=\"1\" class=\"dataframe\">\n",
       "  <thead>\n",
       "    <tr style=\"text-align: right;\">\n",
       "      <th></th>\n",
       "      <th>EntryDate</th>\n",
       "      <th>AB.FMS.act.tPh</th>\n",
       "      <th>AB.FTS.act.dgC</th>\n",
       "      <th>DDM.AFTCL.act.m</th>\n",
       "      <th>DDM.FWDCL.act.m</th>\n",
       "      <th>DDM.MIDPS.act.m</th>\n",
       "      <th>DDM.MIDSB.act.m</th>\n",
       "      <th>HFO.GME.act.nodim</th>\n",
       "      <th>ME.EFF.act.PRC</th>\n",
       "      <th>ME.FMS.act.tPh</th>\n",
       "      <th>...</th>\n",
       "      <th>Heading_Dir_deg_daily</th>\n",
       "      <th>True_Wind_Speed_mPs_daily</th>\n",
       "      <th>True_Wind_Dir_deg_daily</th>\n",
       "      <th>Wave_Height_m_daily</th>\n",
       "      <th>True_Wave_Dir_deg_daily</th>\n",
       "      <th>trip_id</th>\n",
       "      <th>Power_EM_predict</th>\n",
       "      <th>DDM.TRIM.act.m</th>\n",
       "      <th>DDM.DRAFT.act.m</th>\n",
       "      <th>DDM.HEEL.act.m</th>\n",
       "    </tr>\n",
       "  </thead>\n",
       "  <tbody>\n",
       "    <tr>\n",
       "      <th>0</th>\n",
       "      <td>2021-05-31 00:00:00</td>\n",
       "      <td>NaN</td>\n",
       "      <td>NaN</td>\n",
       "      <td>NaN</td>\n",
       "      <td>NaN</td>\n",
       "      <td>NaN</td>\n",
       "      <td>NaN</td>\n",
       "      <td>NaN</td>\n",
       "      <td>NaN</td>\n",
       "      <td>NaN</td>\n",
       "      <td>...</td>\n",
       "      <td>80.0</td>\n",
       "      <td>6.7</td>\n",
       "      <td>109.0</td>\n",
       "      <td>0.5</td>\n",
       "      <td>289.0</td>\n",
       "      <td>1</td>\n",
       "      <td>14563.73</td>\n",
       "      <td>1.021</td>\n",
       "      <td>0.1276</td>\n",
       "      <td>0.2552</td>\n",
       "    </tr>\n",
       "    <tr>\n",
       "      <th>1</th>\n",
       "      <td>2021-05-31 00:01:00</td>\n",
       "      <td>0.003108</td>\n",
       "      <td>82.858482</td>\n",
       "      <td>13.309999</td>\n",
       "      <td>14.788999</td>\n",
       "      <td>13.924999</td>\n",
       "      <td>13.587000</td>\n",
       "      <td>1.0</td>\n",
       "      <td>50.766113</td>\n",
       "      <td>3.353553</td>\n",
       "      <td>...</td>\n",
       "      <td>80.0</td>\n",
       "      <td>6.7</td>\n",
       "      <td>109.0</td>\n",
       "      <td>0.5</td>\n",
       "      <td>289.0</td>\n",
       "      <td>2</td>\n",
       "      <td>14563.73</td>\n",
       "      <td>1.021</td>\n",
       "      <td>0.1276</td>\n",
       "      <td>0.2552</td>\n",
       "    </tr>\n",
       "    <tr>\n",
       "      <th>2</th>\n",
       "      <td>2021-05-31 00:02:00</td>\n",
       "      <td>0.001970</td>\n",
       "      <td>82.832756</td>\n",
       "      <td>13.444999</td>\n",
       "      <td>14.363999</td>\n",
       "      <td>13.320999</td>\n",
       "      <td>13.378999</td>\n",
       "      <td>1.0</td>\n",
       "      <td>50.982193</td>\n",
       "      <td>3.305582</td>\n",
       "      <td>...</td>\n",
       "      <td>80.0</td>\n",
       "      <td>6.7</td>\n",
       "      <td>109.0</td>\n",
       "      <td>0.5</td>\n",
       "      <td>289.0</td>\n",
       "      <td>2</td>\n",
       "      <td>14563.73</td>\n",
       "      <td>1.021</td>\n",
       "      <td>0.1276</td>\n",
       "      <td>0.2552</td>\n",
       "    </tr>\n",
       "    <tr>\n",
       "      <th>3</th>\n",
       "      <td>2021-05-31 00:03:00</td>\n",
       "      <td>0.000000</td>\n",
       "      <td>82.795395</td>\n",
       "      <td>13.381999</td>\n",
       "      <td>14.321000</td>\n",
       "      <td>14.242000</td>\n",
       "      <td>13.584000</td>\n",
       "      <td>1.0</td>\n",
       "      <td>51.326881</td>\n",
       "      <td>3.288588</td>\n",
       "      <td>...</td>\n",
       "      <td>80.0</td>\n",
       "      <td>6.7</td>\n",
       "      <td>109.0</td>\n",
       "      <td>0.5</td>\n",
       "      <td>289.0</td>\n",
       "      <td>2</td>\n",
       "      <td>14563.73</td>\n",
       "      <td>1.021</td>\n",
       "      <td>0.1276</td>\n",
       "      <td>0.2552</td>\n",
       "    </tr>\n",
       "    <tr>\n",
       "      <th>4</th>\n",
       "      <td>2021-05-31 00:04:00</td>\n",
       "      <td>0.000000</td>\n",
       "      <td>82.884254</td>\n",
       "      <td>13.365999</td>\n",
       "      <td>14.745000</td>\n",
       "      <td>14.094998</td>\n",
       "      <td>13.596999</td>\n",
       "      <td>1.0</td>\n",
       "      <td>52.311672</td>\n",
       "      <td>3.239272</td>\n",
       "      <td>...</td>\n",
       "      <td>80.0</td>\n",
       "      <td>6.7</td>\n",
       "      <td>109.0</td>\n",
       "      <td>0.5</td>\n",
       "      <td>289.0</td>\n",
       "      <td>2</td>\n",
       "      <td>14563.73</td>\n",
       "      <td>1.021</td>\n",
       "      <td>0.1276</td>\n",
       "      <td>0.2552</td>\n",
       "    </tr>\n",
       "  </tbody>\n",
       "</table>\n",
       "<p>5 rows × 48 columns</p>\n",
       "</div>"
      ],
      "text/plain": [
       "             EntryDate  AB.FMS.act.tPh  AB.FTS.act.dgC  DDM.AFTCL.act.m  \\\n",
       "0  2021-05-31 00:00:00             NaN             NaN              NaN   \n",
       "1  2021-05-31 00:01:00        0.003108       82.858482        13.309999   \n",
       "2  2021-05-31 00:02:00        0.001970       82.832756        13.444999   \n",
       "3  2021-05-31 00:03:00        0.000000       82.795395        13.381999   \n",
       "4  2021-05-31 00:04:00        0.000000       82.884254        13.365999   \n",
       "\n",
       "   DDM.FWDCL.act.m  DDM.MIDPS.act.m  DDM.MIDSB.act.m  HFO.GME.act.nodim  \\\n",
       "0              NaN              NaN              NaN                NaN   \n",
       "1        14.788999        13.924999        13.587000                1.0   \n",
       "2        14.363999        13.320999        13.378999                1.0   \n",
       "3        14.321000        14.242000        13.584000                1.0   \n",
       "4        14.745000        14.094998        13.596999                1.0   \n",
       "\n",
       "   ME.EFF.act.PRC  ME.FMS.act.tPh  ...  Heading_Dir_deg_daily  \\\n",
       "0             NaN             NaN  ...                   80.0   \n",
       "1       50.766113        3.353553  ...                   80.0   \n",
       "2       50.982193        3.305582  ...                   80.0   \n",
       "3       51.326881        3.288588  ...                   80.0   \n",
       "4       52.311672        3.239272  ...                   80.0   \n",
       "\n",
       "   True_Wind_Speed_mPs_daily  True_Wind_Dir_deg_daily  Wave_Height_m_daily  \\\n",
       "0                        6.7                    109.0                  0.5   \n",
       "1                        6.7                    109.0                  0.5   \n",
       "2                        6.7                    109.0                  0.5   \n",
       "3                        6.7                    109.0                  0.5   \n",
       "4                        6.7                    109.0                  0.5   \n",
       "\n",
       "   True_Wave_Dir_deg_daily  trip_id  Power_EM_predict  DDM.TRIM.act.m  \\\n",
       "0                    289.0        1          14563.73           1.021   \n",
       "1                    289.0        2          14563.73           1.021   \n",
       "2                    289.0        2          14563.73           1.021   \n",
       "3                    289.0        2          14563.73           1.021   \n",
       "4                    289.0        2          14563.73           1.021   \n",
       "\n",
       "   DDM.DRAFT.act.m  DDM.HEEL.act.m  \n",
       "0           0.1276          0.2552  \n",
       "1           0.1276          0.2552  \n",
       "2           0.1276          0.2552  \n",
       "3           0.1276          0.2552  \n",
       "4           0.1276          0.2552  \n",
       "\n",
       "[5 rows x 48 columns]"
      ]
     },
     "execution_count": 2,
     "metadata": {},
     "output_type": "execute_result"
    }
   ],
   "source": [
    "# read data\n",
    "df = pd.read_csv('../data/Featureselection03.csv')\n",
    "df.head()"
   ]
  },
  {
   "cell_type": "code",
   "execution_count": 3,
   "metadata": {},
   "outputs": [
    {
     "data": {
      "text/html": [
       "<div>\n",
       "<style scoped>\n",
       "    .dataframe tbody tr th:only-of-type {\n",
       "        vertical-align: middle;\n",
       "    }\n",
       "\n",
       "    .dataframe tbody tr th {\n",
       "        vertical-align: top;\n",
       "    }\n",
       "\n",
       "    .dataframe thead th {\n",
       "        text-align: right;\n",
       "    }\n",
       "</style>\n",
       "<table border=\"1\" class=\"dataframe\">\n",
       "  <thead>\n",
       "    <tr style=\"text-align: right;\">\n",
       "      <th></th>\n",
       "      <th>VarName</th>\n",
       "      <th>F_Imp_new</th>\n",
       "      <th>ModelImportance</th>\n",
       "    </tr>\n",
       "  </thead>\n",
       "  <tbody>\n",
       "    <tr>\n",
       "      <th>0</th>\n",
       "      <td>LM1.plc_skewtime.act.s</td>\n",
       "      <td>3</td>\n",
       "      <td>3</td>\n",
       "    </tr>\n",
       "    <tr>\n",
       "      <th>1</th>\n",
       "      <td>LM1.plc_skewtime.max.s</td>\n",
       "      <td>3</td>\n",
       "      <td>3</td>\n",
       "    </tr>\n",
       "    <tr>\n",
       "      <th>2</th>\n",
       "      <td>LM1.plc_uptime.act.s</td>\n",
       "      <td>3</td>\n",
       "      <td>3</td>\n",
       "    </tr>\n",
       "    <tr>\n",
       "      <th>3</th>\n",
       "      <td>LM1.plc_cpuload.avg_5s.PRC</td>\n",
       "      <td>3</td>\n",
       "      <td>3</td>\n",
       "    </tr>\n",
       "    <tr>\n",
       "      <th>4</th>\n",
       "      <td>LM1.plc_timeBalance.act.s</td>\n",
       "      <td>3</td>\n",
       "      <td>3</td>\n",
       "    </tr>\n",
       "  </tbody>\n",
       "</table>\n",
       "</div>"
      ],
      "text/plain": [
       "                      VarName  F_Imp_new  ModelImportance\n",
       "0      LM1.plc_skewtime.act.s          3                3\n",
       "1      LM1.plc_skewtime.max.s          3                3\n",
       "2        LM1.plc_uptime.act.s          3                3\n",
       "3  LM1.plc_cpuload.avg_5s.PRC          3                3\n",
       "4   LM1.plc_timeBalance.act.s          3                3"
      ]
     },
     "execution_count": 3,
     "metadata": {},
     "output_type": "execute_result"
    }
   ],
   "source": [
    "# read list with feature importance\n",
    "data_log = pd.read_csv('../data/Capstone_features_Features.csv')\n",
    "data_log.head()"
   ]
  },
  {
   "cell_type": "markdown",
   "metadata": {},
   "source": [
    "### Create data frame with important features"
   ]
  },
  {
   "cell_type": "code",
   "execution_count": 4,
   "metadata": {},
   "outputs": [
    {
     "data": {
      "text/plain": [
       "18"
      ]
     },
     "execution_count": 4,
     "metadata": {},
     "output_type": "execute_result"
    }
   ],
   "source": [
    "# create list of important features (feature importance < 3)\n",
    "list_imp_feat = list(data_log[data_log['ModelImportance'] < 3]['VarName'])\n",
    "len(list_imp_feat)"
   ]
  },
  {
   "cell_type": "code",
   "execution_count": 5,
   "metadata": {},
   "outputs": [],
   "source": [
    "df_model = df[list_imp_feat].copy()"
   ]
  },
  {
   "cell_type": "code",
   "execution_count": 6,
   "metadata": {},
   "outputs": [
    {
     "name": "stdout",
     "output_type": "stream",
     "text": [
      "<class 'pandas.core.frame.DataFrame'>\n",
      "RangeIndex: 211679 entries, 0 to 211678\n",
      "Data columns (total 18 columns):\n",
      " #   Column                   Non-Null Count   Dtype  \n",
      "---  ------                   --------------   -----  \n",
      " 0   ME.FMS.act.tPh           210961 non-null  float64\n",
      " 1   ME.FTS.act.dgC           210961 non-null  float64\n",
      " 2   HFO.GME.act.nodim        210961 non-null  float64\n",
      " 3   V.COG.act.deg            210885 non-null  float64\n",
      " 4   V.SOG.act.kn             210885 non-null  float64\n",
      " 5   V.RUA.act.deg            210885 non-null  float64\n",
      " 6   V.GPSLAT.act.deg         210885 non-null  float64\n",
      " 7   V.GPSLON.act.deg         210885 non-null  float64\n",
      " 8   WEA.WDT.act.deg          210814 non-null  float64\n",
      " 9   WEA.WST.act.mPs          210884 non-null  float64\n",
      " 10  V.SLPOG.act.PRC          136969 non-null  float64\n",
      " 11  ME.SFCI.act.gPkWh        136929 non-null  float64\n",
      " 12  DDM.TRIM.act.m           211679 non-null  float64\n",
      " 13  DDM.DRAFT.act.m          211679 non-null  float64\n",
      " 14  passage_type             211679 non-null  object \n",
      " 15  Wave_Height_m_daily      180603 non-null  float64\n",
      " 16  True_Wave_Dir_deg_daily  180603 non-null  float64\n",
      " 17  Power_EM_predict         211679 non-null  float64\n",
      "dtypes: float64(17), object(1)\n",
      "memory usage: 29.1+ MB\n"
     ]
    }
   ],
   "source": [
    "df_model.info()"
   ]
  },
  {
   "cell_type": "markdown",
   "metadata": {},
   "source": [
    "### Fill and drop NaN"
   ]
  },
  {
   "cell_type": "code",
   "execution_count": 7,
   "metadata": {},
   "outputs": [],
   "source": [
    "df_model['V.SLPOG.act.PRC'].fillna(0,inplace=True)\n",
    "df_model['ME.SFCI.act.gPkWh'].fillna(0,inplace=True)"
   ]
  },
  {
   "cell_type": "code",
   "execution_count": 8,
   "metadata": {},
   "outputs": [],
   "source": [
    "df_model.dropna(inplace=True)"
   ]
  },
  {
   "cell_type": "code",
   "execution_count": 9,
   "metadata": {},
   "outputs": [
    {
     "name": "stdout",
     "output_type": "stream",
     "text": [
      "<class 'pandas.core.frame.DataFrame'>\n",
      "Int64Index: 180149 entries, 1 to 211678\n",
      "Data columns (total 18 columns):\n",
      " #   Column                   Non-Null Count   Dtype  \n",
      "---  ------                   --------------   -----  \n",
      " 0   ME.FMS.act.tPh           180149 non-null  float64\n",
      " 1   ME.FTS.act.dgC           180149 non-null  float64\n",
      " 2   HFO.GME.act.nodim        180149 non-null  float64\n",
      " 3   V.COG.act.deg            180149 non-null  float64\n",
      " 4   V.SOG.act.kn             180149 non-null  float64\n",
      " 5   V.RUA.act.deg            180149 non-null  float64\n",
      " 6   V.GPSLAT.act.deg         180149 non-null  float64\n",
      " 7   V.GPSLON.act.deg         180149 non-null  float64\n",
      " 8   WEA.WDT.act.deg          180149 non-null  float64\n",
      " 9   WEA.WST.act.mPs          180149 non-null  float64\n",
      " 10  V.SLPOG.act.PRC          180149 non-null  float64\n",
      " 11  ME.SFCI.act.gPkWh        180149 non-null  float64\n",
      " 12  DDM.TRIM.act.m           180149 non-null  float64\n",
      " 13  DDM.DRAFT.act.m          180149 non-null  float64\n",
      " 14  passage_type             180149 non-null  object \n",
      " 15  Wave_Height_m_daily      180149 non-null  float64\n",
      " 16  True_Wave_Dir_deg_daily  180149 non-null  float64\n",
      " 17  Power_EM_predict         180149 non-null  float64\n",
      "dtypes: float64(17), object(1)\n",
      "memory usage: 26.1+ MB\n"
     ]
    }
   ],
   "source": [
    "df_model.info()"
   ]
  },
  {
   "cell_type": "markdown",
   "metadata": {},
   "source": [
    "### Check correlations"
   ]
  },
  {
   "cell_type": "code",
   "execution_count": 10,
   "metadata": {},
   "outputs": [
    {
     "data": {
      "text/plain": [
       "<AxesSubplot:>"
      ]
     },
     "execution_count": 10,
     "metadata": {},
     "output_type": "execute_result"
    },
    {
     "data": {
      "image/png": "[encoded data removed]",
      "text/plain": [
       "<Figure size 2160x2016 with 2 Axes>"
      ]
     },
     "metadata": {
      "needs_background": "light"
     },
     "output_type": "display_data"
    }
   ],
   "source": [
    "plt.figure(figsize = (30,28))\n",
    "sns.heatmap(df_model.corr(), annot = True, cmap = 'RdYlGn')"
   ]
  },
  {
   "cell_type": "markdown",
   "metadata": {},
   "source": [
    "### Define Target"
   ]
  },
  {
   "cell_type": "code",
   "execution_count": 11,
   "metadata": {},
   "outputs": [
    {
     "data": {
      "text/plain": [
       "(180148, 18)"
      ]
     },
     "execution_count": 11,
     "metadata": {},
     "output_type": "execute_result"
    }
   ],
   "source": [
    "df_model = df_model[df_model['ME.FMS.act.tPh'] < 8]\n",
    "df_model.shape"
   ]
  },
  {
   "cell_type": "code",
   "execution_count": 12,
   "metadata": {},
   "outputs": [
    {
     "data": {
      "text/plain": [
       "(101065, 18)"
      ]
     },
     "execution_count": 12,
     "metadata": {},
     "output_type": "execute_result"
    }
   ],
   "source": [
    "df_model = df_model[df_model['V.SOG.act.kn'] > 13.5]\n",
    "df_model.shape"
   ]
  },
  {
   "cell_type": "code",
   "execution_count": 13,
   "metadata": {},
   "outputs": [],
   "source": [
    "X = df_model.drop(['ME.FMS.act.tPh', 'Power_EM_predict', 'ME.SFCI.act.gPkWh'], axis = 1)\n",
    "y = df_model['ME.FMS.act.tPh']"
   ]
  },
  {
   "cell_type": "markdown",
   "metadata": {},
   "source": [
    "### Train Test Split"
   ]
  },
  {
   "cell_type": "code",
   "execution_count": 14,
   "metadata": {},
   "outputs": [],
   "source": [
    "X_train, X_test, y_train, y_test = train_test_split(X, y, stratify = X['passage_type'], test_size = 0.2, random_state = 42)"
   ]
  },
  {
   "cell_type": "markdown",
   "metadata": {},
   "source": [
    "### Create dummy values for feature 'passage_type'"
   ]
  },
  {
   "cell_type": "code",
   "execution_count": 15,
   "metadata": {},
   "outputs": [],
   "source": [
    "X_train = pd.get_dummies(X_train, drop_first=True)\n",
    "X_test = pd.get_dummies(X_test, drop_first=True)"
   ]
  },
  {
   "cell_type": "code",
   "execution_count": 16,
   "metadata": {},
   "outputs": [
    {
     "name": "stdout",
     "output_type": "stream",
     "text": [
      "<class 'pandas.core.frame.DataFrame'>\n",
      "Int64Index: 80852 entries, 125041 to 80691\n",
      "Data columns (total 16 columns):\n",
      " #   Column                            Non-Null Count  Dtype  \n",
      "---  ------                            --------------  -----  \n",
      " 0   ME.FTS.act.dgC                    80852 non-null  float64\n",
      " 1   HFO.GME.act.nodim                 80852 non-null  float64\n",
      " 2   V.COG.act.deg                     80852 non-null  float64\n",
      " 3   V.SOG.act.kn                      80852 non-null  float64\n",
      " 4   V.RUA.act.deg                     80852 non-null  float64\n",
      " 5   V.GPSLAT.act.deg                  80852 non-null  float64\n",
      " 6   V.GPSLON.act.deg                  80852 non-null  float64\n",
      " 7   WEA.WDT.act.deg                   80852 non-null  float64\n",
      " 8   WEA.WST.act.mPs                   80852 non-null  float64\n",
      " 9   V.SLPOG.act.PRC                   80852 non-null  float64\n",
      " 10  DDM.TRIM.act.m                    80852 non-null  float64\n",
      " 11  DDM.DRAFT.act.m                   80852 non-null  float64\n",
      " 12  Wave_Height_m_daily               80852 non-null  float64\n",
      " 13  True_Wave_Dir_deg_daily           80852 non-null  float64\n",
      " 14  passage_type_Europe>13.5kn        80852 non-null  uint8  \n",
      " 15  passage_type_SouthAmerica>13.5kn  80852 non-null  uint8  \n",
      "dtypes: float64(14), uint8(2)\n",
      "memory usage: 9.4 MB\n"
     ]
    }
   ],
   "source": [
    "X_train.info()"
   ]
  },
  {
   "cell_type": "markdown",
   "metadata": {},
   "source": [
    "### Set MLFlow connection"
   ]
  },
  {
   "cell_type": "code",
   "execution_count": 17,
   "metadata": {},
   "outputs": [],
   "source": [
    "# setting the MLFlow connection and experiment\n",
    "mlflow.set_tracking_uri(TRACKING_URI)\n",
    "mlflow.set_experiment(EXPERIMENT_NAME)\n",
    "mlflow.start_run(run_name='LinReg_with_PolyFeatures_no_EM_SFCI_>13.5kn') # CHANGE!\n",
    "run = mlflow.active_run()"
   ]
  },
  {
   "cell_type": "markdown",
   "metadata": {},
   "source": [
    "## Modelling"
   ]
  },
  {
   "cell_type": "code",
   "execution_count": 18,
   "metadata": {},
   "outputs": [],
   "source": [
    "reg = make_pipeline(PolynomialFeatures(degree=2), MinMaxScaler() , LinearRegression()) # CHANGE!"
   ]
  },
  {
   "cell_type": "code",
   "execution_count": 19,
   "metadata": {},
   "outputs": [
    {
     "data": {
      "text/plain": [
       "Pipeline(steps=[('polynomialfeatures', PolynomialFeatures()),\n",
       "                ('minmaxscaler', MinMaxScaler()),\n",
       "                ('linearregression', LinearRegression())])"
      ]
     },
     "execution_count": 19,
     "metadata": {},
     "output_type": "execute_result"
    }
   ],
   "source": [
    "reg.fit(X_train, y_train)"
   ]
  },
  {
   "cell_type": "code",
   "execution_count": 20,
   "metadata": {},
   "outputs": [],
   "source": [
    "y_pred = reg.predict(X_test)\n",
    "y_pred_train = reg.predict(X_train)"
   ]
  },
  {
   "cell_type": "code",
   "execution_count": 21,
   "metadata": {},
   "outputs": [],
   "source": [
    "y_pred[y_pred < 0] = 0\n",
    "y_pred_train[y_pred_train < 0] = 0"
   ]
  },
  {
   "cell_type": "markdown",
   "metadata": {},
   "source": [
    "## Analysis"
   ]
  },
  {
   "cell_type": "code",
   "execution_count": 22,
   "metadata": {},
   "outputs": [
    {
     "name": "stdout",
     "output_type": "stream",
     "text": [
      "RMSE train:  0.11501049184277977\n",
      "RMSE test:  0.11438613443993678\n"
     ]
    }
   ],
   "source": [
    "print('RMSE train: ', mean_squared_error(y_train, y_pred_train, squared= False))\n",
    "rmse_train = mean_squared_error(y_train, y_pred_train, squared= False)\n",
    "print('RMSE test: ', mean_squared_error(y_test, y_pred, squared= False))\n",
    "rmse_test = mean_squared_error(y_test, y_pred, squared= False)"
   ]
  },
  {
   "cell_type": "code",
   "execution_count": 23,
   "metadata": {},
   "outputs": [
    {
     "data": {
      "image/png": "[encoded data removed]",
      "text/plain": [
       "<Figure size 432x432 with 1 Axes>"
      ]
     },
     "metadata": {
      "needs_background": "light"
     },
     "output_type": "display_data"
    }
   ],
   "source": [
    "fig=plt.figure(figsize=(6, 6))\n",
    "plt.axline([1, 1], [2, 2],color='lightgrey')\n",
    "plt.scatter(y_train, y_pred_train, color ='#33424F')\n",
    "plt.scatter(y_test, y_pred, color = '#FF6600')\n",
    "#plt.xticks(np.arange(0,501,100));\n",
    "#plt.yticks(np.arange(0,501,100));\n",
    "plt.xlabel(\"ME.FMS.act.tPh actual\");\n",
    "plt.ylabel(\"ME.FMS.act.tPh predicted\");\n",
    "plt.xlim(-1, 6);\n",
    "plt.ylim(-1, 6);"
   ]
  },
  {
   "cell_type": "markdown",
   "metadata": {},
   "source": [
    "### Write to MLFlow"
   ]
  },
  {
   "cell_type": "code",
   "execution_count": 24,
   "metadata": {},
   "outputs": [],
   "source": [
    "#seting parameters that should be logged on MLFlow\n",
    "#these parameters were used in feature engineering (inputing missing values)\n",
    "#or parameters of the model (fit_intercept for Linear Regression model)\n",
    "params = {\n",
    "      \"features drop\": 'according to Capstone_features_Features.csv + t/h kleiner 8 + EM and SCFI drop + Speed > 13.5 kn',\n",
    "      \"explanation\": 'Linear Regression with Polynomial features of degree 2 and all negative Prediction set to 0',\n",
    "      \"csv used\": 'Featureselection03.csv',\n",
    "      \"NaN handling\": 'V.SLPOG.act.PRC and ME.SFCI.act.gPkWh filled with 0, rest dropped by row',\n",
    "      'Shape' : df.shape,\n",
    "      'Scaler' : 'MinMaxScaler',\n",
    "      'Polynomialdegree' : 2,\n",
    "      'size_test' : 0.2\n",
    "  }"
   ]
  },
  {
   "cell_type": "code",
   "execution_count": 25,
   "metadata": {},
   "outputs": [],
   "source": [
    "#logging params to mlflow\n",
    "mlflow.log_params(params)\n",
    "#setting tags\n",
    "mlflow.set_tag(\"running_from_jupyter\", \"True\")\n",
    "#logging metrics\n",
    "mlflow.log_metric(\"train-\" + \"RMSE\", rmse_train)\n",
    "mlflow.log_metric(\"test-\" + \"RMSE\", rmse_test)\n",
    "# logging the model to mlflow will not work without a AWS Connection setup.. too complex for now\n",
    "# but possible if running mlflow locally\n",
    "# mlflow.log_artifact(\"../models\")\n",
    "# mlflow.sklearn.log_model(reg, \"model\")\n",
    "mlflow.end_run()"
   ]
  },
  {
   "cell_type": "markdown",
   "metadata": {},
   "source": [
    "### What are the most important features?"
   ]
  },
  {
   "cell_type": "code",
   "execution_count": 26,
   "metadata": {},
   "outputs": [
    {
     "data": {
      "text/plain": [
       "Index(['ME.FTS.act.dgC', 'HFO.GME.act.nodim', 'V.COG.act.deg', 'V.SOG.act.kn',\n",
       "       'V.RUA.act.deg', 'V.GPSLAT.act.deg', 'V.GPSLON.act.deg',\n",
       "       'WEA.WDT.act.deg', 'WEA.WST.act.mPs', 'V.SLPOG.act.PRC',\n",
       "       'DDM.TRIM.act.m', 'DDM.DRAFT.act.m', 'Wave_Height_m_daily',\n",
       "       'True_Wave_Dir_deg_daily', 'passage_type_Europe>13.5kn',\n",
       "       'passage_type_SouthAmerica>13.5kn'],\n",
       "      dtype='object')"
      ]
     },
     "execution_count": 26,
     "metadata": {},
     "output_type": "execute_result"
    }
   ],
   "source": [
    "X_train.columns"
   ]
  },
  {
   "cell_type": "code",
   "execution_count": 27,
   "metadata": {},
   "outputs": [
    {
     "name": "stdout",
     "output_type": "stream",
     "text": [
      "Nr. of input features:  16\n",
      "Nr. of output features:  153\n"
     ]
    }
   ],
   "source": [
    "print('Nr. of input features: ', reg.steps[0][1].n_features_in_)\n",
    "print('Nr. of output features: ', reg.steps[0][1].n_output_features_)"
   ]
  },
  {
   "cell_type": "code",
   "execution_count": 28,
   "metadata": {},
   "outputs": [
    {
     "data": {
      "text/plain": [
       "array(['1', 'ME.FTS.act.dgC', 'HFO.GME.act.nodim', 'V.COG.act.deg',\n",
       "       'V.SOG.act.kn', 'V.RUA.act.deg', 'V.GPSLAT.act.deg',\n",
       "       'V.GPSLON.act.deg', 'WEA.WDT.act.deg', 'WEA.WST.act.mPs',\n",
       "       'V.SLPOG.act.PRC', 'DDM.TRIM.act.m', 'DDM.DRAFT.act.m',\n",
       "       'Wave_Height_m_daily', 'True_Wave_Dir_deg_daily',\n",
       "       'passage_type_Europe>13.5kn', 'passage_type_SouthAmerica>13.5kn',\n",
       "       'ME.FTS.act.dgC^2', 'ME.FTS.act.dgC HFO.GME.act.nodim',\n",
       "       'ME.FTS.act.dgC V.COG.act.deg', 'ME.FTS.act.dgC V.SOG.act.kn',\n",
       "       'ME.FTS.act.dgC V.RUA.act.deg', 'ME.FTS.act.dgC V.GPSLAT.act.deg',\n",
       "       'ME.FTS.act.dgC V.GPSLON.act.deg',\n",
       "       'ME.FTS.act.dgC WEA.WDT.act.deg', 'ME.FTS.act.dgC WEA.WST.act.mPs',\n",
       "       'ME.FTS.act.dgC V.SLPOG.act.PRC', 'ME.FTS.act.dgC DDM.TRIM.act.m',\n",
       "       'ME.FTS.act.dgC DDM.DRAFT.act.m',\n",
       "       'ME.FTS.act.dgC Wave_Height_m_daily',\n",
       "       'ME.FTS.act.dgC True_Wave_Dir_deg_daily',\n",
       "       'ME.FTS.act.dgC passage_type_Europe>13.5kn',\n",
       "       'ME.FTS.act.dgC passage_type_SouthAmerica>13.5kn',\n",
       "       'HFO.GME.act.nodim^2', 'HFO.GME.act.nodim V.COG.act.deg',\n",
       "       'HFO.GME.act.nodim V.SOG.act.kn',\n",
       "       'HFO.GME.act.nodim V.RUA.act.deg',\n",
       "       'HFO.GME.act.nodim V.GPSLAT.act.deg',\n",
       "       'HFO.GME.act.nodim V.GPSLON.act.deg',\n",
       "       'HFO.GME.act.nodim WEA.WDT.act.deg',\n",
       "       'HFO.GME.act.nodim WEA.WST.act.mPs',\n",
       "       'HFO.GME.act.nodim V.SLPOG.act.PRC',\n",
       "       'HFO.GME.act.nodim DDM.TRIM.act.m',\n",
       "       'HFO.GME.act.nodim DDM.DRAFT.act.m',\n",
       "       'HFO.GME.act.nodim Wave_Height_m_daily',\n",
       "       'HFO.GME.act.nodim True_Wave_Dir_deg_daily',\n",
       "       'HFO.GME.act.nodim passage_type_Europe>13.5kn',\n",
       "       'HFO.GME.act.nodim passage_type_SouthAmerica>13.5kn',\n",
       "       'V.COG.act.deg^2', 'V.COG.act.deg V.SOG.act.kn',\n",
       "       'V.COG.act.deg V.RUA.act.deg', 'V.COG.act.deg V.GPSLAT.act.deg',\n",
       "       'V.COG.act.deg V.GPSLON.act.deg', 'V.COG.act.deg WEA.WDT.act.deg',\n",
       "       'V.COG.act.deg WEA.WST.act.mPs', 'V.COG.act.deg V.SLPOG.act.PRC',\n",
       "       'V.COG.act.deg DDM.TRIM.act.m', 'V.COG.act.deg DDM.DRAFT.act.m',\n",
       "       'V.COG.act.deg Wave_Height_m_daily',\n",
       "       'V.COG.act.deg True_Wave_Dir_deg_daily',\n",
       "       'V.COG.act.deg passage_type_Europe>13.5kn',\n",
       "       'V.COG.act.deg passage_type_SouthAmerica>13.5kn', 'V.SOG.act.kn^2',\n",
       "       'V.SOG.act.kn V.RUA.act.deg', 'V.SOG.act.kn V.GPSLAT.act.deg',\n",
       "       'V.SOG.act.kn V.GPSLON.act.deg', 'V.SOG.act.kn WEA.WDT.act.deg',\n",
       "       'V.SOG.act.kn WEA.WST.act.mPs', 'V.SOG.act.kn V.SLPOG.act.PRC',\n",
       "       'V.SOG.act.kn DDM.TRIM.act.m', 'V.SOG.act.kn DDM.DRAFT.act.m',\n",
       "       'V.SOG.act.kn Wave_Height_m_daily',\n",
       "       'V.SOG.act.kn True_Wave_Dir_deg_daily',\n",
       "       'V.SOG.act.kn passage_type_Europe>13.5kn',\n",
       "       'V.SOG.act.kn passage_type_SouthAmerica>13.5kn', 'V.RUA.act.deg^2',\n",
       "       'V.RUA.act.deg V.GPSLAT.act.deg', 'V.RUA.act.deg V.GPSLON.act.deg',\n",
       "       'V.RUA.act.deg WEA.WDT.act.deg', 'V.RUA.act.deg WEA.WST.act.mPs',\n",
       "       'V.RUA.act.deg V.SLPOG.act.PRC', 'V.RUA.act.deg DDM.TRIM.act.m',\n",
       "       'V.RUA.act.deg DDM.DRAFT.act.m',\n",
       "       'V.RUA.act.deg Wave_Height_m_daily',\n",
       "       'V.RUA.act.deg True_Wave_Dir_deg_daily',\n",
       "       'V.RUA.act.deg passage_type_Europe>13.5kn',\n",
       "       'V.RUA.act.deg passage_type_SouthAmerica>13.5kn',\n",
       "       'V.GPSLAT.act.deg^2', 'V.GPSLAT.act.deg V.GPSLON.act.deg',\n",
       "       'V.GPSLAT.act.deg WEA.WDT.act.deg',\n",
       "       'V.GPSLAT.act.deg WEA.WST.act.mPs',\n",
       "       'V.GPSLAT.act.deg V.SLPOG.act.PRC',\n",
       "       'V.GPSLAT.act.deg DDM.TRIM.act.m',\n",
       "       'V.GPSLAT.act.deg DDM.DRAFT.act.m',\n",
       "       'V.GPSLAT.act.deg Wave_Height_m_daily',\n",
       "       'V.GPSLAT.act.deg True_Wave_Dir_deg_daily',\n",
       "       'V.GPSLAT.act.deg passage_type_Europe>13.5kn',\n",
       "       'V.GPSLAT.act.deg passage_type_SouthAmerica>13.5kn',\n",
       "       'V.GPSLON.act.deg^2', 'V.GPSLON.act.deg WEA.WDT.act.deg',\n",
       "       'V.GPSLON.act.deg WEA.WST.act.mPs',\n",
       "       'V.GPSLON.act.deg V.SLPOG.act.PRC',\n",
       "       'V.GPSLON.act.deg DDM.TRIM.act.m',\n",
       "       'V.GPSLON.act.deg DDM.DRAFT.act.m',\n",
       "       'V.GPSLON.act.deg Wave_Height_m_daily',\n",
       "       'V.GPSLON.act.deg True_Wave_Dir_deg_daily',\n",
       "       'V.GPSLON.act.deg passage_type_Europe>13.5kn',\n",
       "       'V.GPSLON.act.deg passage_type_SouthAmerica>13.5kn',\n",
       "       'WEA.WDT.act.deg^2', 'WEA.WDT.act.deg WEA.WST.act.mPs',\n",
       "       'WEA.WDT.act.deg V.SLPOG.act.PRC',\n",
       "       'WEA.WDT.act.deg DDM.TRIM.act.m',\n",
       "       'WEA.WDT.act.deg DDM.DRAFT.act.m',\n",
       "       'WEA.WDT.act.deg Wave_Height_m_daily',\n",
       "       'WEA.WDT.act.deg True_Wave_Dir_deg_daily',\n",
       "       'WEA.WDT.act.deg passage_type_Europe>13.5kn',\n",
       "       'WEA.WDT.act.deg passage_type_SouthAmerica>13.5kn',\n",
       "       'WEA.WST.act.mPs^2', 'WEA.WST.act.mPs V.SLPOG.act.PRC',\n",
       "       'WEA.WST.act.mPs DDM.TRIM.act.m',\n",
       "       'WEA.WST.act.mPs DDM.DRAFT.act.m',\n",
       "       'WEA.WST.act.mPs Wave_Height_m_daily',\n",
       "       'WEA.WST.act.mPs True_Wave_Dir_deg_daily',\n",
       "       'WEA.WST.act.mPs passage_type_Europe>13.5kn',\n",
       "       'WEA.WST.act.mPs passage_type_SouthAmerica>13.5kn',\n",
       "       'V.SLPOG.act.PRC^2', 'V.SLPOG.act.PRC DDM.TRIM.act.m',\n",
       "       'V.SLPOG.act.PRC DDM.DRAFT.act.m',\n",
       "       'V.SLPOG.act.PRC Wave_Height_m_daily',\n",
       "       'V.SLPOG.act.PRC True_Wave_Dir_deg_daily',\n",
       "       'V.SLPOG.act.PRC passage_type_Europe>13.5kn',\n",
       "       'V.SLPOG.act.PRC passage_type_SouthAmerica>13.5kn',\n",
       "       'DDM.TRIM.act.m^2', 'DDM.TRIM.act.m DDM.DRAFT.act.m',\n",
       "       'DDM.TRIM.act.m Wave_Height_m_daily',\n",
       "       'DDM.TRIM.act.m True_Wave_Dir_deg_daily',\n",
       "       'DDM.TRIM.act.m passage_type_Europe>13.5kn',\n",
       "       'DDM.TRIM.act.m passage_type_SouthAmerica>13.5kn',\n",
       "       'DDM.DRAFT.act.m^2', 'DDM.DRAFT.act.m Wave_Height_m_daily',\n",
       "       'DDM.DRAFT.act.m True_Wave_Dir_deg_daily',\n",
       "       'DDM.DRAFT.act.m passage_type_Europe>13.5kn',\n",
       "       'DDM.DRAFT.act.m passage_type_SouthAmerica>13.5kn',\n",
       "       'Wave_Height_m_daily^2',\n",
       "       'Wave_Height_m_daily True_Wave_Dir_deg_daily',\n",
       "       'Wave_Height_m_daily passage_type_Europe>13.5kn',\n",
       "       'Wave_Height_m_daily passage_type_SouthAmerica>13.5kn',\n",
       "       'True_Wave_Dir_deg_daily^2',\n",
       "       'True_Wave_Dir_deg_daily passage_type_Europe>13.5kn',\n",
       "       'True_Wave_Dir_deg_daily passage_type_SouthAmerica>13.5kn',\n",
       "       'passage_type_Europe>13.5kn^2',\n",
       "       'passage_type_Europe>13.5kn passage_type_SouthAmerica>13.5kn',\n",
       "       'passage_type_SouthAmerica>13.5kn^2'], dtype=object)"
      ]
     },
     "execution_count": 28,
     "metadata": {},
     "output_type": "execute_result"
    }
   ],
   "source": [
    "reg.steps[0][1].get_feature_names_out()"
   ]
  },
  {
   "cell_type": "code",
   "execution_count": 29,
   "metadata": {},
   "outputs": [
    {
     "data": {
      "text/plain": [
       "array([ 9.93313267e-16,  1.93416287e+00, -3.58105741e-01,  8.89755519e-01,\n",
       "       -3.06489994e+00,  2.12233044e+00, -5.33055970e+00, -3.99271124e+00,\n",
       "        7.27375317e-01,  9.03829697e-02, -9.79668161e+00, -8.10685880e+00,\n",
       "       -1.56997601e+00, -1.55222972e+00, -8.79927056e-01, -1.71058353e+00,\n",
       "       -4.42541397e+00, -2.48399741e+00, -2.67456276e-01,  4.87415234e-01,\n",
       "       -2.42992180e-01,  1.76837529e+00, -8.18308047e-01, -9.73193469e-01,\n",
       "       -1.11396495e+00,  1.88604818e+00,  2.77076117e+00,  3.56089667e+00,\n",
       "       -6.09308565e-02,  3.77420411e-01,  6.00402689e-01, -2.27169058e-01,\n",
       "        1.87020909e-01, -3.58105741e-01, -8.65623171e-02, -1.28598149e+00,\n",
       "       -1.11086597e+00,  3.47181075e+00,  4.33561935e-01,  2.97160350e-01,\n",
       "       -2.72070729e-01, -3.24444807e-01,  4.31914660e-01, -1.13315528e-01,\n",
       "       -4.44357702e-01, -1.30515633e-02,  3.63042929e-14,  1.96474937e+00,\n",
       "       -5.03764528e-01, -3.93126143e-01, -3.66556937e-01, -5.60817237e-01,\n",
       "        8.50048255e-01,  5.69134908e-01, -1.84314639e-01, -2.02791170e-01,\n",
       "        8.47384006e-01,  7.32184058e-01, -3.24256521e-01, -1.16456131e-01,\n",
       "       -5.07508496e-02,  1.19593651e-01,  9.31663571e+00, -1.57688291e+00,\n",
       "       -3.06536991e+00,  1.78088424e+00, -6.91771985e-01, -6.79919355e-01,\n",
       "        1.42359816e+01,  3.90488453e+00,  1.96836691e-01,  1.76840687e+00,\n",
       "        3.17978564e-01, -1.30397346e+00,  7.48646665e-02,  1.00512332e+00,\n",
       "       -1.02920874e+00,  1.35883602e+00, -1.06885714e-01, -8.21208908e-01,\n",
       "       -3.63460409e-01, -8.21824184e-02, -2.97910268e-01, -4.74086634e-03,\n",
       "       -3.73861805e-01, -1.27948893e-01,  1.12866262e+00,  8.73430436e-01,\n",
       "        2.37389622e-01,  1.72744096e-01, -9.28309002e-01, -1.03601645e+00,\n",
       "       -7.57828593e-01,  1.07772506e+00,  1.85190353e-02,  3.08289449e-01,\n",
       "        5.64367117e+00,  3.67390537e+00, -3.43696413e+00,  1.08647639e-02,\n",
       "        5.50309849e-01,  2.02200770e+00, -2.62086277e-02, -8.78449671e-01,\n",
       "        2.47032688e-01,  2.24507968e-01,  6.96948568e-01, -5.89074815e+00,\n",
       "        1.23755372e-01,  1.64557031e-01, -2.47262639e-01,  3.75512676e-01,\n",
       "       -7.97506654e-03,  8.13949034e-02, -8.38540675e-04, -1.26503759e-01,\n",
       "        8.91078356e-02,  3.44004371e-01,  1.13117639e+00,  4.60039098e-02,\n",
       "        7.45439240e-03, -3.21105366e-01,  7.38771795e-02, -5.52754076e-01,\n",
       "       -2.54399795e-01,  3.33292868e+00,  8.21879929e-01,  4.50905106e-01,\n",
       "        4.09573350e-01,  1.16916346e-01, -1.97310588e+00,  5.17672000e-01,\n",
       "       -1.48232000e-01, -4.04810867e-01,  2.50529381e-03, -2.37140052e-01,\n",
       "        5.53716299e-01, -9.94739440e-01,  1.47001327e-02, -8.65959450e-02,\n",
       "        5.53797774e-02,  6.37844422e-02, -3.47276266e-02,  3.02101697e-01,\n",
       "        9.38777631e-03, -2.67270842e-01,  4.22343478e-01,  1.05696720e-01,\n",
       "        1.51196708e-01,  3.31988916e-01, -1.71058353e+00,  0.00000000e+00,\n",
       "       -4.42541397e+00])"
      ]
     },
     "execution_count": 29,
     "metadata": {},
     "output_type": "execute_result"
    }
   ],
   "source": [
    "reg.steps[2][1].coef_"
   ]
  },
  {
   "cell_type": "code",
   "execution_count": 30,
   "metadata": {},
   "outputs": [
    {
     "data": {
      "text/html": [
       "<div>\n",
       "<style scoped>\n",
       "    .dataframe tbody tr th:only-of-type {\n",
       "        vertical-align: middle;\n",
       "    }\n",
       "\n",
       "    .dataframe tbody tr th {\n",
       "        vertical-align: top;\n",
       "    }\n",
       "\n",
       "    .dataframe thead th {\n",
       "        text-align: right;\n",
       "    }\n",
       "</style>\n",
       "<table border=\"1\" class=\"dataframe\">\n",
       "  <thead>\n",
       "    <tr style=\"text-align: right;\">\n",
       "      <th></th>\n",
       "      <th>features</th>\n",
       "      <th>coef</th>\n",
       "    </tr>\n",
       "  </thead>\n",
       "  <tbody>\n",
       "    <tr>\n",
       "      <th>10</th>\n",
       "      <td>V.SLPOG.act.PRC</td>\n",
       "      <td>-9.796682</td>\n",
       "    </tr>\n",
       "    <tr>\n",
       "      <th>11</th>\n",
       "      <td>DDM.TRIM.act.m</td>\n",
       "      <td>-8.106859</td>\n",
       "    </tr>\n",
       "    <tr>\n",
       "      <th>107</th>\n",
       "      <td>V.GPSLON.act.deg passage_type_SouthAmerica&gt;13.5kn</td>\n",
       "      <td>-5.890748</td>\n",
       "    </tr>\n",
       "    <tr>\n",
       "      <th>6</th>\n",
       "      <td>V.GPSLAT.act.deg</td>\n",
       "      <td>-5.330560</td>\n",
       "    </tr>\n",
       "    <tr>\n",
       "      <th>152</th>\n",
       "      <td>passage_type_SouthAmerica&gt;13.5kn^2</td>\n",
       "      <td>-4.425414</td>\n",
       "    </tr>\n",
       "    <tr>\n",
       "      <th>...</th>\n",
       "      <td>...</td>\n",
       "      <td>...</td>\n",
       "    </tr>\n",
       "    <tr>\n",
       "      <th>97</th>\n",
       "      <td>V.GPSLAT.act.deg passage_type_SouthAmerica&gt;13.5kn</td>\n",
       "      <td>3.673905</td>\n",
       "    </tr>\n",
       "    <tr>\n",
       "      <th>69</th>\n",
       "      <td>V.SOG.act.kn DDM.TRIM.act.m</td>\n",
       "      <td>3.904885</td>\n",
       "    </tr>\n",
       "    <tr>\n",
       "      <th>96</th>\n",
       "      <td>V.GPSLAT.act.deg passage_type_Europe&gt;13.5kn</td>\n",
       "      <td>5.643671</td>\n",
       "    </tr>\n",
       "    <tr>\n",
       "      <th>62</th>\n",
       "      <td>V.SOG.act.kn^2</td>\n",
       "      <td>9.316636</td>\n",
       "    </tr>\n",
       "    <tr>\n",
       "      <th>68</th>\n",
       "      <td>V.SOG.act.kn V.SLPOG.act.PRC</td>\n",
       "      <td>14.235982</td>\n",
       "    </tr>\n",
       "  </tbody>\n",
       "</table>\n",
       "<p>153 rows × 2 columns</p>\n",
       "</div>"
      ],
      "text/plain": [
       "                                              features       coef\n",
       "10                                     V.SLPOG.act.PRC  -9.796682\n",
       "11                                      DDM.TRIM.act.m  -8.106859\n",
       "107  V.GPSLON.act.deg passage_type_SouthAmerica>13.5kn  -5.890748\n",
       "6                                     V.GPSLAT.act.deg  -5.330560\n",
       "152                 passage_type_SouthAmerica>13.5kn^2  -4.425414\n",
       "..                                                 ...        ...\n",
       "97   V.GPSLAT.act.deg passage_type_SouthAmerica>13.5kn   3.673905\n",
       "69                         V.SOG.act.kn DDM.TRIM.act.m   3.904885\n",
       "96         V.GPSLAT.act.deg passage_type_Europe>13.5kn   5.643671\n",
       "62                                      V.SOG.act.kn^2   9.316636\n",
       "68                        V.SOG.act.kn V.SLPOG.act.PRC  14.235982\n",
       "\n",
       "[153 rows x 2 columns]"
      ]
     },
     "execution_count": 30,
     "metadata": {},
     "output_type": "execute_result"
    }
   ],
   "source": [
    "df_coef = pd.DataFrame({'features' : reg.steps[0][1].get_feature_names_out(), 'coef' : reg.steps[2][1].coef_})\n",
    "df_coef.sort_values('coef')"
   ]
  },
  {
   "cell_type": "code",
   "execution_count": 31,
   "metadata": {},
   "outputs": [
    {
     "data": {
      "text/html": [
       "<div>\n",
       "<style scoped>\n",
       "    .dataframe tbody tr th:only-of-type {\n",
       "        vertical-align: middle;\n",
       "    }\n",
       "\n",
       "    .dataframe tbody tr th {\n",
       "        vertical-align: top;\n",
       "    }\n",
       "\n",
       "    .dataframe thead th {\n",
       "        text-align: right;\n",
       "    }\n",
       "</style>\n",
       "<table border=\"1\" class=\"dataframe\">\n",
       "  <thead>\n",
       "    <tr style=\"text-align: right;\">\n",
       "      <th></th>\n",
       "      <th>features</th>\n",
       "      <th>coef</th>\n",
       "    </tr>\n",
       "  </thead>\n",
       "  <tbody>\n",
       "    <tr>\n",
       "      <th>10</th>\n",
       "      <td>V.SLPOG.act.PRC</td>\n",
       "      <td>-9.796682</td>\n",
       "    </tr>\n",
       "    <tr>\n",
       "      <th>11</th>\n",
       "      <td>DDM.TRIM.act.m</td>\n",
       "      <td>-8.106859</td>\n",
       "    </tr>\n",
       "    <tr>\n",
       "      <th>107</th>\n",
       "      <td>V.GPSLON.act.deg passage_type_SouthAmerica&gt;13.5kn</td>\n",
       "      <td>-5.890748</td>\n",
       "    </tr>\n",
       "    <tr>\n",
       "      <th>6</th>\n",
       "      <td>V.GPSLAT.act.deg</td>\n",
       "      <td>-5.330560</td>\n",
       "    </tr>\n",
       "    <tr>\n",
       "      <th>152</th>\n",
       "      <td>passage_type_SouthAmerica&gt;13.5kn^2</td>\n",
       "      <td>-4.425414</td>\n",
       "    </tr>\n",
       "    <tr>\n",
       "      <th>16</th>\n",
       "      <td>passage_type_SouthAmerica&gt;13.5kn</td>\n",
       "      <td>-4.425414</td>\n",
       "    </tr>\n",
       "    <tr>\n",
       "      <th>7</th>\n",
       "      <td>V.GPSLON.act.deg</td>\n",
       "      <td>-3.992711</td>\n",
       "    </tr>\n",
       "    <tr>\n",
       "      <th>98</th>\n",
       "      <td>V.GPSLON.act.deg^2</td>\n",
       "      <td>-3.436964</td>\n",
       "    </tr>\n",
       "    <tr>\n",
       "      <th>64</th>\n",
       "      <td>V.SOG.act.kn V.GPSLAT.act.deg</td>\n",
       "      <td>-3.065370</td>\n",
       "    </tr>\n",
       "    <tr>\n",
       "      <th>4</th>\n",
       "      <td>V.SOG.act.kn</td>\n",
       "      <td>-3.064900</td>\n",
       "    </tr>\n",
       "    <tr>\n",
       "      <th>17</th>\n",
       "      <td>ME.FTS.act.dgC^2</td>\n",
       "      <td>-2.483997</td>\n",
       "    </tr>\n",
       "    <tr>\n",
       "      <th>130</th>\n",
       "      <td>V.SLPOG.act.PRC passage_type_Europe&gt;13.5kn</td>\n",
       "      <td>-1.973106</td>\n",
       "    </tr>\n",
       "    <tr>\n",
       "      <th>15</th>\n",
       "      <td>passage_type_Europe&gt;13.5kn</td>\n",
       "      <td>-1.710584</td>\n",
       "    </tr>\n",
       "    <tr>\n",
       "      <th>150</th>\n",
       "      <td>passage_type_Europe&gt;13.5kn^2</td>\n",
       "      <td>-1.710584</td>\n",
       "    </tr>\n",
       "    <tr>\n",
       "      <th>63</th>\n",
       "      <td>V.SOG.act.kn V.RUA.act.deg</td>\n",
       "      <td>-1.576883</td>\n",
       "    </tr>\n",
       "    <tr>\n",
       "      <th>12</th>\n",
       "      <td>DDM.DRAFT.act.m</td>\n",
       "      <td>-1.569976</td>\n",
       "    </tr>\n",
       "    <tr>\n",
       "      <th>13</th>\n",
       "      <td>Wave_Height_m_daily</td>\n",
       "      <td>-1.552230</td>\n",
       "    </tr>\n",
       "    <tr>\n",
       "      <th>73</th>\n",
       "      <td>V.SOG.act.kn passage_type_Europe&gt;13.5kn</td>\n",
       "      <td>-1.303973</td>\n",
       "    </tr>\n",
       "    <tr>\n",
       "      <th>35</th>\n",
       "      <td>HFO.GME.act.nodim V.SOG.act.kn</td>\n",
       "      <td>-1.285981</td>\n",
       "    </tr>\n",
       "    <tr>\n",
       "      <th>24</th>\n",
       "      <td>ME.FTS.act.dgC WEA.WDT.act.deg</td>\n",
       "      <td>-1.113965</td>\n",
       "    </tr>\n",
       "  </tbody>\n",
       "</table>\n",
       "</div>"
      ],
      "text/plain": [
       "                                              features      coef\n",
       "10                                     V.SLPOG.act.PRC -9.796682\n",
       "11                                      DDM.TRIM.act.m -8.106859\n",
       "107  V.GPSLON.act.deg passage_type_SouthAmerica>13.5kn -5.890748\n",
       "6                                     V.GPSLAT.act.deg -5.330560\n",
       "152                 passage_type_SouthAmerica>13.5kn^2 -4.425414\n",
       "16                    passage_type_SouthAmerica>13.5kn -4.425414\n",
       "7                                     V.GPSLON.act.deg -3.992711\n",
       "98                                  V.GPSLON.act.deg^2 -3.436964\n",
       "64                       V.SOG.act.kn V.GPSLAT.act.deg -3.065370\n",
       "4                                         V.SOG.act.kn -3.064900\n",
       "17                                    ME.FTS.act.dgC^2 -2.483997\n",
       "130         V.SLPOG.act.PRC passage_type_Europe>13.5kn -1.973106\n",
       "15                          passage_type_Europe>13.5kn -1.710584\n",
       "150                       passage_type_Europe>13.5kn^2 -1.710584\n",
       "63                          V.SOG.act.kn V.RUA.act.deg -1.576883\n",
       "12                                     DDM.DRAFT.act.m -1.569976\n",
       "13                                 Wave_Height_m_daily -1.552230\n",
       "73             V.SOG.act.kn passage_type_Europe>13.5kn -1.303973\n",
       "35                      HFO.GME.act.nodim V.SOG.act.kn -1.285981\n",
       "24                      ME.FTS.act.dgC WEA.WDT.act.deg -1.113965"
      ]
     },
     "execution_count": 31,
     "metadata": {},
     "output_type": "execute_result"
    }
   ],
   "source": [
    "df_coef.sort_values('coef').head(20)"
   ]
  },
  {
   "cell_type": "markdown",
   "metadata": {},
   "source": [
    "## Error Analysis"
   ]
  },
  {
   "cell_type": "code",
   "execution_count": 32,
   "metadata": {},
   "outputs": [],
   "source": [
    "from yellowbrick.regressor import ResidualsPlot"
   ]
  },
  {
   "cell_type": "code",
   "execution_count": 33,
   "metadata": {},
   "outputs": [
    {
     "name": "stderr",
     "output_type": "stream",
     "text": [
      "/Users/patrickk/neuefische/capstone_ml_shipping/.venv/lib/python3.9/site-packages/sklearn/base.py:441: UserWarning: X does not have valid feature names, but PolynomialFeatures was fitted with feature names\n",
      "  warnings.warn(\n"
     ]
    },
    {
     "data": {
      "image/png": "[encoded data removed]",
      "text/plain": [
       "<Figure size 576x396 with 2 Axes>"
      ]
     },
     "metadata": {},
     "output_type": "display_data"
    },
    {
     "data": {
      "text/plain": [
       "<AxesSubplot:title={'center':'Residuals for LinearRegression Model'}, xlabel='Predicted Value', ylabel='Residuals'>"
      ]
     },
     "execution_count": 33,
     "metadata": {},
     "output_type": "execute_result"
    }
   ],
   "source": [
    "visualizer = ResidualsPlot(reg)\n",
    "\n",
    "visualizer.fit(X_train, y_train)  # Fit the training data to the visualizer\n",
    "visualizer.score(X_test, y_test)  # Evaluate the model on the test data\n",
    "visualizer.show() "
   ]
  },
  {
   "cell_type": "code",
   "execution_count": 34,
   "metadata": {},
   "outputs": [],
   "source": [
    "residuals_test = y_pred - y_test\n",
    "residuals_train = y_pred_train - y_train"
   ]
  },
  {
   "cell_type": "code",
   "execution_count": 35,
   "metadata": {},
   "outputs": [
    {
     "data": {
      "text/plain": [
       "<matplotlib.legend.Legend at 0x133921400>"
      ]
     },
     "execution_count": 35,
     "metadata": {},
     "output_type": "execute_result"
    },
    {
     "data": {
      "image/png": "[encoded data removed]",
      "text/plain": [
       "<Figure size 576x396 with 1 Axes>"
      ]
     },
     "metadata": {},
     "output_type": "display_data"
    }
   ],
   "source": [
    "sns.scatterplot(x = y_pred_train, y = residuals_train)\n",
    "sns.scatterplot(x = y_pred, y = residuals_test)\n",
    "plt.axhline(y = 0, color = 'black')\n",
    "plt.xlabel(\"ME.FMS.act.tPh predicted\");\n",
    "plt.ylabel(\"Residuals\");\n",
    "plt.legend(labels=['', 'train', 'test'])"
   ]
  },
  {
   "cell_type": "markdown",
   "metadata": {},
   "source": [
    "## Understanding what happens when the t/h is 0 but values are getting predicted"
   ]
  },
  {
   "cell_type": "code",
   "execution_count": 36,
   "metadata": {},
   "outputs": [],
   "source": [
    "X_train_actzeros = X_train.copy()\n",
    "X_train_actzeros['actual'] = y_train\n",
    "X_train_actzeros['predict'] = y_pred_train"
   ]
  },
  {
   "cell_type": "code",
   "execution_count": 37,
   "metadata": {},
   "outputs": [
    {
     "data": {
      "text/html": [
       "<div>\n",
       "<style scoped>\n",
       "    .dataframe tbody tr th:only-of-type {\n",
       "        vertical-align: middle;\n",
       "    }\n",
       "\n",
       "    .dataframe tbody tr th {\n",
       "        vertical-align: top;\n",
       "    }\n",
       "\n",
       "    .dataframe thead th {\n",
       "        text-align: right;\n",
       "    }\n",
       "</style>\n",
       "<table border=\"1\" class=\"dataframe\">\n",
       "  <thead>\n",
       "    <tr style=\"text-align: right;\">\n",
       "      <th></th>\n",
       "      <th>ME.FTS.act.dgC</th>\n",
       "      <th>HFO.GME.act.nodim</th>\n",
       "      <th>V.COG.act.deg</th>\n",
       "      <th>V.SOG.act.kn</th>\n",
       "      <th>V.RUA.act.deg</th>\n",
       "      <th>V.GPSLAT.act.deg</th>\n",
       "      <th>V.GPSLON.act.deg</th>\n",
       "      <th>WEA.WDT.act.deg</th>\n",
       "      <th>WEA.WST.act.mPs</th>\n",
       "      <th>V.SLPOG.act.PRC</th>\n",
       "      <th>DDM.TRIM.act.m</th>\n",
       "      <th>DDM.DRAFT.act.m</th>\n",
       "      <th>Wave_Height_m_daily</th>\n",
       "      <th>True_Wave_Dir_deg_daily</th>\n",
       "      <th>passage_type_Europe&gt;13.5kn</th>\n",
       "      <th>passage_type_SouthAmerica&gt;13.5kn</th>\n",
       "      <th>actual</th>\n",
       "      <th>predict</th>\n",
       "    </tr>\n",
       "  </thead>\n",
       "  <tbody>\n",
       "    <tr>\n",
       "      <th>185294</th>\n",
       "      <td>64.161621</td>\n",
       "      <td>0.0</td>\n",
       "      <td>81.800003</td>\n",
       "      <td>15.515</td>\n",
       "      <td>5.3</td>\n",
       "      <td>51.417149</td>\n",
       "      <td>3.495315</td>\n",
       "      <td>19.060120</td>\n",
       "      <td>11.046195</td>\n",
       "      <td>-38.684681</td>\n",
       "      <td>0.9960</td>\n",
       "      <td>-0.1164</td>\n",
       "      <td>0.2</td>\n",
       "      <td>109.0</td>\n",
       "      <td>1</td>\n",
       "      <td>0</td>\n",
       "      <td>0.0</td>\n",
       "      <td>0.290692</td>\n",
       "    </tr>\n",
       "    <tr>\n",
       "      <th>29492</th>\n",
       "      <td>77.086243</td>\n",
       "      <td>1.0</td>\n",
       "      <td>227.300003</td>\n",
       "      <td>18.368</td>\n",
       "      <td>1.6</td>\n",
       "      <td>25.041651</td>\n",
       "      <td>-60.771141</td>\n",
       "      <td>98.935608</td>\n",
       "      <td>6.801482</td>\n",
       "      <td>8.165892</td>\n",
       "      <td>1.5514</td>\n",
       "      <td>-0.0193</td>\n",
       "      <td>1.0</td>\n",
       "      <td>187.0</td>\n",
       "      <td>0</td>\n",
       "      <td>0</td>\n",
       "      <td>0.0</td>\n",
       "      <td>3.572080</td>\n",
       "    </tr>\n",
       "    <tr>\n",
       "      <th>180037</th>\n",
       "      <td>64.011566</td>\n",
       "      <td>0.0</td>\n",
       "      <td>25.000000</td>\n",
       "      <td>13.900</td>\n",
       "      <td>-13.3</td>\n",
       "      <td>51.828247</td>\n",
       "      <td>1.565171</td>\n",
       "      <td>65.450356</td>\n",
       "      <td>6.185137</td>\n",
       "      <td>-45.913124</td>\n",
       "      <td>1.0220</td>\n",
       "      <td>0.0341</td>\n",
       "      <td>1.5</td>\n",
       "      <td>279.0</td>\n",
       "      <td>1</td>\n",
       "      <td>0</td>\n",
       "      <td>0.0</td>\n",
       "      <td>0.582955</td>\n",
       "    </tr>\n",
       "    <tr>\n",
       "      <th>94524</th>\n",
       "      <td>58.627563</td>\n",
       "      <td>0.0</td>\n",
       "      <td>283.100006</td>\n",
       "      <td>13.518</td>\n",
       "      <td>11.8</td>\n",
       "      <td>53.994736</td>\n",
       "      <td>8.317142</td>\n",
       "      <td>181.384155</td>\n",
       "      <td>13.720582</td>\n",
       "      <td>-30.187052</td>\n",
       "      <td>1.5672</td>\n",
       "      <td>-4.4470</td>\n",
       "      <td>3.5</td>\n",
       "      <td>29.0</td>\n",
       "      <td>1</td>\n",
       "      <td>0</td>\n",
       "      <td>0.0</td>\n",
       "      <td>0.553087</td>\n",
       "    </tr>\n",
       "    <tr>\n",
       "      <th>66034</th>\n",
       "      <td>63.281647</td>\n",
       "      <td>0.0</td>\n",
       "      <td>323.600006</td>\n",
       "      <td>13.719</td>\n",
       "      <td>1.2</td>\n",
       "      <td>8.769071</td>\n",
       "      <td>-79.428337</td>\n",
       "      <td>281.225464</td>\n",
       "      <td>4.945259</td>\n",
       "      <td>-1.625358</td>\n",
       "      <td>0.4230</td>\n",
       "      <td>-0.0436</td>\n",
       "      <td>0.2</td>\n",
       "      <td>99.0</td>\n",
       "      <td>0</td>\n",
       "      <td>1</td>\n",
       "      <td>0.0</td>\n",
       "      <td>1.013363</td>\n",
       "    </tr>\n",
       "    <tr>\n",
       "      <th>61846</th>\n",
       "      <td>70.470398</td>\n",
       "      <td>1.0</td>\n",
       "      <td>31.299999</td>\n",
       "      <td>14.286</td>\n",
       "      <td>0.5</td>\n",
       "      <td>-2.952412</td>\n",
       "      <td>-80.531250</td>\n",
       "      <td>231.296967</td>\n",
       "      <td>8.765638</td>\n",
       "      <td>-18.084476</td>\n",
       "      <td>-0.1276</td>\n",
       "      <td>-0.2500</td>\n",
       "      <td>0.5</td>\n",
       "      <td>69.0</td>\n",
       "      <td>0</td>\n",
       "      <td>1</td>\n",
       "      <td>0.0</td>\n",
       "      <td>0.518651</td>\n",
       "    </tr>\n",
       "    <tr>\n",
       "      <th>151470</th>\n",
       "      <td>71.846619</td>\n",
       "      <td>1.0</td>\n",
       "      <td>47.599998</td>\n",
       "      <td>13.806</td>\n",
       "      <td>-10.4</td>\n",
       "      <td>-2.786318</td>\n",
       "      <td>-80.255806</td>\n",
       "      <td>272.338776</td>\n",
       "      <td>4.740757</td>\n",
       "      <td>-44.068378</td>\n",
       "      <td>-0.8110</td>\n",
       "      <td>-0.0068</td>\n",
       "      <td>2.0</td>\n",
       "      <td>19.0</td>\n",
       "      <td>0</td>\n",
       "      <td>1</td>\n",
       "      <td>0.0</td>\n",
       "      <td>0.447929</td>\n",
       "    </tr>\n",
       "  </tbody>\n",
       "</table>\n",
       "</div>"
      ],
      "text/plain": [
       "        ME.FTS.act.dgC  HFO.GME.act.nodim  V.COG.act.deg  V.SOG.act.kn  \\\n",
       "185294       64.161621                0.0      81.800003        15.515   \n",
       "29492        77.086243                1.0     227.300003        18.368   \n",
       "180037       64.011566                0.0      25.000000        13.900   \n",
       "94524        58.627563                0.0     283.100006        13.518   \n",
       "66034        63.281647                0.0     323.600006        13.719   \n",
       "61846        70.470398                1.0      31.299999        14.286   \n",
       "151470       71.846619                1.0      47.599998        13.806   \n",
       "\n",
       "        V.RUA.act.deg  V.GPSLAT.act.deg  V.GPSLON.act.deg  WEA.WDT.act.deg  \\\n",
       "185294            5.3         51.417149          3.495315        19.060120   \n",
       "29492             1.6         25.041651        -60.771141        98.935608   \n",
       "180037          -13.3         51.828247          1.565171        65.450356   \n",
       "94524            11.8         53.994736          8.317142       181.384155   \n",
       "66034             1.2          8.769071        -79.428337       281.225464   \n",
       "61846             0.5         -2.952412        -80.531250       231.296967   \n",
       "151470          -10.4         -2.786318        -80.255806       272.338776   \n",
       "\n",
       "        WEA.WST.act.mPs  V.SLPOG.act.PRC  DDM.TRIM.act.m  DDM.DRAFT.act.m  \\\n",
       "185294        11.046195       -38.684681          0.9960          -0.1164   \n",
       "29492          6.801482         8.165892          1.5514          -0.0193   \n",
       "180037         6.185137       -45.913124          1.0220           0.0341   \n",
       "94524         13.720582       -30.187052          1.5672          -4.4470   \n",
       "66034          4.945259        -1.625358          0.4230          -0.0436   \n",
       "61846          8.765638       -18.084476         -0.1276          -0.2500   \n",
       "151470         4.740757       -44.068378         -0.8110          -0.0068   \n",
       "\n",
       "        Wave_Height_m_daily  True_Wave_Dir_deg_daily  \\\n",
       "185294                  0.2                    109.0   \n",
       "29492                   1.0                    187.0   \n",
       "180037                  1.5                    279.0   \n",
       "94524                   3.5                     29.0   \n",
       "66034                   0.2                     99.0   \n",
       "61846                   0.5                     69.0   \n",
       "151470                  2.0                     19.0   \n",
       "\n",
       "        passage_type_Europe>13.5kn  passage_type_SouthAmerica>13.5kn  actual  \\\n",
       "185294                           1                                 0     0.0   \n",
       "29492                            0                                 0     0.0   \n",
       "180037                           1                                 0     0.0   \n",
       "94524                            1                                 0     0.0   \n",
       "66034                            0                                 1     0.0   \n",
       "61846                            0                                 1     0.0   \n",
       "151470                           0                                 1     0.0   \n",
       "\n",
       "         predict  \n",
       "185294  0.290692  \n",
       "29492   3.572080  \n",
       "180037  0.582955  \n",
       "94524   0.553087  \n",
       "66034   1.013363  \n",
       "61846   0.518651  \n",
       "151470  0.447929  "
      ]
     },
     "execution_count": 37,
     "metadata": {},
     "output_type": "execute_result"
    }
   ],
   "source": [
    "X_train_actzeros = X_train_actzeros[X_train_actzeros['actual'] == 0]\n",
    "X_train_actzeros = X_train_actzeros[X_train_actzeros['predict'] > 0.1]\n",
    "X_train_actzeros"
   ]
  },
  {
   "cell_type": "code",
   "execution_count": 38,
   "metadata": {},
   "outputs": [],
   "source": [
    "import plotly.express as px"
   ]
  },
  {
   "cell_type": "code",
   "execution_count": 39,
   "metadata": {},
   "outputs": [
    {
     "data": {
      "application/vnd.plotly.v1+json": {
       "config": {
        "plotlyServerURL": "https://plot.ly"
       },
       "data": [
        {
         "customdata": [
          [
           5.300000190734863
          ],
          [
           1.600000023841858
          ],
          [
           -13.300000190734863
          ],
          [
           11.800000190734863
          ],
          [
           1.2000000476837158
          ],
          [
           0.5
          ],
          [
           -10.399999618530272
          ]
         ],
         "hovertemplate": "V.SOG.act.kn=%{x}<br>predict=%{marker.color}<br>V.RUA.act.deg=%{customdata[0]}<extra></extra>",
         "legendgroup": "",
         "marker": {
          "color": [
           0.2906924374212796,
           3.5720798831707476,
           0.5829552337470219,
           0.5530866505437793,
           1.013363162154807,
           0.5186507676740568,
           0.44792901387952
          ],
          "coloraxis": "coloraxis",
          "symbol": "circle"
         },
         "mode": "markers",
         "name": "",
         "orientation": "v",
         "showlegend": false,
         "type": "scatter",
         "x": [
          15.515000343322754,
          18.36800003051757,
          13.899999618530272,
          13.517999649047852,
          13.718999862670898,
          14.28600025177002,
          13.805999755859377
         ],
         "xaxis": "x",
         "y": [
          0.2906924374212796,
          3.5720798831707476,
          0.5829552337470219,
          0.5530866505437793,
          1.013363162154807,
          0.5186507676740568,
          0.44792901387952
         ],
         "yaxis": "y"
        }
       ],
       "layout": {
        "coloraxis": {
         "colorbar": {
          "title": {
           "text": "predict"
          }
         },
         "colorscale": [
          [
           0,
           "#0d0887"
          ],
          [
           0.1111111111111111,
           "#46039f"
          ],
          [
           0.2222222222222222,
           "#7201a8"
          ],
          [
           0.3333333333333333,
           "#9c179e"
          ],
          [
           0.4444444444444444,
           "#bd3786"
          ],
          [
           0.5555555555555556,
           "#d8576b"
          ],
          [
           0.6666666666666666,
           "#ed7953"
          ],
          [
           0.7777777777777778,
           "#fb9f3a"
          ],
          [
           0.8888888888888888,
           "#fdca26"
          ],
          [
           1,
           "#f0f921"
          ]
         ]
        },
        "legend": {
         "tracegroupgap": 0
        },
        "margin": {
         "t": 60
        },
        "template": {
         "data": {
          "bar": [
           {
            "error_x": {
             "color": "#2a3f5f"
            },
            "error_y": {
             "color": "#2a3f5f"
            },
            "marker": {
             "line": {
              "color": "#E5ECF6",
              "width": 0.5
             }
            },
            "type": "bar"
           }
          ],
          "barpolar": [
           {
            "marker": {
             "line": {
              "color": "#E5ECF6",
              "width": 0.5
             }
            },
            "type": "barpolar"
           }
          ],
          "carpet": [
           {
            "aaxis": {
             "endlinecolor": "#2a3f5f",
             "gridcolor": "white",
             "linecolor": "white",
             "minorgridcolor": "white",
             "startlinecolor": "#2a3f5f"
            },
            "baxis": {
             "endlinecolor": "#2a3f5f",
             "gridcolor": "white",
             "linecolor": "white",
             "minorgridcolor": "white",
             "startlinecolor": "#2a3f5f"
            },
            "type": "carpet"
           }
          ],
          "choropleth": [
           {
            "colorbar": {
             "outlinewidth": 0,
             "ticks": ""
            },
            "type": "choropleth"
           }
          ],
          "contour": [
           {
            "colorbar": {
             "outlinewidth": 0,
             "ticks": ""
            },
            "colorscale": [
             [
              0,
              "#0d0887"
             ],
             [
              0.1111111111111111,
              "#46039f"
             ],
             [
              0.2222222222222222,
              "#7201a8"
             ],
             [
              0.3333333333333333,
              "#9c179e"
             ],
             [
              0.4444444444444444,
              "#bd3786"
             ],
             [
              0.5555555555555556,
              "#d8576b"
             ],
             [
              0.6666666666666666,
              "#ed7953"
             ],
             [
              0.7777777777777778,
              "#fb9f3a"
             ],
             [
              0.8888888888888888,
              "#fdca26"
             ],
             [
              1,
              "#f0f921"
             ]
            ],
            "type": "contour"
           }
          ],
          "contourcarpet": [
           {
            "colorbar": {
             "outlinewidth": 0,
             "ticks": ""
            },
            "type": "contourcarpet"
           }
          ],
          "heatmap": [
           {
            "colorbar": {
             "outlinewidth": 0,
             "ticks": ""
            },
            "colorscale": [
             [
              0,
              "#0d0887"
             ],
             [
              0.1111111111111111,
              "#46039f"
             ],
             [
              0.2222222222222222,
              "#7201a8"
             ],
             [
              0.3333333333333333,
              "#9c179e"
             ],
             [
              0.4444444444444444,
              "#bd3786"
             ],
             [
              0.5555555555555556,
              "#d8576b"
             ],
             [
              0.6666666666666666,
              "#ed7953"
             ],
             [
              0.7777777777777778,
              "#fb9f3a"
             ],
             [
              0.8888888888888888,
              "#fdca26"
             ],
             [
              1,
              "#f0f921"
             ]
            ],
            "type": "heatmap"
           }
          ],
          "heatmapgl": [
           {
            "colorbar": {
             "outlinewidth": 0,
             "ticks": ""
            },
            "colorscale": [
             [
              0,
              "#0d0887"
             ],
             [
              0.1111111111111111,
              "#46039f"
             ],
             [
              0.2222222222222222,
              "#7201a8"
             ],
             [
              0.3333333333333333,
              "#9c179e"
             ],
             [
              0.4444444444444444,
              "#bd3786"
             ],
             [
              0.5555555555555556,
              "#d8576b"
             ],
             [
              0.6666666666666666,
              "#ed7953"
             ],
             [
              0.7777777777777778,
              "#fb9f3a"
             ],
             [
              0.8888888888888888,
              "#fdca26"
             ],
             [
              1,
              "#f0f921"
             ]
            ],
            "type": "heatmapgl"
           }
          ],
          "histogram": [
           {
            "marker": {
             "colorbar": {
              "outlinewidth": 0,
              "ticks": ""
             }
            },
            "type": "histogram"
           }
          ],
          "histogram2d": [
           {
            "colorbar": {
             "outlinewidth": 0,
             "ticks": ""
            },
            "colorscale": [
             [
              0,
              "#0d0887"
             ],
             [
              0.1111111111111111,
              "#46039f"
             ],
             [
              0.2222222222222222,
              "#7201a8"
             ],
             [
              0.3333333333333333,
              "#9c179e"
             ],
             [
              0.4444444444444444,
              "#bd3786"
             ],
             [
              0.5555555555555556,
              "#d8576b"
             ],
             [
              0.6666666666666666,
              "#ed7953"
             ],
             [
              0.7777777777777778,
              "#fb9f3a"
             ],
             [
              0.8888888888888888,
              "#fdca26"
             ],
             [
              1,
              "#f0f921"
             ]
            ],
            "type": "histogram2d"
           }
          ],
          "histogram2dcontour": [
           {
            "colorbar": {
             "outlinewidth": 0,
             "ticks": ""
            },
            "colorscale": [
             [
              0,
              "#0d0887"
             ],
             [
              0.1111111111111111,
              "#46039f"
             ],
             [
              0.2222222222222222,
              "#7201a8"
             ],
             [
              0.3333333333333333,
              "#9c179e"
             ],
             [
              0.4444444444444444,
              "#bd3786"
             ],
             [
              0.5555555555555556,
              "#d8576b"
             ],
             [
              0.6666666666666666,
              "#ed7953"
             ],
             [
              0.7777777777777778,
              "#fb9f3a"
             ],
             [
              0.8888888888888888,
              "#fdca26"
             ],
             [
              1,
              "#f0f921"
             ]
            ],
            "type": "histogram2dcontour"
           }
          ],
          "mesh3d": [
           {
            "colorbar": {
             "outlinewidth": 0,
             "ticks": ""
            },
            "type": "mesh3d"
           }
          ],
          "parcoords": [
           {
            "line": {
             "colorbar": {
              "outlinewidth": 0,
              "ticks": ""
             }
            },
            "type": "parcoords"
           }
          ],
          "pie": [
           {
            "automargin": true,
            "type": "pie"
           }
          ],
          "scatter": [
           {
            "marker": {
             "colorbar": {
              "outlinewidth": 0,
              "ticks": ""
             }
            },
            "type": "scatter"
           }
          ],
          "scatter3d": [
           {
            "line": {
             "colorbar": {
              "outlinewidth": 0,
              "ticks": ""
             }
            },
            "marker": {
             "colorbar": {
              "outlinewidth": 0,
              "ticks": ""
             }
            },
            "type": "scatter3d"
           }
          ],
          "scattercarpet": [
           {
            "marker": {
             "colorbar": {
              "outlinewidth": 0,
              "ticks": ""
             }
            },
            "type": "scattercarpet"
           }
          ],
          "scattergeo": [
           {
            "marker": {
             "colorbar": {
              "outlinewidth": 0,
              "ticks": ""
             }
            },
            "type": "scattergeo"
           }
          ],
          "scattergl": [
           {
            "marker": {
             "colorbar": {
              "outlinewidth": 0,
              "ticks": ""
             }
            },
            "type": "scattergl"
           }
          ],
          "scattermapbox": [
           {
            "marker": {
             "colorbar": {
              "outlinewidth": 0,
              "ticks": ""
             }
            },
            "type": "scattermapbox"
           }
          ],
          "scatterpolar": [
           {
            "marker": {
             "colorbar": {
              "outlinewidth": 0,
              "ticks": ""
             }
            },
            "type": "scatterpolar"
           }
          ],
          "scatterpolargl": [
           {
            "marker": {
             "colorbar": {
              "outlinewidth": 0,
              "ticks": ""
             }
            },
            "type": "scatterpolargl"
           }
          ],
          "scatterternary": [
           {
            "marker": {
             "colorbar": {
              "outlinewidth": 0,
              "ticks": ""
             }
            },
            "type": "scatterternary"
           }
          ],
          "surface": [
           {
            "colorbar": {
             "outlinewidth": 0,
             "ticks": ""
            },
            "colorscale": [
             [
              0,
              "#0d0887"
             ],
             [
              0.1111111111111111,
              "#46039f"
             ],
             [
              0.2222222222222222,
              "#7201a8"
             ],
             [
              0.3333333333333333,
              "#9c179e"
             ],
             [
              0.4444444444444444,
              "#bd3786"
             ],
             [
              0.5555555555555556,
              "#d8576b"
             ],
             [
              0.6666666666666666,
              "#ed7953"
             ],
             [
              0.7777777777777778,
              "#fb9f3a"
             ],
             [
              0.8888888888888888,
              "#fdca26"
             ],
             [
              1,
              "#f0f921"
             ]
            ],
            "type": "surface"
           }
          ],
          "table": [
           {
            "cells": {
             "fill": {
              "color": "#EBF0F8"
             },
             "line": {
              "color": "white"
             }
            },
            "header": {
             "fill": {
              "color": "#C8D4E3"
             },
             "line": {
              "color": "white"
             }
            },
            "type": "table"
           }
          ]
         },
         "layout": {
          "annotationdefaults": {
           "arrowcolor": "#2a3f5f",
           "arrowhead": 0,
           "arrowwidth": 1
          },
          "autotypenumbers": "strict",
          "coloraxis": {
           "colorbar": {
            "outlinewidth": 0,
            "ticks": ""
           }
          },
          "colorscale": {
           "diverging": [
            [
             0,
             "#8e0152"
            ],
            [
             0.1,
             "#c51b7d"
            ],
            [
             0.2,
             "#de77ae"
            ],
            [
             0.3,
             "#f1b6da"
            ],
            [
             0.4,
             "#fde0ef"
            ],
            [
             0.5,
             "#f7f7f7"
            ],
            [
             0.6,
             "#e6f5d0"
            ],
            [
             0.7,
             "#b8e186"
            ],
            [
             0.8,
             "#7fbc41"
            ],
            [
             0.9,
             "#4d9221"
            ],
            [
             1,
             "#276419"
            ]
           ],
           "sequential": [
            [
             0,
             "#0d0887"
            ],
            [
             0.1111111111111111,
             "#46039f"
            ],
            [
             0.2222222222222222,
             "#7201a8"
            ],
            [
             0.3333333333333333,
             "#9c179e"
            ],
            [
             0.4444444444444444,
             "#bd3786"
            ],
            [
             0.5555555555555556,
             "#d8576b"
            ],
            [
             0.6666666666666666,
             "#ed7953"
            ],
            [
             0.7777777777777778,
             "#fb9f3a"
            ],
            [
             0.8888888888888888,
             "#fdca26"
            ],
            [
             1,
             "#f0f921"
            ]
           ],
           "sequentialminus": [
            [
             0,
             "#0d0887"
            ],
            [
             0.1111111111111111,
             "#46039f"
            ],
            [
             0.2222222222222222,
             "#7201a8"
            ],
            [
             0.3333333333333333,
             "#9c179e"
            ],
            [
             0.4444444444444444,
             "#bd3786"
            ],
            [
             0.5555555555555556,
             "#d8576b"
            ],
            [
             0.6666666666666666,
             "#ed7953"
            ],
            [
             0.7777777777777778,
             "#fb9f3a"
            ],
            [
             0.8888888888888888,
             "#fdca26"
            ],
            [
             1,
             "#f0f921"
            ]
           ]
          },
          "colorway": [
           "#636efa",
           "#EF553B",
           "#00cc96",
           "#ab63fa",
           "#FFA15A",
           "#19d3f3",
           "#FF6692",
           "#B6E880",
           "#FF97FF",
           "#FECB52"
          ],
          "font": {
           "color": "#2a3f5f"
          },
          "geo": {
           "bgcolor": "white",
           "lakecolor": "white",
           "landcolor": "#E5ECF6",
           "showlakes": true,
           "showland": true,
           "subunitcolor": "white"
          },
          "hoverlabel": {
           "align": "left"
          },
          "hovermode": "closest",
          "mapbox": {
           "style": "light"
          },
          "paper_bgcolor": "white",
          "plot_bgcolor": "#E5ECF6",
          "polar": {
           "angularaxis": {
            "gridcolor": "white",
            "linecolor": "white",
            "ticks": ""
           },
           "bgcolor": "#E5ECF6",
           "radialaxis": {
            "gridcolor": "white",
            "linecolor": "white",
            "ticks": ""
           }
          },
          "scene": {
           "xaxis": {
            "backgroundcolor": "#E5ECF6",
            "gridcolor": "white",
            "gridwidth": 2,
            "linecolor": "white",
            "showbackground": true,
            "ticks": "",
            "zerolinecolor": "white"
           },
           "yaxis": {
            "backgroundcolor": "#E5ECF6",
            "gridcolor": "white",
            "gridwidth": 2,
            "linecolor": "white",
            "showbackground": true,
            "ticks": "",
            "zerolinecolor": "white"
           },
           "zaxis": {
            "backgroundcolor": "#E5ECF6",
            "gridcolor": "white",
            "gridwidth": 2,
            "linecolor": "white",
            "showbackground": true,
            "ticks": "",
            "zerolinecolor": "white"
           }
          },
          "shapedefaults": {
           "line": {
            "color": "#2a3f5f"
           }
          },
          "ternary": {
           "aaxis": {
            "gridcolor": "white",
            "linecolor": "white",
            "ticks": ""
           },
           "baxis": {
            "gridcolor": "white",
            "linecolor": "white",
            "ticks": ""
           },
           "bgcolor": "#E5ECF6",
           "caxis": {
            "gridcolor": "white",
            "linecolor": "white",
            "ticks": ""
           }
          },
          "title": {
           "x": 0.05
          },
          "xaxis": {
           "automargin": true,
           "gridcolor": "white",
           "linecolor": "white",
           "ticks": "",
           "title": {
            "standoff": 15
           },
           "zerolinecolor": "white",
           "zerolinewidth": 2
          },
          "yaxis": {
           "automargin": true,
           "gridcolor": "white",
           "linecolor": "white",
           "ticks": "",
           "title": {
            "standoff": 15
           },
           "zerolinecolor": "white",
           "zerolinewidth": 2
          }
         }
        },
        "xaxis": {
         "anchor": "y",
         "domain": [
          0,
          1
         ],
         "title": {
          "text": "V.SOG.act.kn"
         }
        },
        "yaxis": {
         "anchor": "x",
         "domain": [
          0,
          1
         ],
         "title": {
          "text": "predict"
         }
        }
       }
      }
     },
     "metadata": {},
     "output_type": "display_data"
    }
   ],
   "source": [
    "px.scatter(X_train_actzeros, x='V.SOG.act.kn',\n",
    "            y='predict',\n",
    "            color='predict',\n",
    "            hover_data=['V.RUA.act.deg'],\n",
    "            labels={'x':'V.SOG.act.kn','y':'predict','color':'V.RUA.act.deg'})"
   ]
  },
  {
   "cell_type": "code",
   "execution_count": 40,
   "metadata": {},
   "outputs": [
    {
     "data": {
      "application/vnd.plotly.v1+json": {
       "config": {
        "plotlyServerURL": "https://plot.ly"
       },
       "data": [
        {
         "customdata": [
          [
           5.300000190734863
          ],
          [
           1.600000023841858
          ],
          [
           -13.300000190734863
          ],
          [
           11.800000190734863
          ],
          [
           1.2000000476837158
          ],
          [
           0.5
          ],
          [
           -10.399999618530272
          ]
         ],
         "hovertemplate": "V.SLPOG.act.PRC=%{x}<br>predict=%{marker.color}<br>V.RUA.act.deg=%{customdata[0]}<extra></extra>",
         "legendgroup": "",
         "marker": {
          "color": [
           0.2906924374212796,
           3.5720798831707476,
           0.5829552337470219,
           0.5530866505437793,
           1.013363162154807,
           0.5186507676740568,
           0.44792901387952
          ],
          "coloraxis": "coloraxis",
          "symbol": "circle"
         },
         "mode": "markers",
         "name": "",
         "orientation": "v",
         "showlegend": false,
         "type": "scatter",
         "x": [
          -38.6846809387207,
          8.165891647338867,
          -45.913124084472656,
          -30.18705177307129,
          -1.625357985496521,
          -18.084476470947266,
          -44.06837844848633
         ],
         "xaxis": "x",
         "y": [
          0.2906924374212796,
          3.5720798831707476,
          0.5829552337470219,
          0.5530866505437793,
          1.013363162154807,
          0.5186507676740568,
          0.44792901387952
         ],
         "yaxis": "y"
        }
       ],
       "layout": {
        "coloraxis": {
         "colorbar": {
          "title": {
           "text": "predict"
          }
         },
         "colorscale": [
          [
           0,
           "#0d0887"
          ],
          [
           0.1111111111111111,
           "#46039f"
          ],
          [
           0.2222222222222222,
           "#7201a8"
          ],
          [
           0.3333333333333333,
           "#9c179e"
          ],
          [
           0.4444444444444444,
           "#bd3786"
          ],
          [
           0.5555555555555556,
           "#d8576b"
          ],
          [
           0.6666666666666666,
           "#ed7953"
          ],
          [
           0.7777777777777778,
           "#fb9f3a"
          ],
          [
           0.8888888888888888,
           "#fdca26"
          ],
          [
           1,
           "#f0f921"
          ]
         ]
        },
        "legend": {
         "tracegroupgap": 0
        },
        "margin": {
         "t": 60
        },
        "template": {
         "data": {
          "bar": [
           {
            "error_x": {
             "color": "#2a3f5f"
            },
            "error_y": {
             "color": "#2a3f5f"
            },
            "marker": {
             "line": {
              "color": "#E5ECF6",
              "width": 0.5
             }
            },
            "type": "bar"
           }
          ],
          "barpolar": [
           {
            "marker": {
             "line": {
              "color": "#E5ECF6",
              "width": 0.5
             }
            },
            "type": "barpolar"
           }
          ],
          "carpet": [
           {
            "aaxis": {
             "endlinecolor": "#2a3f5f",
             "gridcolor": "white",
             "linecolor": "white",
             "minorgridcolor": "white",
             "startlinecolor": "#2a3f5f"
            },
            "baxis": {
             "endlinecolor": "#2a3f5f",
             "gridcolor": "white",
             "linecolor": "white",
             "minorgridcolor": "white",
             "startlinecolor": "#2a3f5f"
            },
            "type": "carpet"
           }
          ],
          "choropleth": [
           {
            "colorbar": {
             "outlinewidth": 0,
             "ticks": ""
            },
            "type": "choropleth"
           }
          ],
          "contour": [
           {
            "colorbar": {
             "outlinewidth": 0,
             "ticks": ""
            },
            "colorscale": [
             [
              0,
              "#0d0887"
             ],
             [
              0.1111111111111111,
              "#46039f"
             ],
             [
              0.2222222222222222,
              "#7201a8"
             ],
             [
              0.3333333333333333,
              "#9c179e"
             ],
             [
              0.4444444444444444,
              "#bd3786"
             ],
             [
              0.5555555555555556,
              "#d8576b"
             ],
             [
              0.6666666666666666,
              "#ed7953"
             ],
             [
              0.7777777777777778,
              "#fb9f3a"
             ],
             [
              0.8888888888888888,
              "#fdca26"
             ],
             [
              1,
              "#f0f921"
             ]
            ],
            "type": "contour"
           }
          ],
          "contourcarpet": [
           {
            "colorbar": {
             "outlinewidth": 0,
             "ticks": ""
            },
            "type": "contourcarpet"
           }
          ],
          "heatmap": [
           {
            "colorbar": {
             "outlinewidth": 0,
             "ticks": ""
            },
            "colorscale": [
             [
              0,
              "#0d0887"
             ],
             [
              0.1111111111111111,
              "#46039f"
             ],
             [
              0.2222222222222222,
              "#7201a8"
             ],
             [
              0.3333333333333333,
              "#9c179e"
             ],
             [
              0.4444444444444444,
              "#bd3786"
             ],
             [
              0.5555555555555556,
              "#d8576b"
             ],
             [
              0.6666666666666666,
              "#ed7953"
             ],
             [
              0.7777777777777778,
              "#fb9f3a"
             ],
             [
              0.8888888888888888,
              "#fdca26"
             ],
             [
              1,
              "#f0f921"
             ]
            ],
            "type": "heatmap"
           }
          ],
          "heatmapgl": [
           {
            "colorbar": {
             "outlinewidth": 0,
             "ticks": ""
            },
            "colorscale": [
             [
              0,
              "#0d0887"
             ],
             [
              0.1111111111111111,
              "#46039f"
             ],
             [
              0.2222222222222222,
              "#7201a8"
             ],
             [
              0.3333333333333333,
              "#9c179e"
             ],
             [
              0.4444444444444444,
              "#bd3786"
             ],
             [
              0.5555555555555556,
              "#d8576b"
             ],
             [
              0.6666666666666666,
              "#ed7953"
             ],
             [
              0.7777777777777778,
              "#fb9f3a"
             ],
             [
              0.8888888888888888,
              "#fdca26"
             ],
             [
              1,
              "#f0f921"
             ]
            ],
            "type": "heatmapgl"
           }
          ],
          "histogram": [
           {
            "marker": {
             "colorbar": {
              "outlinewidth": 0,
              "ticks": ""
             }
            },
            "type": "histogram"
           }
          ],
          "histogram2d": [
           {
            "colorbar": {
             "outlinewidth": 0,
             "ticks": ""
            },
            "colorscale": [
             [
              0,
              "#0d0887"
             ],
             [
              0.1111111111111111,
              "#46039f"
             ],
             [
              0.2222222222222222,
              "#7201a8"
             ],
             [
              0.3333333333333333,
              "#9c179e"
             ],
             [
              0.4444444444444444,
              "#bd3786"
             ],
             [
              0.5555555555555556,
              "#d8576b"
             ],
             [
              0.6666666666666666,
              "#ed7953"
             ],
             [
              0.7777777777777778,
              "#fb9f3a"
             ],
             [
              0.8888888888888888,
              "#fdca26"
             ],
             [
              1,
              "#f0f921"
             ]
            ],
            "type": "histogram2d"
           }
          ],
          "histogram2dcontour": [
           {
            "colorbar": {
             "outlinewidth": 0,
             "ticks": ""
            },
            "colorscale": [
             [
              0,
              "#0d0887"
             ],
             [
              0.1111111111111111,
              "#46039f"
             ],
             [
              0.2222222222222222,
              "#7201a8"
             ],
             [
              0.3333333333333333,
              "#9c179e"
             ],
             [
              0.4444444444444444,
              "#bd3786"
             ],
             [
              0.5555555555555556,
              "#d8576b"
             ],
             [
              0.6666666666666666,
              "#ed7953"
             ],
             [
              0.7777777777777778,
              "#fb9f3a"
             ],
             [
              0.8888888888888888,
              "#fdca26"
             ],
             [
              1,
              "#f0f921"
             ]
            ],
            "type": "histogram2dcontour"
           }
          ],
          "mesh3d": [
           {
            "colorbar": {
             "outlinewidth": 0,
             "ticks": ""
            },
            "type": "mesh3d"
           }
          ],
          "parcoords": [
           {
            "line": {
             "colorbar": {
              "outlinewidth": 0,
              "ticks": ""
             }
            },
            "type": "parcoords"
           }
          ],
          "pie": [
           {
            "automargin": true,
            "type": "pie"
           }
          ],
          "scatter": [
           {
            "marker": {
             "colorbar": {
              "outlinewidth": 0,
              "ticks": ""
             }
            },
            "type": "scatter"
           }
          ],
          "scatter3d": [
           {
            "line": {
             "colorbar": {
              "outlinewidth": 0,
              "ticks": ""
             }
            },
            "marker": {
             "colorbar": {
              "outlinewidth": 0,
              "ticks": ""
             }
            },
            "type": "scatter3d"
           }
          ],
          "scattercarpet": [
           {
            "marker": {
             "colorbar": {
              "outlinewidth": 0,
              "ticks": ""
             }
            },
            "type": "scattercarpet"
           }
          ],
          "scattergeo": [
           {
            "marker": {
             "colorbar": {
              "outlinewidth": 0,
              "ticks": ""
             }
            },
            "type": "scattergeo"
           }
          ],
          "scattergl": [
           {
            "marker": {
             "colorbar": {
              "outlinewidth": 0,
              "ticks": ""
             }
            },
            "type": "scattergl"
           }
          ],
          "scattermapbox": [
           {
            "marker": {
             "colorbar": {
              "outlinewidth": 0,
              "ticks": ""
             }
            },
            "type": "scattermapbox"
           }
          ],
          "scatterpolar": [
           {
            "marker": {
             "colorbar": {
              "outlinewidth": 0,
              "ticks": ""
             }
            },
            "type": "scatterpolar"
           }
          ],
          "scatterpolargl": [
           {
            "marker": {
             "colorbar": {
              "outlinewidth": 0,
              "ticks": ""
             }
            },
            "type": "scatterpolargl"
           }
          ],
          "scatterternary": [
           {
            "marker": {
             "colorbar": {
              "outlinewidth": 0,
              "ticks": ""
             }
            },
            "type": "scatterternary"
           }
          ],
          "surface": [
           {
            "colorbar": {
             "outlinewidth": 0,
             "ticks": ""
            },
            "colorscale": [
             [
              0,
              "#0d0887"
             ],
             [
              0.1111111111111111,
              "#46039f"
             ],
             [
              0.2222222222222222,
              "#7201a8"
             ],
             [
              0.3333333333333333,
              "#9c179e"
             ],
             [
              0.4444444444444444,
              "#bd3786"
             ],
             [
              0.5555555555555556,
              "#d8576b"
             ],
             [
              0.6666666666666666,
              "#ed7953"
             ],
             [
              0.7777777777777778,
              "#fb9f3a"
             ],
             [
              0.8888888888888888,
              "#fdca26"
             ],
             [
              1,
              "#f0f921"
             ]
            ],
            "type": "surface"
           }
          ],
          "table": [
           {
            "cells": {
             "fill": {
              "color": "#EBF0F8"
             },
             "line": {
              "color": "white"
             }
            },
            "header": {
             "fill": {
              "color": "#C8D4E3"
             },
             "line": {
              "color": "white"
             }
            },
            "type": "table"
           }
          ]
         },
         "layout": {
          "annotationdefaults": {
           "arrowcolor": "#2a3f5f",
           "arrowhead": 0,
           "arrowwidth": 1
          },
          "autotypenumbers": "strict",
          "coloraxis": {
           "colorbar": {
            "outlinewidth": 0,
            "ticks": ""
           }
          },
          "colorscale": {
           "diverging": [
            [
             0,
             "#8e0152"
            ],
            [
             0.1,
             "#c51b7d"
            ],
            [
             0.2,
             "#de77ae"
            ],
            [
             0.3,
             "#f1b6da"
            ],
            [
             0.4,
             "#fde0ef"
            ],
            [
             0.5,
             "#f7f7f7"
            ],
            [
             0.6,
             "#e6f5d0"
            ],
            [
             0.7,
             "#b8e186"
            ],
            [
             0.8,
             "#7fbc41"
            ],
            [
             0.9,
             "#4d9221"
            ],
            [
             1,
             "#276419"
            ]
           ],
           "sequential": [
            [
             0,
             "#0d0887"
            ],
            [
             0.1111111111111111,
             "#46039f"
            ],
            [
             0.2222222222222222,
             "#7201a8"
            ],
            [
             0.3333333333333333,
             "#9c179e"
            ],
            [
             0.4444444444444444,
             "#bd3786"
            ],
            [
             0.5555555555555556,
             "#d8576b"
            ],
            [
             0.6666666666666666,
             "#ed7953"
            ],
            [
             0.7777777777777778,
             "#fb9f3a"
            ],
            [
             0.8888888888888888,
             "#fdca26"
            ],
            [
             1,
             "#f0f921"
            ]
           ],
           "sequentialminus": [
            [
             0,
             "#0d0887"
            ],
            [
             0.1111111111111111,
             "#46039f"
            ],
            [
             0.2222222222222222,
             "#7201a8"
            ],
            [
             0.3333333333333333,
             "#9c179e"
            ],
            [
             0.4444444444444444,
             "#bd3786"
            ],
            [
             0.5555555555555556,
             "#d8576b"
            ],
            [
             0.6666666666666666,
             "#ed7953"
            ],
            [
             0.7777777777777778,
             "#fb9f3a"
            ],
            [
             0.8888888888888888,
             "#fdca26"
            ],
            [
             1,
             "#f0f921"
            ]
           ]
          },
          "colorway": [
           "#636efa",
           "#EF553B",
           "#00cc96",
           "#ab63fa",
           "#FFA15A",
           "#19d3f3",
           "#FF6692",
           "#B6E880",
           "#FF97FF",
           "#FECB52"
          ],
          "font": {
           "color": "#2a3f5f"
          },
          "geo": {
           "bgcolor": "white",
           "lakecolor": "white",
           "landcolor": "#E5ECF6",
           "showlakes": true,
           "showland": true,
           "subunitcolor": "white"
          },
          "hoverlabel": {
           "align": "left"
          },
          "hovermode": "closest",
          "mapbox": {
           "style": "light"
          },
          "paper_bgcolor": "white",
          "plot_bgcolor": "#E5ECF6",
          "polar": {
           "angularaxis": {
            "gridcolor": "white",
            "linecolor": "white",
            "ticks": ""
           },
           "bgcolor": "#E5ECF6",
           "radialaxis": {
            "gridcolor": "white",
            "linecolor": "white",
            "ticks": ""
           }
          },
          "scene": {
           "xaxis": {
            "backgroundcolor": "#E5ECF6",
            "gridcolor": "white",
            "gridwidth": 2,
            "linecolor": "white",
            "showbackground": true,
            "ticks": "",
            "zerolinecolor": "white"
           },
           "yaxis": {
            "backgroundcolor": "#E5ECF6",
            "gridcolor": "white",
            "gridwidth": 2,
            "linecolor": "white",
            "showbackground": true,
            "ticks": "",
            "zerolinecolor": "white"
           },
           "zaxis": {
            "backgroundcolor": "#E5ECF6",
            "gridcolor": "white",
            "gridwidth": 2,
            "linecolor": "white",
            "showbackground": true,
            "ticks": "",
            "zerolinecolor": "white"
           }
          },
          "shapedefaults": {
           "line": {
            "color": "#2a3f5f"
           }
          },
          "ternary": {
           "aaxis": {
            "gridcolor": "white",
            "linecolor": "white",
            "ticks": ""
           },
           "baxis": {
            "gridcolor": "white",
            "linecolor": "white",
            "ticks": ""
           },
           "bgcolor": "#E5ECF6",
           "caxis": {
            "gridcolor": "white",
            "linecolor": "white",
            "ticks": ""
           }
          },
          "title": {
           "x": 0.05
          },
          "xaxis": {
           "automargin": true,
           "gridcolor": "white",
           "linecolor": "white",
           "ticks": "",
           "title": {
            "standoff": 15
           },
           "zerolinecolor": "white",
           "zerolinewidth": 2
          },
          "yaxis": {
           "automargin": true,
           "gridcolor": "white",
           "linecolor": "white",
           "ticks": "",
           "title": {
            "standoff": 15
           },
           "zerolinecolor": "white",
           "zerolinewidth": 2
          }
         }
        },
        "xaxis": {
         "anchor": "y",
         "domain": [
          0,
          1
         ],
         "title": {
          "text": "V.SLPOG.act.PRC"
         }
        },
        "yaxis": {
         "anchor": "x",
         "domain": [
          0,
          1
         ],
         "title": {
          "text": "predict"
         }
        }
       }
      }
     },
     "metadata": {},
     "output_type": "display_data"
    }
   ],
   "source": [
    "px.scatter(X_train_actzeros, x='V.SLPOG.act.PRC',\n",
    "            y='predict',\n",
    "            color='predict',\n",
    "            hover_data=['V.RUA.act.deg'],\n",
    "            labels={'x':'V.SOG.act.kn','y':'predict','color':'V.RUA.act.deg'})"
   ]
  },
  {
   "cell_type": "code",
   "execution_count": 41,
   "metadata": {},
   "outputs": [
    {
     "data": {
      "text/plain": [
       "Index(['ME.FTS.act.dgC', 'HFO.GME.act.nodim', 'V.COG.act.deg', 'V.SOG.act.kn',\n",
       "       'V.RUA.act.deg', 'V.GPSLAT.act.deg', 'V.GPSLON.act.deg',\n",
       "       'WEA.WDT.act.deg', 'WEA.WST.act.mPs', 'V.SLPOG.act.PRC',\n",
       "       'DDM.TRIM.act.m', 'DDM.DRAFT.act.m', 'Wave_Height_m_daily',\n",
       "       'True_Wave_Dir_deg_daily', 'passage_type_Europe>13.5kn',\n",
       "       'passage_type_SouthAmerica>13.5kn', 'actual', 'predict'],\n",
       "      dtype='object')"
      ]
     },
     "execution_count": 41,
     "metadata": {},
     "output_type": "execute_result"
    }
   ],
   "source": [
    "X_train_actzeros.columns"
   ]
  },
  {
   "cell_type": "code",
   "execution_count": 42,
   "metadata": {},
   "outputs": [
    {
     "data": {
      "text/plain": [
       "<seaborn.axisgrid.PairGrid at 0x133ad1a30>"
      ]
     },
     "execution_count": 42,
     "metadata": {},
     "output_type": "execute_result"
    },
    {
     "data": {
      "image/png": "[encoded data removed]",
      "text/plain": [
       "<Figure size 180x2160 with 12 Axes>"
      ]
     },
     "metadata": {},
     "output_type": "display_data"
    }
   ],
   "source": [
    "sns.pairplot(data=X_train_actzeros,\n",
    "                  x_vars=['predict'],\n",
    "                  y_vars=['ME.FTS.act.dgC', 'HFO.GME.act.nodim', 'V.COG.act.deg', 'V.SOG.act.kn',\n",
    "       'V.RUA.act.deg','WEA.WDT.act.deg', 'WEA.WST.act.mPs', 'V.SLPOG.act.PRC',\n",
    "        'DDM.TRIM.act.m', 'DDM.DRAFT.act.m',\n",
    "       'Wave_Height_m_daily', 'True_Wave_Dir_deg_daily'])"
   ]
  },
  {
   "cell_type": "markdown",
   "metadata": {},
   "source": [
    "## Understanding what happens when the residuals are bigger than "
   ]
  },
  {
   "cell_type": "code",
   "execution_count": 43,
   "metadata": {},
   "outputs": [
    {
     "data": {
      "text/html": [
       "<div>\n",
       "<style scoped>\n",
       "    .dataframe tbody tr th:only-of-type {\n",
       "        vertical-align: middle;\n",
       "    }\n",
       "\n",
       "    .dataframe tbody tr th {\n",
       "        vertical-align: top;\n",
       "    }\n",
       "\n",
       "    .dataframe thead th {\n",
       "        text-align: right;\n",
       "    }\n",
       "</style>\n",
       "<table border=\"1\" class=\"dataframe\">\n",
       "  <thead>\n",
       "    <tr style=\"text-align: right;\">\n",
       "      <th></th>\n",
       "      <th>ME.FTS.act.dgC</th>\n",
       "      <th>HFO.GME.act.nodim</th>\n",
       "      <th>V.COG.act.deg</th>\n",
       "      <th>V.SOG.act.kn</th>\n",
       "      <th>V.RUA.act.deg</th>\n",
       "      <th>V.GPSLAT.act.deg</th>\n",
       "      <th>V.GPSLON.act.deg</th>\n",
       "      <th>WEA.WDT.act.deg</th>\n",
       "      <th>WEA.WST.act.mPs</th>\n",
       "      <th>V.SLPOG.act.PRC</th>\n",
       "      <th>DDM.TRIM.act.m</th>\n",
       "      <th>DDM.DRAFT.act.m</th>\n",
       "      <th>Wave_Height_m_daily</th>\n",
       "      <th>True_Wave_Dir_deg_daily</th>\n",
       "      <th>passage_type_Europe&gt;13.5kn</th>\n",
       "      <th>passage_type_SouthAmerica&gt;13.5kn</th>\n",
       "      <th>actual</th>\n",
       "      <th>predict</th>\n",
       "      <th>residuals</th>\n",
       "    </tr>\n",
       "  </thead>\n",
       "  <tbody>\n",
       "    <tr>\n",
       "      <th>125041</th>\n",
       "      <td>72.960907</td>\n",
       "      <td>1.0</td>\n",
       "      <td>231.100006</td>\n",
       "      <td>16.493999</td>\n",
       "      <td>-1.4</td>\n",
       "      <td>3.078413</td>\n",
       "      <td>-78.219391</td>\n",
       "      <td>283.961182</td>\n",
       "      <td>9.548179</td>\n",
       "      <td>9.162142</td>\n",
       "      <td>0.6780</td>\n",
       "      <td>-0.0530</td>\n",
       "      <td>1.0</td>\n",
       "      <td>9.0</td>\n",
       "      <td>0</td>\n",
       "      <td>1</td>\n",
       "      <td>2.826419</td>\n",
       "      <td>2.854786</td>\n",
       "      <td>0.028367</td>\n",
       "    </tr>\n",
       "    <tr>\n",
       "      <th>150425</th>\n",
       "      <td>74.222260</td>\n",
       "      <td>1.0</td>\n",
       "      <td>324.799988</td>\n",
       "      <td>20.767000</td>\n",
       "      <td>0.4</td>\n",
       "      <td>-7.466093</td>\n",
       "      <td>-80.456139</td>\n",
       "      <td>139.557678</td>\n",
       "      <td>4.445702</td>\n",
       "      <td>2.856872</td>\n",
       "      <td>-0.3446</td>\n",
       "      <td>-0.0156</td>\n",
       "      <td>2.0</td>\n",
       "      <td>349.0</td>\n",
       "      <td>0</td>\n",
       "      <td>1</td>\n",
       "      <td>4.237973</td>\n",
       "      <td>4.366254</td>\n",
       "      <td>0.128281</td>\n",
       "    </tr>\n",
       "    <tr>\n",
       "      <th>76412</th>\n",
       "      <td>69.997925</td>\n",
       "      <td>1.0</td>\n",
       "      <td>45.200001</td>\n",
       "      <td>19.313000</td>\n",
       "      <td>-2.4</td>\n",
       "      <td>22.248396</td>\n",
       "      <td>-64.376839</td>\n",
       "      <td>96.974754</td>\n",
       "      <td>9.281954</td>\n",
       "      <td>6.640728</td>\n",
       "      <td>2.2520</td>\n",
       "      <td>0.0259</td>\n",
       "      <td>1.5</td>\n",
       "      <td>259.0</td>\n",
       "      <td>0</td>\n",
       "      <td>0</td>\n",
       "      <td>4.269421</td>\n",
       "      <td>4.216493</td>\n",
       "      <td>-0.052928</td>\n",
       "    </tr>\n",
       "    <tr>\n",
       "      <th>50197</th>\n",
       "      <td>73.708984</td>\n",
       "      <td>1.0</td>\n",
       "      <td>325.600006</td>\n",
       "      <td>17.613001</td>\n",
       "      <td>1.2</td>\n",
       "      <td>-22.008074</td>\n",
       "      <td>-71.141800</td>\n",
       "      <td>190.271545</td>\n",
       "      <td>6.308152</td>\n",
       "      <td>3.859242</td>\n",
       "      <td>-0.2406</td>\n",
       "      <td>-0.1348</td>\n",
       "      <td>1.0</td>\n",
       "      <td>329.0</td>\n",
       "      <td>0</td>\n",
       "      <td>1</td>\n",
       "      <td>2.931184</td>\n",
       "      <td>2.687166</td>\n",
       "      <td>-0.244018</td>\n",
       "    </tr>\n",
       "    <tr>\n",
       "      <th>46992</th>\n",
       "      <td>69.890289</td>\n",
       "      <td>1.0</td>\n",
       "      <td>162.399994</td>\n",
       "      <td>16.945000</td>\n",
       "      <td>0.3</td>\n",
       "      <td>-12.888535</td>\n",
       "      <td>-77.041855</td>\n",
       "      <td>119.915070</td>\n",
       "      <td>5.312985</td>\n",
       "      <td>9.662910</td>\n",
       "      <td>-0.1798</td>\n",
       "      <td>0.2261</td>\n",
       "      <td>0.1</td>\n",
       "      <td>339.0</td>\n",
       "      <td>0</td>\n",
       "      <td>1</td>\n",
       "      <td>3.042964</td>\n",
       "      <td>3.034317</td>\n",
       "      <td>-0.008648</td>\n",
       "    </tr>\n",
       "  </tbody>\n",
       "</table>\n",
       "</div>"
      ],
      "text/plain": [
       "        ME.FTS.act.dgC  HFO.GME.act.nodim  V.COG.act.deg  V.SOG.act.kn  \\\n",
       "125041       72.960907                1.0     231.100006     16.493999   \n",
       "150425       74.222260                1.0     324.799988     20.767000   \n",
       "76412        69.997925                1.0      45.200001     19.313000   \n",
       "50197        73.708984                1.0     325.600006     17.613001   \n",
       "46992        69.890289                1.0     162.399994     16.945000   \n",
       "\n",
       "        V.RUA.act.deg  V.GPSLAT.act.deg  V.GPSLON.act.deg  WEA.WDT.act.deg  \\\n",
       "125041           -1.4          3.078413        -78.219391       283.961182   \n",
       "150425            0.4         -7.466093        -80.456139       139.557678   \n",
       "76412            -2.4         22.248396        -64.376839        96.974754   \n",
       "50197             1.2        -22.008074        -71.141800       190.271545   \n",
       "46992             0.3        -12.888535        -77.041855       119.915070   \n",
       "\n",
       "        WEA.WST.act.mPs  V.SLPOG.act.PRC  DDM.TRIM.act.m  DDM.DRAFT.act.m  \\\n",
       "125041         9.548179         9.162142          0.6780          -0.0530   \n",
       "150425         4.445702         2.856872         -0.3446          -0.0156   \n",
       "76412          9.281954         6.640728          2.2520           0.0259   \n",
       "50197          6.308152         3.859242         -0.2406          -0.1348   \n",
       "46992          5.312985         9.662910         -0.1798           0.2261   \n",
       "\n",
       "        Wave_Height_m_daily  True_Wave_Dir_deg_daily  \\\n",
       "125041                  1.0                      9.0   \n",
       "150425                  2.0                    349.0   \n",
       "76412                   1.5                    259.0   \n",
       "50197                   1.0                    329.0   \n",
       "46992                   0.1                    339.0   \n",
       "\n",
       "        passage_type_Europe>13.5kn  passage_type_SouthAmerica>13.5kn  \\\n",
       "125041                           0                                 1   \n",
       "150425                           0                                 1   \n",
       "76412                            0                                 0   \n",
       "50197                            0                                 1   \n",
       "46992                            0                                 1   \n",
       "\n",
       "          actual   predict  residuals  \n",
       "125041  2.826419  2.854786   0.028367  \n",
       "150425  4.237973  4.366254   0.128281  \n",
       "76412   4.269421  4.216493  -0.052928  \n",
       "50197   2.931184  2.687166  -0.244018  \n",
       "46992   3.042964  3.034317  -0.008648  "
      ]
     },
     "execution_count": 43,
     "metadata": {},
     "output_type": "execute_result"
    }
   ],
   "source": [
    "X_train_res = X_train.copy()\n",
    "X_train_res['actual'] = y_train\n",
    "X_train_res['predict'] = y_pred_train\n",
    "X_train_res['residuals'] = residuals_train\n",
    "X_train_res.head()"
   ]
  },
  {
   "cell_type": "code",
   "execution_count": 44,
   "metadata": {},
   "outputs": [],
   "source": [
    "X_train_res = X_train_res[(X_train_res['residuals'] > 1) | (X_train_res['residuals'] <  -1)]"
   ]
  },
  {
   "cell_type": "code",
   "execution_count": 45,
   "metadata": {},
   "outputs": [
    {
     "data": {
      "application/vnd.plotly.v1+json": {
       "config": {
        "plotlyServerURL": "https://plot.ly"
       },
       "data": [
        {
         "customdata": [
          [
           6.699999809265137
          ],
          [
           3.299999952316284
          ],
          [
           -0.6000000238418579
          ],
          [
           -3.299999952316284
          ],
          [
           1.600000023841858
          ],
          [
           -0.3000000119209289
          ],
          [
           20.100000381469727
          ],
          [
           0.800000011920929
          ],
          [
           13.899999618530272
          ],
          [
           -2
          ],
          [
           -1.2999999523162842
          ],
          [
           -3.700000047683716
          ],
          [
           4.800000190734863
          ],
          [
           -1
          ],
          [
           1.899999976158142
          ],
          [
           -1
          ],
          [
           2.799999952316284
          ],
          [
           -0.800000011920929
          ],
          [
           -0.699999988079071
          ],
          [
           -4.699999809265137
          ],
          [
           1.2000000476837158
          ],
          [
           0
          ],
          [
           1
          ],
          [
           -2.400000095367432
          ],
          [
           -1.2999999523162842
          ],
          [
           -4.5
          ],
          [
           -18.200000762939453
          ],
          [
           0.3000000119209289
          ]
         ],
         "hovertemplate": "actual=%{x}<br>predict=%{y}<br>V.RUA.act.deg=%{customdata[0]}<br>V.SOG.act.kn=%{marker.color}<extra></extra>",
         "legendgroup": "",
         "marker": {
          "color": [
           13.612000465393066,
           14.916999816894531,
           17.375999450683594,
           17.35700035095215,
           18.36800003051757,
           14.935999870300291,
           13.751999855041504,
           23.71199989318848,
           13.531000137329102,
           15.401000022888184,
           15.918999671936035,
           14.001999855041504,
           14.30500030517578,
           16.01099967956543,
           14.282999992370604,
           17.69099998474121,
           16.173999786376953,
           17.28499984741211,
           17.326000213623047,
           17.48699951171875,
           13.718999862670898,
           14.071999549865724,
           15.175000190734863,
           16.1299991607666,
           23.38500022888184,
           17.39299964904785,
           15.744000434875488,
           13.947999954223633
          ],
          "coloraxis": "coloraxis",
          "symbol": "circle"
         },
         "mode": "markers",
         "name": "",
         "orientation": "v",
         "showlegend": false,
         "type": "scatter",
         "x": [
          0.1629706174135208,
          0.629231333732605,
          3.538053035736084,
          3.904917001724243,
          0,
          2.604624032974243,
          0.2479984909296035,
          3.333033561706543,
          0.97873717546463,
          2.146252393722534,
          0.290996640920639,
          0.9619485139846802,
          0.1366021037101745,
          3.869230270385742,
          1.2242019176483154,
          4.456775665283203,
          1.514792799949646,
          1.9704338312149048,
          4.806029319763184,
          4.587557315826416,
          0,
          0.795035183429718,
          0.3479833006858825,
          0.7495061159133911,
          3.6681745052337646,
          4.615406036376953,
          0.3852227032184601,
          0.6926819682121277
         ],
         "xaxis": "x",
         "y": [
          2.0258944721355068,
          1.6703036997240925,
          2.286658357495991,
          2.4070590844551285,
          3.5720798831707476,
          1.595069874687642,
          2.208323390700527,
          6.838500628412961,
          2.331420587258746,
          3.346548988315438,
          2.052300284397951,
          2.454412877164721,
          1.3878435914794798,
          0,
          2.3676995697961605,
          3.3215573465936883,
          0.3758407556911223,
          3.002472733896971,
          3.4374476597703376,
          3.4467155788464092,
          1.013363162154807,
          1.904505369106051,
          1.9036409525040066,
          1.9634160580523146,
          5.877582432568817,
          3.4861749296595104,
          2.4541959888936073,
          1.9125052956220152
         ],
         "yaxis": "y"
        }
       ],
       "layout": {
        "coloraxis": {
         "colorbar": {
          "title": {
           "text": "V.SOG.act.kn"
          }
         },
         "colorscale": [
          [
           0,
           "#0d0887"
          ],
          [
           0.1111111111111111,
           "#46039f"
          ],
          [
           0.2222222222222222,
           "#7201a8"
          ],
          [
           0.3333333333333333,
           "#9c179e"
          ],
          [
           0.4444444444444444,
           "#bd3786"
          ],
          [
           0.5555555555555556,
           "#d8576b"
          ],
          [
           0.6666666666666666,
           "#ed7953"
          ],
          [
           0.7777777777777778,
           "#fb9f3a"
          ],
          [
           0.8888888888888888,
           "#fdca26"
          ],
          [
           1,
           "#f0f921"
          ]
         ]
        },
        "legend": {
         "tracegroupgap": 0
        },
        "margin": {
         "t": 60
        },
        "template": {
         "data": {
          "bar": [
           {
            "error_x": {
             "color": "#2a3f5f"
            },
            "error_y": {
             "color": "#2a3f5f"
            },
            "marker": {
             "line": {
              "color": "#E5ECF6",
              "width": 0.5
             }
            },
            "type": "bar"
           }
          ],
          "barpolar": [
           {
            "marker": {
             "line": {
              "color": "#E5ECF6",
              "width": 0.5
             }
            },
            "type": "barpolar"
           }
          ],
          "carpet": [
           {
            "aaxis": {
             "endlinecolor": "#2a3f5f",
             "gridcolor": "white",
             "linecolor": "white",
             "minorgridcolor": "white",
             "startlinecolor": "#2a3f5f"
            },
            "baxis": {
             "endlinecolor": "#2a3f5f",
             "gridcolor": "white",
             "linecolor": "white",
             "minorgridcolor": "white",
             "startlinecolor": "#2a3f5f"
            },
            "type": "carpet"
           }
          ],
          "choropleth": [
           {
            "colorbar": {
             "outlinewidth": 0,
             "ticks": ""
            },
            "type": "choropleth"
           }
          ],
          "contour": [
           {
            "colorbar": {
             "outlinewidth": 0,
             "ticks": ""
            },
            "colorscale": [
             [
              0,
              "#0d0887"
             ],
             [
              0.1111111111111111,
              "#46039f"
             ],
             [
              0.2222222222222222,
              "#7201a8"
             ],
             [
              0.3333333333333333,
              "#9c179e"
             ],
             [
              0.4444444444444444,
              "#bd3786"
             ],
             [
              0.5555555555555556,
              "#d8576b"
             ],
             [
              0.6666666666666666,
              "#ed7953"
             ],
             [
              0.7777777777777778,
              "#fb9f3a"
             ],
             [
              0.8888888888888888,
              "#fdca26"
             ],
             [
              1,
              "#f0f921"
             ]
            ],
            "type": "contour"
           }
          ],
          "contourcarpet": [
           {
            "colorbar": {
             "outlinewidth": 0,
             "ticks": ""
            },
            "type": "contourcarpet"
           }
          ],
          "heatmap": [
           {
            "colorbar": {
             "outlinewidth": 0,
             "ticks": ""
            },
            "colorscale": [
             [
              0,
              "#0d0887"
             ],
             [
              0.1111111111111111,
              "#46039f"
             ],
             [
              0.2222222222222222,
              "#7201a8"
             ],
             [
              0.3333333333333333,
              "#9c179e"
             ],
             [
              0.4444444444444444,
              "#bd3786"
             ],
             [
              0.5555555555555556,
              "#d8576b"
             ],
             [
              0.6666666666666666,
              "#ed7953"
             ],
             [
              0.7777777777777778,
              "#fb9f3a"
             ],
             [
              0.8888888888888888,
              "#fdca26"
             ],
             [
              1,
              "#f0f921"
             ]
            ],
            "type": "heatmap"
           }
          ],
          "heatmapgl": [
           {
            "colorbar": {
             "outlinewidth": 0,
             "ticks": ""
            },
            "colorscale": [
             [
              0,
              "#0d0887"
             ],
             [
              0.1111111111111111,
              "#46039f"
             ],
             [
              0.2222222222222222,
              "#7201a8"
             ],
             [
              0.3333333333333333,
              "#9c179e"
             ],
             [
              0.4444444444444444,
              "#bd3786"
             ],
             [
              0.5555555555555556,
              "#d8576b"
             ],
             [
              0.6666666666666666,
              "#ed7953"
             ],
             [
              0.7777777777777778,
              "#fb9f3a"
             ],
             [
              0.8888888888888888,
              "#fdca26"
             ],
             [
              1,
              "#f0f921"
             ]
            ],
            "type": "heatmapgl"
           }
          ],
          "histogram": [
           {
            "marker": {
             "colorbar": {
              "outlinewidth": 0,
              "ticks": ""
             }
            },
            "type": "histogram"
           }
          ],
          "histogram2d": [
           {
            "colorbar": {
             "outlinewidth": 0,
             "ticks": ""
            },
            "colorscale": [
             [
              0,
              "#0d0887"
             ],
             [
              0.1111111111111111,
              "#46039f"
             ],
             [
              0.2222222222222222,
              "#7201a8"
             ],
             [
              0.3333333333333333,
              "#9c179e"
             ],
             [
              0.4444444444444444,
              "#bd3786"
             ],
             [
              0.5555555555555556,
              "#d8576b"
             ],
             [
              0.6666666666666666,
              "#ed7953"
             ],
             [
              0.7777777777777778,
              "#fb9f3a"
             ],
             [
              0.8888888888888888,
              "#fdca26"
             ],
             [
              1,
              "#f0f921"
             ]
            ],
            "type": "histogram2d"
           }
          ],
          "histogram2dcontour": [
           {
            "colorbar": {
             "outlinewidth": 0,
             "ticks": ""
            },
            "colorscale": [
             [
              0,
              "#0d0887"
             ],
             [
              0.1111111111111111,
              "#46039f"
             ],
             [
              0.2222222222222222,
              "#7201a8"
             ],
             [
              0.3333333333333333,
              "#9c179e"
             ],
             [
              0.4444444444444444,
              "#bd3786"
             ],
             [
              0.5555555555555556,
              "#d8576b"
             ],
             [
              0.6666666666666666,
              "#ed7953"
             ],
             [
              0.7777777777777778,
              "#fb9f3a"
             ],
             [
              0.8888888888888888,
              "#fdca26"
             ],
             [
              1,
              "#f0f921"
             ]
            ],
            "type": "histogram2dcontour"
           }
          ],
          "mesh3d": [
           {
            "colorbar": {
             "outlinewidth": 0,
             "ticks": ""
            },
            "type": "mesh3d"
           }
          ],
          "parcoords": [
           {
            "line": {
             "colorbar": {
              "outlinewidth": 0,
              "ticks": ""
             }
            },
            "type": "parcoords"
           }
          ],
          "pie": [
           {
            "automargin": true,
            "type": "pie"
           }
          ],
          "scatter": [
           {
            "marker": {
             "colorbar": {
              "outlinewidth": 0,
              "ticks": ""
             }
            },
            "type": "scatter"
           }
          ],
          "scatter3d": [
           {
            "line": {
             "colorbar": {
              "outlinewidth": 0,
              "ticks": ""
             }
            },
            "marker": {
             "colorbar": {
              "outlinewidth": 0,
              "ticks": ""
             }
            },
            "type": "scatter3d"
           }
          ],
          "scattercarpet": [
           {
            "marker": {
             "colorbar": {
              "outlinewidth": 0,
              "ticks": ""
             }
            },
            "type": "scattercarpet"
           }
          ],
          "scattergeo": [
           {
            "marker": {
             "colorbar": {
              "outlinewidth": 0,
              "ticks": ""
             }
            },
            "type": "scattergeo"
           }
          ],
          "scattergl": [
           {
            "marker": {
             "colorbar": {
              "outlinewidth": 0,
              "ticks": ""
             }
            },
            "type": "scattergl"
           }
          ],
          "scattermapbox": [
           {
            "marker": {
             "colorbar": {
              "outlinewidth": 0,
              "ticks": ""
             }
            },
            "type": "scattermapbox"
           }
          ],
          "scatterpolar": [
           {
            "marker": {
             "colorbar": {
              "outlinewidth": 0,
              "ticks": ""
             }
            },
            "type": "scatterpolar"
           }
          ],
          "scatterpolargl": [
           {
            "marker": {
             "colorbar": {
              "outlinewidth": 0,
              "ticks": ""
             }
            },
            "type": "scatterpolargl"
           }
          ],
          "scatterternary": [
           {
            "marker": {
             "colorbar": {
              "outlinewidth": 0,
              "ticks": ""
             }
            },
            "type": "scatterternary"
           }
          ],
          "surface": [
           {
            "colorbar": {
             "outlinewidth": 0,
             "ticks": ""
            },
            "colorscale": [
             [
              0,
              "#0d0887"
             ],
             [
              0.1111111111111111,
              "#46039f"
             ],
             [
              0.2222222222222222,
              "#7201a8"
             ],
             [
              0.3333333333333333,
              "#9c179e"
             ],
             [
              0.4444444444444444,
              "#bd3786"
             ],
             [
              0.5555555555555556,
              "#d8576b"
             ],
             [
              0.6666666666666666,
              "#ed7953"
             ],
             [
              0.7777777777777778,
              "#fb9f3a"
             ],
             [
              0.8888888888888888,
              "#fdca26"
             ],
             [
              1,
              "#f0f921"
             ]
            ],
            "type": "surface"
           }
          ],
          "table": [
           {
            "cells": {
             "fill": {
              "color": "#EBF0F8"
             },
             "line": {
              "color": "white"
             }
            },
            "header": {
             "fill": {
              "color": "#C8D4E3"
             },
             "line": {
              "color": "white"
             }
            },
            "type": "table"
           }
          ]
         },
         "layout": {
          "annotationdefaults": {
           "arrowcolor": "#2a3f5f",
           "arrowhead": 0,
           "arrowwidth": 1
          },
          "autotypenumbers": "strict",
          "coloraxis": {
           "colorbar": {
            "outlinewidth": 0,
            "ticks": ""
           }
          },
          "colorscale": {
           "diverging": [
            [
             0,
             "#8e0152"
            ],
            [
             0.1,
             "#c51b7d"
            ],
            [
             0.2,
             "#de77ae"
            ],
            [
             0.3,
             "#f1b6da"
            ],
            [
             0.4,
             "#fde0ef"
            ],
            [
             0.5,
             "#f7f7f7"
            ],
            [
             0.6,
             "#e6f5d0"
            ],
            [
             0.7,
             "#b8e186"
            ],
            [
             0.8,
             "#7fbc41"
            ],
            [
             0.9,
             "#4d9221"
            ],
            [
             1,
             "#276419"
            ]
           ],
           "sequential": [
            [
             0,
             "#0d0887"
            ],
            [
             0.1111111111111111,
             "#46039f"
            ],
            [
             0.2222222222222222,
             "#7201a8"
            ],
            [
             0.3333333333333333,
             "#9c179e"
            ],
            [
             0.4444444444444444,
             "#bd3786"
            ],
            [
             0.5555555555555556,
             "#d8576b"
            ],
            [
             0.6666666666666666,
             "#ed7953"
            ],
            [
             0.7777777777777778,
             "#fb9f3a"
            ],
            [
             0.8888888888888888,
             "#fdca26"
            ],
            [
             1,
             "#f0f921"
            ]
           ],
           "sequentialminus": [
            [
             0,
             "#0d0887"
            ],
            [
             0.1111111111111111,
             "#46039f"
            ],
            [
             0.2222222222222222,
             "#7201a8"
            ],
            [
             0.3333333333333333,
             "#9c179e"
            ],
            [
             0.4444444444444444,
             "#bd3786"
            ],
            [
             0.5555555555555556,
             "#d8576b"
            ],
            [
             0.6666666666666666,
             "#ed7953"
            ],
            [
             0.7777777777777778,
             "#fb9f3a"
            ],
            [
             0.8888888888888888,
             "#fdca26"
            ],
            [
             1,
             "#f0f921"
            ]
           ]
          },
          "colorway": [
           "#636efa",
           "#EF553B",
           "#00cc96",
           "#ab63fa",
           "#FFA15A",
           "#19d3f3",
           "#FF6692",
           "#B6E880",
           "#FF97FF",
           "#FECB52"
          ],
          "font": {
           "color": "#2a3f5f"
          },
          "geo": {
           "bgcolor": "white",
           "lakecolor": "white",
           "landcolor": "#E5ECF6",
           "showlakes": true,
           "showland": true,
           "subunitcolor": "white"
          },
          "hoverlabel": {
           "align": "left"
          },
          "hovermode": "closest",
          "mapbox": {
           "style": "light"
          },
          "paper_bgcolor": "white",
          "plot_bgcolor": "#E5ECF6",
          "polar": {
           "angularaxis": {
            "gridcolor": "white",
            "linecolor": "white",
            "ticks": ""
           },
           "bgcolor": "#E5ECF6",
           "radialaxis": {
            "gridcolor": "white",
            "linecolor": "white",
            "ticks": ""
           }
          },
          "scene": {
           "xaxis": {
            "backgroundcolor": "#E5ECF6",
            "gridcolor": "white",
            "gridwidth": 2,
            "linecolor": "white",
            "showbackground": true,
            "ticks": "",
            "zerolinecolor": "white"
           },
           "yaxis": {
            "backgroundcolor": "#E5ECF6",
            "gridcolor": "white",
            "gridwidth": 2,
            "linecolor": "white",
            "showbackground": true,
            "ticks": "",
            "zerolinecolor": "white"
           },
           "zaxis": {
            "backgroundcolor": "#E5ECF6",
            "gridcolor": "white",
            "gridwidth": 2,
            "linecolor": "white",
            "showbackground": true,
            "ticks": "",
            "zerolinecolor": "white"
           }
          },
          "shapedefaults": {
           "line": {
            "color": "#2a3f5f"
           }
          },
          "ternary": {
           "aaxis": {
            "gridcolor": "white",
            "linecolor": "white",
            "ticks": ""
           },
           "baxis": {
            "gridcolor": "white",
            "linecolor": "white",
            "ticks": ""
           },
           "bgcolor": "#E5ECF6",
           "caxis": {
            "gridcolor": "white",
            "linecolor": "white",
            "ticks": ""
           }
          },
          "title": {
           "x": 0.05
          },
          "xaxis": {
           "automargin": true,
           "gridcolor": "white",
           "linecolor": "white",
           "ticks": "",
           "title": {
            "standoff": 15
           },
           "zerolinecolor": "white",
           "zerolinewidth": 2
          },
          "yaxis": {
           "automargin": true,
           "gridcolor": "white",
           "linecolor": "white",
           "ticks": "",
           "title": {
            "standoff": 15
           },
           "zerolinecolor": "white",
           "zerolinewidth": 2
          }
         }
        },
        "xaxis": {
         "anchor": "y",
         "domain": [
          0,
          1
         ],
         "title": {
          "text": "actual"
         }
        },
        "yaxis": {
         "anchor": "x",
         "domain": [
          0,
          1
         ],
         "title": {
          "text": "predict"
         }
        }
       }
      }
     },
     "metadata": {},
     "output_type": "display_data"
    }
   ],
   "source": [
    "px.scatter(X_train_res, x='actual',\n",
    "            y='predict',\n",
    "            color='V.SOG.act.kn',\n",
    "            hover_data=['V.RUA.act.deg'],\n",
    "            labels={'x':'V.SOG.act.kn','y':'predict','color':'V.RUA.act.deg'})"
   ]
  },
  {
   "cell_type": "code",
   "execution_count": 46,
   "metadata": {},
   "outputs": [
    {
     "data": {
      "text/plain": [
       "<seaborn.axisgrid.PairGrid at 0x134a316a0>"
      ]
     },
     "execution_count": 46,
     "metadata": {},
     "output_type": "execute_result"
    },
    {
     "data": {
      "image/png": "[encoded data removed]",
      "text/plain": [
       "<Figure size 180x2160 with 12 Axes>"
      ]
     },
     "metadata": {},
     "output_type": "display_data"
    }
   ],
   "source": [
    "sns.pairplot(data=X_train_res,\n",
    "                  x_vars=['predict'],\n",
    "                  y_vars=['ME.FTS.act.dgC', 'HFO.GME.act.nodim', 'V.COG.act.deg', 'V.SOG.act.kn',\n",
    "       'V.RUA.act.deg','WEA.WDT.act.deg', 'WEA.WST.act.mPs', 'V.SLPOG.act.PRC',\n",
    "        'DDM.TRIM.act.m', 'DDM.DRAFT.act.m',\n",
    "       'Wave_Height_m_daily', 'True_Wave_Dir_deg_daily'])"
   ]
  },
  {
   "cell_type": "code",
   "execution_count": null,
   "metadata": {},
   "outputs": [],
   "source": []
  }
 ],
 "metadata": {
  "interpreter": {
   "hash": "aee8b7b246df8f9039afb4144a1f6fd8d2ca17a180786b69acc140d282b71a49"
  },
  "kernelspec": {
   "display_name": "Python 3.9.7 64-bit",
   "language": "python",
   "name": "python3"
  },
  "language_info": {
   "codemirror_mode": {
    "name": "ipython",
    "version": 3
   },
   "file_extension": ".py",
   "mimetype": "text/x-python",
   "name": "python",
   "nbconvert_exporter": "python",
   "pygments_lexer": "ipython3",
   "version": "3.9.4"
  },
  "orig_nbformat": 4
 },
 "nbformat": 4,
 "nbformat_minor": 2
}
